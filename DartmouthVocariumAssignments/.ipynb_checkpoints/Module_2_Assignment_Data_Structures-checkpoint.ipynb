{
 "cells": [
  {
   "cell_type": "markdown",
   "metadata": {
    "deletable": false,
    "editable": false,
    "nbgrader": {
     "grade": false,
     "locked": true,
     "solution": false
    }
   },
   "source": [
    "# Module 2 - Data Structures\n",
    "\n",
    "**_Authors: Favio Vázquez and Jessica Cervi_**\n",
    "\n",
    "### Index:\n",
    "\n",
    "- [Question 1](#Question-1)\n",
    "- [Question 2](#Question-2)\n",
    "- [Question 3](#Question-3)\n",
    "- [Question 4](#Question-4)\n",
    "- [Question 5](#Question-5)\n",
    "- [Question 6](#Question-6)\n",
    "- [Question 7](#Question-7)\n",
    "- [Question 8](#Question-8)\n",
    "- [Question 9](#Question-9)\n",
    "- [Question 10](#Question-10)\n",
    "- [Question 11](#Question-11)\n",
    "- [Question 12](#Question-12)\n",
    "- [Question 13](#Question-13)\n",
    "- [Question 14](#Question-14)\n",
    "- [Question 15](#Question-15)\n",
    "- [Question 16](#Question-16)\n",
    "- [Question 17](#Question-17)\n",
    "\n",
    "### Instructions:\n",
    "    \n",
    "Welcome to week 2. In this week, you learned about the basics of working with data in Python with Pandas and its companion libraries. You'll be working on several exercises about Pandas to test your abilities and apply your knowledge.\n",
    "\n",
    "Starting from the cell below, you'll have to fill in the blanks and solve the problems as requested. Remember to take your time and make sure that you are answering each question correctly!\n",
    "\n",
    "\n",
    "All the questions in the assigments will be graded automatically and you will have the chance to fix your solutions many times in order to get the expected output. Make sure to follow the steps carefully (and don't delete or change anything unless you're asked to).\n",
    "\n",
    "Below you can see the structure of the questions. In the markdown cell just before the question, you will see the question number and the description of what has been asked. \n",
    "\n",
    "Next, there is a code cell starting with the comment: `### GRADED`. This means that the cell will  be autograded.\n",
    "\n",
    "The line `###BEGIN SOLUTION` tells you where to write your solution. You can use as many auxiliary variables and additional codes as you need. Note that we have already initialized the answer variables that you will need for you final answer. These variables and assigned them to `None`. This is to avoid errors when typing the variable names that contain the results. You can replace the value `None` with the actual answer or redefine it below.\n",
    "\n",
    "You will see a second code cell with the autograded solution. **DO NOT CHANGE ANYTHING IN THAT CELL**\n",
    "\n",
    "Finally, you will be able to see the feedback for each of your question by opning the Grading Report that is generated everytime you submit an answer. There you will find useful links to video of this course that will help you solve the question."
   ]
  },
  {
   "cell_type": "markdown",
   "metadata": {
    "deletable": false,
    "editable": false,
    "nbgrader": {
     "grade": false,
     "locked": true,
     "solution": false
    }
   },
   "source": [
    "## Question 1\n",
    "Create a Pandas dataframe called `df` containing 3 columns named `id, name, last_name` and the values:\n",
    "\n",
    "| id | name  | last_name |\n",
    "|----|-------|-----------|\n",
    "| 1  | Peter | Homs      |\n",
    "| 2  | James | Miller    |\n",
    "| 3  | Mark  | Huldi     |"
   ]
  },
  {
   "cell_type": "code",
   "execution_count": 1,
   "metadata": {},
   "outputs": [
    {
     "name": "stdout",
     "output_type": "stream",
     "text": [
      "   id   name last_name\n",
      "0   1  Peter      Homs\n",
      "1   2  James    Miller\n",
      "2   3   Mark     Huldi\n"
     ]
    }
   ],
   "source": [
    "### GRADED\n",
    "import pandas as pd\n",
    "\n",
    "### YOUR SOLUTION HERE\n",
    "df = pd.DataFrame({\"id\":[1,2,3], \"name\":[\"Peter\",\"James\",\"Mark\"],\"last_name\":[\"Homs\",\"Miller\",\"Huldi\"]})\n",
    "print(df)\n",
    "###\n",
    "### YOUR CODE HERE\n",
    "###\n"
   ]
  },
  {
   "cell_type": "code",
   "execution_count": 2,
   "metadata": {
    "collapsed": true,
    "deletable": false,
    "editable": false,
    "nbgrader": {
     "grade": true,
     "grade_id": "Question 01",
     "locked": true,
     "points": "5",
     "solution": false
    }
   },
   "outputs": [],
   "source": [
    "###\n",
    "### AUTOGRADER TEST - DO NOT REMOVE\n",
    "###\n"
   ]
  },
  {
   "cell_type": "markdown",
   "metadata": {
    "deletable": false,
    "editable": false,
    "nbgrader": {
     "grade": false,
     "locked": true,
     "solution": false
    }
   },
   "source": [
    "## Question 2\n",
    "\n",
    "Take the dataframe `df` from question 1 and select the column `name` and assign it to a variable called `df_column`. Note: the new structure in `df_column` must also be a Pandas dataframe, not a Series object."
   ]
  },
  {
   "cell_type": "code",
   "execution_count": 3,
   "metadata": {},
   "outputs": [
    {
     "name": "stdout",
     "output_type": "stream",
     "text": [
      "    name\n",
      "0  Peter\n",
      "1  James\n",
      "2   Mark\n"
     ]
    }
   ],
   "source": [
    "### GRADED\n",
    "### YOUR SOLUTION HERE\n",
    "df_column = pd.DataFrame(df[\"name\"])\n",
    "print(df_column)\n",
    "\n",
    "###\n",
    "### YOUR CODE HERE\n",
    "###\n"
   ]
  },
  {
   "cell_type": "code",
   "execution_count": 4,
   "metadata": {
    "collapsed": true,
    "deletable": false,
    "editable": false,
    "nbgrader": {
     "grade": true,
     "grade_id": "Question 02",
     "locked": true,
     "points": "5",
     "solution": false
    }
   },
   "outputs": [],
   "source": [
    "###\n",
    "### AUTOGRADER TEST - DO NOT REMOVE\n",
    "###\n"
   ]
  },
  {
   "cell_type": "markdown",
   "metadata": {
    "deletable": false,
    "editable": false,
    "nbgrader": {
     "grade": false,
     "locked": true,
     "solution": false
    }
   },
   "source": [
    "## Question 3\n",
    "\n",
    "Take the dataframe `df` from question 1, select the first row and assign it to a variable called `df_first_row`. Next, select the last row and assign to a variable called `df_last_row`."
   ]
  },
  {
   "cell_type": "code",
   "execution_count": 5,
   "metadata": {},
   "outputs": [
    {
     "name": "stdout",
     "output_type": "stream",
     "text": [
      "id               1\n",
      "name         Peter\n",
      "last_name     Homs\n",
      "Name: 0, dtype: object\n",
      "id               3\n",
      "name          Mark\n",
      "last_name    Huldi\n",
      "Name: 2, dtype: object\n"
     ]
    }
   ],
   "source": [
    "### GRADED\n",
    "### YOUR SOLUTION HERE\n",
    "#print(df.head())\n",
    "\n",
    "df_first_row = (df.iloc[0])\n",
    "df_last_row = (df.iloc[-1])\n",
    "\n",
    "print(df_first_row)\n",
    "print(df_last_row)\n",
    "###\n",
    "### YOUR CODE HERE\n",
    "###\n"
   ]
  },
  {
   "cell_type": "code",
   "execution_count": 6,
   "metadata": {
    "collapsed": true,
    "deletable": false,
    "editable": false,
    "nbgrader": {
     "grade": true,
     "grade_id": "Question 03",
     "locked": true,
     "points": "5",
     "solution": false
    }
   },
   "outputs": [],
   "source": [
    "###\n",
    "### AUTOGRADER TEST - DO NOT REMOVE\n",
    "###\n"
   ]
  },
  {
   "cell_type": "markdown",
   "metadata": {
    "deletable": false,
    "editable": false,
    "nbgrader": {
     "grade": false,
     "locked": true,
     "solution": false
    }
   },
   "source": [
    "## Question 4\n",
    "\n",
    "Take the dataframe `df` from question 1 and rename the first column to `Name` and the second one to `Last_Name`."
   ]
  },
  {
   "cell_type": "code",
   "execution_count": 7,
   "metadata": {},
   "outputs": [
    {
     "name": "stdout",
     "output_type": "stream",
     "text": [
      "   id   Name Last_Name\n",
      "0   1  Peter      Homs\n",
      "1   2  James    Miller\n",
      "2   3   Mark     Huldi\n"
     ]
    }
   ],
   "source": [
    "### GRADED\n",
    "### YOUR SOLUTION HERE\n",
    "\n",
    "newcolumns = {\"name\":\"Name\",\"last_name\":\"Last_Name\" }\n",
    "df.rename(columns = newcolumns, inplace = True)\n",
    "\n",
    "print(df)\n",
    "\n",
    "###\n",
    "### YOUR CODE HERE\n",
    "###\n"
   ]
  },
  {
   "cell_type": "code",
   "execution_count": 8,
   "metadata": {
    "collapsed": true,
    "deletable": false,
    "editable": false,
    "nbgrader": {
     "grade": true,
     "grade_id": "Question 04",
     "locked": true,
     "points": "10",
     "solution": false
    }
   },
   "outputs": [],
   "source": [
    "###\n",
    "### AUTOGRADER TEST - DO NOT REMOVE\n",
    "###\n"
   ]
  },
  {
   "cell_type": "markdown",
   "metadata": {
    "deletable": false,
    "editable": false,
    "nbgrader": {
     "grade": false,
     "locked": true,
     "solution": false
    }
   },
   "source": [
    "## Question 5\n",
    "\n",
    "\n",
    "Read the CSV file named `\"foo.csv\"` in the `data/` folder and assign it to a dataframe called `df_2`."
   ]
  },
  {
   "cell_type": "code",
   "execution_count": 9,
   "metadata": {},
   "outputs": [
    {
     "name": "stdout",
     "output_type": "stream",
     "text": [
      "   id firstName     lastName  billingId product  price       birth dummyCol\n",
      "0   1      Luis  Alvarez$$%!        123    Cake     10  1980/07/07    never\n",
      "1   2     André       Ampère        423    piza      8  1950/07/08    gonna\n",
      "2   3     NiELS   Böhr//((%%        551   pizza      8  1990/07/09     give\n",
      "3   4      PAUL       dirac$        521   pizza      8  1954/07/10      you\n",
      "4   5    Albert     Einstein        634   pizza      8  1990/07/11       up\n"
     ]
    }
   ],
   "source": [
    "### GRADED\n",
    "### YOUR SOLUTION HERE\n",
    "df_2 = pd.read_csv(\"data/foo.csv\")\n",
    "print(df_2.head())\n",
    "###\n",
    "### YOUR CODE HERE\n",
    "###\n"
   ]
  },
  {
   "cell_type": "code",
   "execution_count": 10,
   "metadata": {
    "collapsed": true,
    "deletable": false,
    "editable": false,
    "nbgrader": {
     "grade": true,
     "grade_id": "Question 05",
     "locked": true,
     "points": "5",
     "solution": false
    }
   },
   "outputs": [],
   "source": [
    "###\n",
    "### AUTOGRADER TEST - DO NOT REMOVE\n",
    "###\n"
   ]
  },
  {
   "cell_type": "markdown",
   "metadata": {
    "deletable": false,
    "editable": false,
    "nbgrader": {
     "grade": false,
     "locked": true,
     "solution": false
    }
   },
   "source": [
    "## Question 6\n",
    "\n",
    "Delete the column with label `product` from dataframe `df_2` above. Reassign the result to `df_2` or use an `inplace` operation."
   ]
  },
  {
   "cell_type": "code",
   "execution_count": 11,
   "metadata": {},
   "outputs": [
    {
     "name": "stdout",
     "output_type": "stream",
     "text": [
      "   id firstName     lastName  billingId  price       birth dummyCol\n",
      "0   1      Luis  Alvarez$$%!        123     10  1980/07/07    never\n",
      "1   2     André       Ampère        423      8  1950/07/08    gonna\n",
      "2   3     NiELS   Böhr//((%%        551      8  1990/07/09     give\n",
      "3   4      PAUL       dirac$        521      8  1954/07/10      you\n",
      "4   5    Albert     Einstein        634      8  1990/07/11       up\n"
     ]
    }
   ],
   "source": [
    "### GRADED\n",
    "### YOUR SOLUTION HERE\n",
    "\n",
    "df_2 = df_2.drop(\"product\", axis = 1)\n",
    "print(df_2.head())\n",
    "\n",
    "###\n",
    "### YOUR CODE HERE\n",
    "###\n"
   ]
  },
  {
   "cell_type": "code",
   "execution_count": 12,
   "metadata": {
    "collapsed": true,
    "deletable": false,
    "editable": false,
    "nbgrader": {
     "grade": true,
     "grade_id": "Question 06",
     "locked": true,
     "points": "5",
     "solution": false
    }
   },
   "outputs": [],
   "source": [
    "###\n",
    "### AUTOGRADER TEST - DO NOT REMOVE\n",
    "###\n"
   ]
  },
  {
   "cell_type": "markdown",
   "metadata": {
    "deletable": false,
    "editable": false,
    "nbgrader": {
     "grade": false,
     "locked": true,
     "solution": false
    }
   },
   "source": [
    "## Question 7\n",
    "\n",
    "Take the dataframe `df_2` from above and sort the column `price` in ascending order. Assign the new dataframe to a variable called `df_2_sort`."
   ]
  },
  {
   "cell_type": "code",
   "execution_count": 13,
   "metadata": {
    "collapsed": true
   },
   "outputs": [],
   "source": [
    "### GRADED\n",
    "### YOUR SOLUTION HERE\n",
    "df_2_sort = df_2.sort_values(by=['price'])\n",
    "\n",
    "###\n",
    "### YOUR CODE HERE\n",
    "###\n"
   ]
  },
  {
   "cell_type": "code",
   "execution_count": 14,
   "metadata": {
    "collapsed": true,
    "deletable": false,
    "editable": false,
    "nbgrader": {
     "grade": true,
     "grade_id": "Question 07",
     "locked": true,
     "points": "10",
     "solution": false
    }
   },
   "outputs": [],
   "source": [
    "###\n",
    "### AUTOGRADER TEST - DO NOT REMOVE\n",
    "###\n"
   ]
  },
  {
   "cell_type": "markdown",
   "metadata": {
    "deletable": false,
    "editable": false,
    "nbgrader": {
     "grade": false,
     "locked": true,
     "solution": false
    }
   },
   "source": [
    "## Question 8"
   ]
  },
  {
   "cell_type": "markdown",
   "metadata": {
    "deletable": false,
    "editable": false,
    "nbgrader": {
     "grade": false,
     "locked": true,
     "solution": false
    }
   },
   "source": [
    "Read the CSV file named `\"data.csv\"` in the `data/` folder and assign it to a dataframe called `df_3`. Then group by the column `season` and perform a count. Assign the solution to `df_3_grouped`."
   ]
  },
  {
   "cell_type": "code",
   "execution_count": 15,
   "metadata": {
    "nbgrader": {
     "grade": false,
     "grade_id": "Question 08",
     "locked": false,
     "points": "10",
     "solution": false
    }
   },
   "outputs": [
    {
     "name": "stdout",
     "output_type": "stream",
     "text": [
      "        datetime  holiday  workingday  weather  temp  atemp  humidity  \\\n",
      "season                                                                  \n",
      "1           2686     2686        2686     2686  2686   2686      2686   \n",
      "2           2733     2733        2733     2733  2733   2733      2733   \n",
      "3           2733     2733        2733     2733  2733   2733      2733   \n",
      "4           2734     2734        2734     2734  2734   2734      2734   \n",
      "\n",
      "        windspeed  casual  registered  count  hour  year  month  weather_label  \n",
      "season                                                                          \n",
      "1            2686    2686        2686   2686  2686  2686   2686           2686  \n",
      "2            2733    2733        2733   2733  2733  2733   2733           2733  \n",
      "3            2733    2733        2733   2733  2733  2733   2733           2733  \n",
      "4            2734    2734        2734   2734  2734  2734   2734           2734  \n"
     ]
    }
   ],
   "source": [
    "### GRADED\n",
    "### YOUR SOLUTION HERE\n",
    "df_3 = pd.read_csv(\"data/data.csv\")\n",
    "df_3_grouped = df_3.groupby(\"season\").count()\n",
    "\n",
    "print(df_3_grouped.head())\n",
    "###\n",
    "### YOUR CODE HERE\n",
    "###\n"
   ]
  },
  {
   "cell_type": "code",
   "execution_count": 16,
   "metadata": {
    "collapsed": true,
    "deletable": false,
    "editable": false,
    "nbgrader": {
     "grade": true,
     "grade_id": "Question 08",
     "locked": true,
     "points": "10",
     "solution": false
    }
   },
   "outputs": [],
   "source": [
    "###\n",
    "### AUTOGRADER TEST - DO NOT REMOVE\n",
    "###\n"
   ]
  },
  {
   "cell_type": "markdown",
   "metadata": {
    "deletable": false,
    "editable": false,
    "nbgrader": {
     "grade": false,
     "locked": true,
     "solution": false
    }
   },
   "source": [
    "## Question 9\n",
    "\n",
    "Take the dataframe `df_3` and create a filter to get all rows where the column `humidity` is less or equal than 85. Call this new dataframe `df_humid`."
   ]
  },
  {
   "cell_type": "code",
   "execution_count": 17,
   "metadata": {
    "collapsed": true
   },
   "outputs": [],
   "source": [
    "### GRADED\n",
    "### YOUR SOLUTION HERE\n",
    "df_humid = df_3[df_3.humidity <=85]\n",
    "\n",
    "###\n",
    "### YOUR CODE HERE\n",
    "###\n"
   ]
  },
  {
   "cell_type": "code",
   "execution_count": 18,
   "metadata": {
    "collapsed": true,
    "deletable": false,
    "editable": false,
    "nbgrader": {
     "grade": true,
     "grade_id": "Question 09",
     "locked": true,
     "points": "10",
     "solution": false
    }
   },
   "outputs": [],
   "source": [
    "###\n",
    "### AUTOGRADER TEST - DO NOT REMOVE\n",
    "###\n"
   ]
  },
  {
   "cell_type": "markdown",
   "metadata": {
    "deletable": false,
    "editable": false,
    "nbgrader": {
     "grade": false,
     "locked": true,
     "solution": false
    }
   },
   "source": [
    "## Question 10\n",
    "\n",
    "Take the dataframe `df_3` and create a filter to get all rows where the column `temp` is greater or equal than 10. Call this new dataframe `df_temp`."
   ]
  },
  {
   "cell_type": "code",
   "execution_count": 19,
   "metadata": {
    "collapsed": true
   },
   "outputs": [],
   "source": [
    "### GRADED\n",
    "### YOUR SOLUTION HERE\n",
    "df_temp = df_3[df_3.temp >=10]\n",
    "\n",
    "###\n",
    "### YOUR CODE HERE\n",
    "###\n"
   ]
  },
  {
   "cell_type": "code",
   "execution_count": 20,
   "metadata": {
    "collapsed": true,
    "deletable": false,
    "editable": false,
    "nbgrader": {
     "grade": true,
     "grade_id": "Question 10",
     "locked": true,
     "points": "5",
     "solution": false
    }
   },
   "outputs": [],
   "source": [
    "###\n",
    "### AUTOGRADER TEST - DO NOT REMOVE\n",
    "###\n"
   ]
  },
  {
   "cell_type": "markdown",
   "metadata": {
    "deletable": false,
    "editable": false,
    "nbgrader": {
     "grade": false,
     "locked": true,
     "solution": false
    }
   },
   "source": [
    "## Question 11\n",
    "\n",
    "Take the dataframe `df_3` and compute the average of the column `windspeed` and assign the value to the variable `average_wind`."
   ]
  },
  {
   "cell_type": "code",
   "execution_count": 21,
   "metadata": {},
   "outputs": [
    {
     "name": "stdout",
     "output_type": "stream",
     "text": [
      "12.799412663053463\n"
     ]
    }
   ],
   "source": [
    "### GRADED\n",
    "### YOUR SOLUTION HERE\n",
    "average_wind = df_3.windspeed.mean()\n",
    "print(average_wind)\n",
    "###\n",
    "### YOUR CODE HERE\n",
    "###\n"
   ]
  },
  {
   "cell_type": "code",
   "execution_count": 22,
   "metadata": {
    "collapsed": true,
    "deletable": false,
    "editable": false,
    "nbgrader": {
     "grade": true,
     "grade_id": "Question 11",
     "locked": true,
     "points": "10",
     "solution": false
    }
   },
   "outputs": [],
   "source": [
    "###\n",
    "### AUTOGRADER TEST - DO NOT REMOVE\n",
    "###\n"
   ]
  },
  {
   "cell_type": "markdown",
   "metadata": {
    "deletable": false,
    "editable": false,
    "nbgrader": {
     "grade": false,
     "locked": true,
     "solution": false
    }
   },
   "source": [
    "## Question 12\n",
    "\n",
    "Create a lambda function in Python called `squaring` that squares a certain variable `x`. Next, apply this function to *all* the entries of the column `atemp` in the dataframe `df_3` using the pandas command `map`. Assign the result to `squared_atemp`."
   ]
  },
  {
   "cell_type": "code",
   "execution_count": 23,
   "metadata": {
    "collapsed": true
   },
   "outputs": [],
   "source": [
    "### GRADED\n",
    "### YOUR SOLUTION HERE\n",
    "squaring = lambda x : x*x\n",
    "squared_atemp = squaring(df_3.atemp)\n",
    "\n",
    "###\n",
    "### YOUR CODE HERE\n",
    "###"
   ]
  },
  {
   "cell_type": "code",
   "execution_count": 24,
   "metadata": {
    "collapsed": true,
    "deletable": false,
    "editable": false,
    "nbgrader": {
     "grade": true,
     "grade_id": "Question 12",
     "locked": true,
     "points": "20",
     "solution": false
    }
   },
   "outputs": [],
   "source": [
    "###\n",
    "### AUTOGRADER TEST - DO NOT REMOVE\n",
    "###\n"
   ]
  },
  {
   "cell_type": "markdown",
   "metadata": {
    "deletable": false,
    "editable": false,
    "nbgrader": {
     "grade": false,
     "locked": true,
     "solution": false
    }
   },
   "source": [
    "## Question 13\n",
    "\n",
    "Create a function called `uniques` that takes a dataframe and returns a `list` with the names of the columns and the number of unique values for each column. Each item in the list should be a `tuple` with `(column, number of unique values)`. \n",
    "\n",
    "Then test the function on the dataframe `df_3` and assign the solution in to variable called `sol`."
   ]
  },
  {
   "cell_type": "code",
   "execution_count": 25,
   "metadata": {},
   "outputs": [
    {
     "name": "stdout",
     "output_type": "stream",
     "text": [
      "[('datetime', 10886), ('season', 4), ('holiday', 2), ('workingday', 2), ('weather', 4), ('temp', 49), ('atemp', 60), ('humidity', 89), ('windspeed', 28), ('casual', 309), ('registered', 731), ('count', 822), ('hour', 24), ('year', 2), ('month', 12), ('weather_label', 4)]\n"
     ]
    }
   ],
   "source": [
    "### GRADED\n",
    "### YOUR SOLUTION HERE\n",
    "def uniques(x):\n",
    "    solution = []\n",
    "    for i in x:\n",
    "        #y = x[i].count()\n",
    "        y = len(pd.unique(x[i]))\n",
    "        #print(y)\n",
    "        solution.append(tuple((i,y)))\n",
    "        #print(solution)\n",
    "    return solution\n",
    "        \n",
    "        \n",
    "    \n",
    "#Use a for loop and apply the function unique()\n",
    "#Must be a tuple to get the points \n",
    "\n",
    "\n",
    "sol = uniques(df_3)\n",
    "print(sol)\n",
    "\n",
    "###\n",
    "### YOUR CODE HERE\n",
    "###\n"
   ]
  },
  {
   "cell_type": "code",
   "execution_count": 26,
   "metadata": {},
   "outputs": [
    {
     "data": {
      "text/plain": [
       "[('datetime', 10886),\n",
       " ('season', 4),\n",
       " ('holiday', 2),\n",
       " ('workingday', 2),\n",
       " ('weather', 4),\n",
       " ('temp', 49),\n",
       " ('atemp', 60),\n",
       " ('humidity', 89),\n",
       " ('windspeed', 28),\n",
       " ('casual', 309),\n",
       " ('registered', 731),\n",
       " ('count', 822),\n",
       " ('hour', 24),\n",
       " ('year', 2),\n",
       " ('month', 12),\n",
       " ('weather_label', 4)]"
      ]
     },
     "execution_count": 26,
     "metadata": {},
     "output_type": "execute_result"
    }
   ],
   "source": [
    "uniques(df_3)"
   ]
  },
  {
   "cell_type": "code",
   "execution_count": 27,
   "metadata": {
    "collapsed": true,
    "deletable": false,
    "editable": false,
    "nbgrader": {
     "grade": true,
     "grade_id": "Question 13",
     "locked": true,
     "points": "15",
     "solution": false
    }
   },
   "outputs": [],
   "source": [
    "###\n",
    "### AUTOGRADER TEST - DO NOT REMOVE\n",
    "###\n"
   ]
  },
  {
   "cell_type": "markdown",
   "metadata": {
    "deletable": false,
    "editable": false,
    "nbgrader": {
     "grade": false,
     "locked": true,
     "solution": false
    }
   },
   "source": [
    "## Question 14\n",
    "\n",
    "Create a dataframe called `joined` by performing a left join on the dataframes `A` and `B` on the column `key`."
   ]
  },
  {
   "cell_type": "code",
   "execution_count": 28,
   "metadata": {
    "nbgrader": {
     "grade": false,
     "locked": false,
     "solution": false
    }
   },
   "outputs": [
    {
     "name": "stdout",
     "output_type": "stream",
     "text": [
      "  key   A   B    C    D\n",
      "0  K0  A0  B0   C0   D0\n",
      "1  K1  A1  B1   C1   D1\n",
      "2  K2  A2  B2   C2   D2\n",
      "3  K3  A3  B3  NaN  NaN\n"
     ]
    }
   ],
   "source": [
    "### GRADED\n",
    "A = pd.DataFrame({'key': ['K0', 'K1', 'K2', 'K3'],\n",
    "                  'A': ['A0', 'A1', 'A2', 'A3'],\n",
    "                  'B': ['B0', 'B1', 'B2', 'B3']})\n",
    "\n",
    "\n",
    "B = pd.DataFrame({'key': ['K0', 'K1', 'K2', 'K5'],\n",
    "                   'C': ['C0', 'C1', 'C2', 'C3'],\n",
    "                   'D': ['D0', 'D1', 'D2', 'D3']})\n",
    "\n",
    "### YOUR SOLUTION HERE\n",
    "#joined = A.set_index('key').join(B.set_index('key'))\n",
    "joined = A.merge(B, on='key', how='left')\n",
    "#joined = pd.merge(A,B)\n",
    "print(joined)\n",
    "\n",
    "###\n",
    "### YOUR CODE HERE\n",
    "###\n"
   ]
  },
  {
   "cell_type": "code",
   "execution_count": 29,
   "metadata": {
    "collapsed": true,
    "deletable": false,
    "editable": false,
    "nbgrader": {
     "grade": true,
     "grade_id": "Question 14",
     "locked": true,
     "points": "10",
     "solution": false
    }
   },
   "outputs": [],
   "source": [
    "###\n",
    "### AUTOGRADER TEST - DO NOT REMOVE\n",
    "###\n"
   ]
  },
  {
   "cell_type": "markdown",
   "metadata": {
    "deletable": false,
    "editable": false,
    "nbgrader": {
     "grade": false,
     "locked": true,
     "solution": false
    }
   },
   "source": [
    "## Question 15\n",
    "\n",
    "Read the CSV file named `\"data.csv\"` in the `data/` folder and assign it to a dataframe called `df_4`. Then sort the column `temp` in ascending order and save to a variable called `sort_by_temp`."
   ]
  },
  {
   "cell_type": "code",
   "execution_count": 30,
   "metadata": {},
   "outputs": [
    {
     "name": "stdout",
     "output_type": "stream",
     "text": [
      "                 datetime  season  holiday  workingday  weather      temp  \\\n",
      "5499  2012-01-04 06:00:00       1        0           1        1  0.819824   \n",
      "5495  2012-01-04 02:00:00       1        0           1        1  0.819824   \n",
      "5501  2012-01-04 08:00:00       1        0           1        1  0.819824   \n",
      "5500  2012-01-04 07:00:00       1        0           1        1  0.819824   \n",
      "5498  2012-01-04 05:00:00       1        0           1        1  0.819824   \n",
      "\n",
      "         atemp  humidity  windspeed  casual  registered  count  hour  year  \\\n",
      "5499  2.275391        41       11.0       0          59     59     6  2012   \n",
      "5495  0.759766        34       19.0       0           1      1     2  2012   \n",
      "5501  3.029297        44        9.0       5         310    315     8  2012   \n",
      "5500  2.275391        44       13.0       1         151    152     7  2012   \n",
      "5498  2.275391        41       13.0       0          14     14     5  2012   \n",
      "\n",
      "      month weather_label  \n",
      "5499      1         Clear  \n",
      "5495      1         Clear  \n",
      "5501      1         Clear  \n",
      "5500      1         Clear  \n",
      "5498      1         Clear  \n"
     ]
    }
   ],
   "source": [
    "### GRADED\n",
    "### YOUR SOLUTION HERE\n",
    "df_4 = pd.read_csv('data/data.csv')\n",
    "sort_by_temp = df_4.sort_values(by=['temp'], ascending=True)\n",
    "\n",
    "print(sort_by_temp.head())\n",
    "###\n",
    "### YOUR CODE HERE\n",
    "###\n"
   ]
  },
  {
   "cell_type": "code",
   "execution_count": 31,
   "metadata": {
    "collapsed": true,
    "deletable": false,
    "editable": false,
    "nbgrader": {
     "grade": true,
     "grade_id": "Question 15",
     "locked": true,
     "points": "10",
     "solution": false
    }
   },
   "outputs": [],
   "source": [
    "###\n",
    "### AUTOGRADER TEST - DO NOT REMOVE\n",
    "###\n"
   ]
  },
  {
   "cell_type": "markdown",
   "metadata": {
    "deletable": false,
    "editable": false,
    "nbgrader": {
     "grade": false,
     "locked": true,
     "solution": false
    }
   },
   "source": [
    "## Question 16\n",
    "\n",
    "Create a Pandas dataframe called `df_5` containing 5 columns named `name, age, gender, state, num_pets` and the values:\n",
    "\n",
    "| name | age| gender|state|num_pets |\n",
    "|------|----|-------|-----|---------|\n",
    "| john | 23 | M     |california|5|\n",
    "| mary | 78 | F     |dc|1|\n",
    "| peter| 22 | M     |california|0|\n",
    "|jeff  |19  | M     |dc|5|\n",
    "|bill  |45  | M     |dc|2|\n",
    "|lisa  |33  | F     |california|2|\n",
    "|jose|20|M|texas|3\n",
    "\n",
    "You can use the provided lists to avoid typing errors. Next, sort the column age in descending order and assign it to a variable called `age_des`."
   ]
  },
  {
   "cell_type": "code",
   "execution_count": 32,
   "metadata": {},
   "outputs": [
    {
     "data": {
      "text/html": [
       "<div>\n",
       "<style scoped>\n",
       "    .dataframe tbody tr th:only-of-type {\n",
       "        vertical-align: middle;\n",
       "    }\n",
       "\n",
       "    .dataframe tbody tr th {\n",
       "        vertical-align: top;\n",
       "    }\n",
       "\n",
       "    .dataframe thead th {\n",
       "        text-align: right;\n",
       "    }\n",
       "</style>\n",
       "<table border=\"1\" class=\"dataframe\">\n",
       "  <thead>\n",
       "    <tr style=\"text-align: right;\">\n",
       "      <th></th>\n",
       "      <th>name</th>\n",
       "      <th>age</th>\n",
       "      <th>gender</th>\n",
       "      <th>state</th>\n",
       "      <th>num_pets</th>\n",
       "    </tr>\n",
       "  </thead>\n",
       "  <tbody>\n",
       "    <tr>\n",
       "      <th>1</th>\n",
       "      <td>mary</td>\n",
       "      <td>78</td>\n",
       "      <td>F</td>\n",
       "      <td>dc</td>\n",
       "      <td>1</td>\n",
       "    </tr>\n",
       "    <tr>\n",
       "      <th>4</th>\n",
       "      <td>bill</td>\n",
       "      <td>45</td>\n",
       "      <td>M</td>\n",
       "      <td>dc</td>\n",
       "      <td>2</td>\n",
       "    </tr>\n",
       "    <tr>\n",
       "      <th>5</th>\n",
       "      <td>lisa</td>\n",
       "      <td>33</td>\n",
       "      <td>F</td>\n",
       "      <td>california</td>\n",
       "      <td>2</td>\n",
       "    </tr>\n",
       "    <tr>\n",
       "      <th>0</th>\n",
       "      <td>john</td>\n",
       "      <td>23</td>\n",
       "      <td>M</td>\n",
       "      <td>california</td>\n",
       "      <td>5</td>\n",
       "    </tr>\n",
       "    <tr>\n",
       "      <th>2</th>\n",
       "      <td>peter</td>\n",
       "      <td>22</td>\n",
       "      <td>M</td>\n",
       "      <td>california</td>\n",
       "      <td>0</td>\n",
       "    </tr>\n",
       "  </tbody>\n",
       "</table>\n",
       "</div>"
      ],
      "text/plain": [
       "    name  age gender       state  num_pets\n",
       "1   mary   78      F          dc         1\n",
       "4   bill   45      M          dc         2\n",
       "5   lisa   33      F  california         2\n",
       "0   john   23      M  california         5\n",
       "2  peter   22      M  california         0"
      ]
     },
     "execution_count": 32,
     "metadata": {},
     "output_type": "execute_result"
    }
   ],
   "source": [
    "### GRADED\n",
    "name     = ['john','mary','peter','jeff','bill','lisa','jose']\n",
    "age      = [23,78,22,19,45,33,20]\n",
    "gender   = ['M','F','M','M','M','F','M']\n",
    "state    = ['california','dc','california','dc','dc','california','texas']\n",
    "num_pets = [5,1,0,5,2,2,3]\n",
    "\n",
    "### YOUR SOLUTION HERE\n",
    "col = ['name','age','gender','state','num_pets']\n",
    "df_5 = pd.DataFrame(list(zip(name, age, gender, state, num_pets)), columns = col)\n",
    "\n",
    "age_des = df_5.sort_values('age', ascending=False)\n",
    "age_des.head()\n",
    "###\n",
    "### YOUR CODE HERE\n",
    "###\n"
   ]
  },
  {
   "cell_type": "code",
   "execution_count": 33,
   "metadata": {
    "collapsed": true,
    "deletable": false,
    "editable": false,
    "nbgrader": {
     "grade": true,
     "grade_id": "Question 16",
     "locked": true,
     "points": "20",
     "solution": false
    }
   },
   "outputs": [],
   "source": [
    "###\n",
    "### AUTOGRADER TEST - DO NOT REMOVE\n",
    "###\n"
   ]
  },
  {
   "cell_type": "markdown",
   "metadata": {
    "deletable": false,
    "editable": false,
    "nbgrader": {
     "grade": false,
     "locked": true,
     "solution": false
    }
   },
   "source": [
    "## Question 17\n",
    "\n",
    "From the dataframe `df_5`, remove the duplicates from the column `state` and assign the result to a new dataframe called `single_states`."
   ]
  },
  {
   "cell_type": "code",
   "execution_count": 36,
   "metadata": {},
   "outputs": [
    {
     "data": {
      "text/html": [
       "<div>\n",
       "<style scoped>\n",
       "    .dataframe tbody tr th:only-of-type {\n",
       "        vertical-align: middle;\n",
       "    }\n",
       "\n",
       "    .dataframe tbody tr th {\n",
       "        vertical-align: top;\n",
       "    }\n",
       "\n",
       "    .dataframe thead th {\n",
       "        text-align: right;\n",
       "    }\n",
       "</style>\n",
       "<table border=\"1\" class=\"dataframe\">\n",
       "  <thead>\n",
       "    <tr style=\"text-align: right;\">\n",
       "      <th></th>\n",
       "      <th>name</th>\n",
       "      <th>age</th>\n",
       "      <th>gender</th>\n",
       "      <th>state</th>\n",
       "      <th>num_pets</th>\n",
       "    </tr>\n",
       "  </thead>\n",
       "  <tbody>\n",
       "    <tr>\n",
       "      <th>0</th>\n",
       "      <td>john</td>\n",
       "      <td>23</td>\n",
       "      <td>M</td>\n",
       "      <td>california</td>\n",
       "      <td>5</td>\n",
       "    </tr>\n",
       "    <tr>\n",
       "      <th>1</th>\n",
       "      <td>mary</td>\n",
       "      <td>78</td>\n",
       "      <td>F</td>\n",
       "      <td>dc</td>\n",
       "      <td>1</td>\n",
       "    </tr>\n",
       "    <tr>\n",
       "      <th>6</th>\n",
       "      <td>jose</td>\n",
       "      <td>20</td>\n",
       "      <td>M</td>\n",
       "      <td>texas</td>\n",
       "      <td>3</td>\n",
       "    </tr>\n",
       "  </tbody>\n",
       "</table>\n",
       "</div>"
      ],
      "text/plain": [
       "   name  age gender       state  num_pets\n",
       "0  john   23      M  california         5\n",
       "1  mary   78      F          dc         1\n",
       "6  jose   20      M       texas         3"
      ]
     },
     "execution_count": 36,
     "metadata": {},
     "output_type": "execute_result"
    }
   ],
   "source": [
    "### GRADED\n",
    "### YOUR SOLUTION HERE\n",
    "single_states = df_5.drop_duplicates(subset=['state'])\n",
    "\n",
    "single_states.head()\n",
    "###\n",
    "### YOUR CODE HERE\n",
    "###\n"
   ]
  },
  {
   "cell_type": "code",
   "execution_count": 35,
   "metadata": {
    "collapsed": true,
    "deletable": false,
    "editable": false,
    "nbgrader": {
     "grade": true,
     "grade_id": "Question 17",
     "locked": true,
     "points": "10",
     "solution": false
    }
   },
   "outputs": [],
   "source": [
    "###\n",
    "### AUTOGRADER TEST - DO NOT REMOVE\n",
    "###\n"
   ]
  },
  {
   "cell_type": "code",
   "execution_count": null,
   "metadata": {
    "collapsed": true
   },
   "outputs": [],
   "source": []
  },
  {
   "cell_type": "code",
   "execution_count": null,
   "metadata": {
    "collapsed": true
   },
   "outputs": [],
   "source": []
  },
  {
   "cell_type": "code",
   "execution_count": null,
   "metadata": {
    "collapsed": true
   },
   "outputs": [],
   "source": []
  }
 ],
 "metadata": {
  "kernelspec": {
   "display_name": "Python 3 [3.6]",
   "language": "python",
   "name": "python3"
  },
  "language_info": {
   "codemirror_mode": {
    "name": "ipython",
    "version": 3
   },
   "file_extension": ".py",
   "mimetype": "text/x-python",
   "name": "python",
   "nbconvert_exporter": "python",
   "pygments_lexer": "ipython3",
   "version": "3.6.4"
  }
 },
 "nbformat": 4,
 "nbformat_minor": 4
}
