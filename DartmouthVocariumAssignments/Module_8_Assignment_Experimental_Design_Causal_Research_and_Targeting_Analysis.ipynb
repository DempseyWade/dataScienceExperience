{
 "cells": [
  {
   "cell_type": "markdown",
   "metadata": {
    "deletable": false,
    "editable": false,
    "nbgrader": {
     "grade": false,
     "locked": true,
     "solution": false
    }
   },
   "source": [
    "# Module 8 - Experimental Design, Causal Research, and Targeting Analysis\n",
    "\n",
    "**_Author: Favio Vázquez and Jessica Cervi_**\n",
    "    \n",
    "In this assignment we will be focusing on A/B testing. \n",
    "\n",
    "You will be using data from a marketing campaign conducted in a restaurant that wants to add a new item to its menu. We will test the effectiveness of three possible marketing campaigns to promote the new item. \n",
    "\n",
    "The new item was introduced in several randomly selected locations. A different promotion was used in each location, the goal is to determine which promotion had the greatest effect on sales. The weekly sales of the new item were recorded for the first four weeks."
   ]
  },
  {
   "cell_type": "markdown",
   "metadata": {
    "deletable": false,
    "editable": false,
    "nbgrader": {
     "grade": false,
     "locked": true,
     "solution": false
    }
   },
   "source": [
    "<a id=\"questions\"></a>\n",
    "### Index:\n",
    "\n",
    "\n",
    "- [Question 1](#q01)\n",
    "- [Question 2](#q02)\n",
    "- [Question 3](#q03)\n",
    "- [Question 4](#q04)\n",
    "- [Question 5](#q05)\n",
    "- [Question 6](#q06)\n",
    "- [Question 7](#q07)\n",
    "- [Question 8](#q08)\n",
    "- [Question 9](#q09)"
   ]
  },
  {
   "cell_type": "markdown",
   "metadata": {
    "deletable": false,
    "editable": false,
    "nbgrader": {
     "grade": false,
     "locked": true,
     "solution": false
    }
   },
   "source": [
    "## Import the necessary libraries and read the data"
   ]
  },
  {
   "cell_type": "code",
   "execution_count": 1,
   "metadata": {
    "deletable": false,
    "editable": false,
    "nbgrader": {
     "grade": false,
     "locked": true,
     "solution": false
    }
   },
   "outputs": [],
   "source": [
    "# Import libraries\n",
    "import pandas as pd \n",
    "import matplotlib.pyplot as plt\n",
    "from scipy import stats"
   ]
  },
  {
   "cell_type": "raw",
   "metadata": {
    "deletable": false,
    "editable": false,
    "nbgrader": {
     "grade": false,
     "locked": true,
     "solution": false
    },
    "tags": []
   },
   "source": [
    "# Reading the data\n",
    "# The dataset is stored as usual in a CSV file so we will use pandas \"read_csv\" function to load it.\n",
    "# Note: don't rename this dataframe\n",
    "df = pd.read_csv(\"data/marketing.csv\")"
   ]
  },
  {
   "cell_type": "code",
   "execution_count": 2,
   "metadata": {},
   "outputs": [],
   "source": [
    "# Reading the data\n",
    "# The dataset is stored as usual in a CSV file so we will use pandas \"read_csv\" function to load it.\n",
    "# Note: don't rename this dataframe\n",
    "df = pd.read_csv(\"/Users/dempseywade/Desktop/gitRepo/DartmouthCodingAssignments/data/Mod8_marketing.csv\")"
   ]
  },
  {
   "cell_type": "code",
   "execution_count": 3,
   "metadata": {
    "deletable": false,
    "editable": false,
    "nbgrader": {
     "grade": false,
     "locked": true,
     "solution": false
    }
   },
   "outputs": [
    {
     "data": {
      "text/html": [
       "<div>\n",
       "<style scoped>\n",
       "    .dataframe tbody tr th:only-of-type {\n",
       "        vertical-align: middle;\n",
       "    }\n",
       "\n",
       "    .dataframe tbody tr th {\n",
       "        vertical-align: top;\n",
       "    }\n",
       "\n",
       "    .dataframe thead th {\n",
       "        text-align: right;\n",
       "    }\n",
       "</style>\n",
       "<table border=\"1\" class=\"dataframe\">\n",
       "  <thead>\n",
       "    <tr style=\"text-align: right;\">\n",
       "      <th></th>\n",
       "      <th>MarketID</th>\n",
       "      <th>MarketSize</th>\n",
       "      <th>LocationID</th>\n",
       "      <th>AgeOfStore</th>\n",
       "      <th>Promotion</th>\n",
       "      <th>week</th>\n",
       "      <th>SalesInThousands</th>\n",
       "    </tr>\n",
       "  </thead>\n",
       "  <tbody>\n",
       "    <tr>\n",
       "      <th>0</th>\n",
       "      <td>1</td>\n",
       "      <td>Medium</td>\n",
       "      <td>1</td>\n",
       "      <td>4</td>\n",
       "      <td>3</td>\n",
       "      <td>1</td>\n",
       "      <td>33.73</td>\n",
       "    </tr>\n",
       "    <tr>\n",
       "      <th>1</th>\n",
       "      <td>1</td>\n",
       "      <td>Medium</td>\n",
       "      <td>1</td>\n",
       "      <td>4</td>\n",
       "      <td>3</td>\n",
       "      <td>2</td>\n",
       "      <td>35.67</td>\n",
       "    </tr>\n",
       "    <tr>\n",
       "      <th>2</th>\n",
       "      <td>1</td>\n",
       "      <td>Medium</td>\n",
       "      <td>1</td>\n",
       "      <td>4</td>\n",
       "      <td>3</td>\n",
       "      <td>3</td>\n",
       "      <td>29.03</td>\n",
       "    </tr>\n",
       "    <tr>\n",
       "      <th>3</th>\n",
       "      <td>1</td>\n",
       "      <td>Medium</td>\n",
       "      <td>1</td>\n",
       "      <td>4</td>\n",
       "      <td>3</td>\n",
       "      <td>4</td>\n",
       "      <td>39.25</td>\n",
       "    </tr>\n",
       "    <tr>\n",
       "      <th>4</th>\n",
       "      <td>1</td>\n",
       "      <td>Medium</td>\n",
       "      <td>2</td>\n",
       "      <td>5</td>\n",
       "      <td>2</td>\n",
       "      <td>1</td>\n",
       "      <td>27.81</td>\n",
       "    </tr>\n",
       "  </tbody>\n",
       "</table>\n",
       "</div>"
      ],
      "text/plain": [
       "   MarketID MarketSize  LocationID  AgeOfStore  Promotion  week  \\\n",
       "0         1     Medium           1           4          3     1   \n",
       "1         1     Medium           1           4          3     2   \n",
       "2         1     Medium           1           4          3     3   \n",
       "3         1     Medium           1           4          3     4   \n",
       "4         1     Medium           2           5          2     1   \n",
       "\n",
       "   SalesInThousands  \n",
       "0             33.73  \n",
       "1             35.67  \n",
       "2             29.03  \n",
       "3             39.25  \n",
       "4             27.81  "
      ]
     },
     "execution_count": 3,
     "metadata": {},
     "output_type": "execute_result"
    }
   ],
   "source": [
    "# Visualize the first 5 rows of the dataframe\n",
    "df.head()"
   ]
  },
  {
   "cell_type": "markdown",
   "metadata": {
    "deletable": false,
    "editable": false,
    "nbgrader": {
     "grade": false,
     "locked": true,
     "solution": false
    }
   },
   "source": [
    "# Basic Exploratory Data Analysis"
   ]
  },
  {
   "cell_type": "code",
   "execution_count": 4,
   "metadata": {
    "deletable": false,
    "editable": false,
    "nbgrader": {
     "grade": false,
     "locked": true,
     "solution": false
    }
   },
   "outputs": [
    {
     "name": "stdout",
     "output_type": "stream",
     "text": [
      "<class 'pandas.core.frame.DataFrame'>\n",
      "RangeIndex: 548 entries, 0 to 547\n",
      "Data columns (total 7 columns):\n",
      " #   Column            Non-Null Count  Dtype  \n",
      "---  ------            --------------  -----  \n",
      " 0   MarketID          548 non-null    int64  \n",
      " 1   MarketSize        548 non-null    object \n",
      " 2   LocationID        548 non-null    int64  \n",
      " 3   AgeOfStore        548 non-null    int64  \n",
      " 4   Promotion         548 non-null    int64  \n",
      " 5   week              548 non-null    int64  \n",
      " 6   SalesInThousands  548 non-null    float64\n",
      "dtypes: float64(1), int64(5), object(1)\n",
      "memory usage: 30.1+ KB\n"
     ]
    }
   ],
   "source": [
    "#Retrieving information aboout the dataframe\n",
    "df.info()"
   ]
  },
  {
   "cell_type": "code",
   "execution_count": 5,
   "metadata": {
    "deletable": false,
    "editable": false,
    "nbgrader": {
     "grade": false,
     "locked": true,
     "solution": false
    }
   },
   "outputs": [
    {
     "data": {
      "text/html": [
       "<div>\n",
       "<style scoped>\n",
       "    .dataframe tbody tr th:only-of-type {\n",
       "        vertical-align: middle;\n",
       "    }\n",
       "\n",
       "    .dataframe tbody tr th {\n",
       "        vertical-align: top;\n",
       "    }\n",
       "\n",
       "    .dataframe thead th {\n",
       "        text-align: right;\n",
       "    }\n",
       "</style>\n",
       "<table border=\"1\" class=\"dataframe\">\n",
       "  <thead>\n",
       "    <tr style=\"text-align: right;\">\n",
       "      <th></th>\n",
       "      <th>MarketID</th>\n",
       "      <th>LocationID</th>\n",
       "      <th>AgeOfStore</th>\n",
       "      <th>Promotion</th>\n",
       "      <th>week</th>\n",
       "      <th>SalesInThousands</th>\n",
       "    </tr>\n",
       "  </thead>\n",
       "  <tbody>\n",
       "    <tr>\n",
       "      <th>count</th>\n",
       "      <td>548.000000</td>\n",
       "      <td>548.000000</td>\n",
       "      <td>548.000000</td>\n",
       "      <td>548.000000</td>\n",
       "      <td>548.000000</td>\n",
       "      <td>548.000000</td>\n",
       "    </tr>\n",
       "    <tr>\n",
       "      <th>mean</th>\n",
       "      <td>5.715328</td>\n",
       "      <td>479.656934</td>\n",
       "      <td>8.503650</td>\n",
       "      <td>2.029197</td>\n",
       "      <td>2.500000</td>\n",
       "      <td>53.466204</td>\n",
       "    </tr>\n",
       "    <tr>\n",
       "      <th>std</th>\n",
       "      <td>2.877001</td>\n",
       "      <td>287.973679</td>\n",
       "      <td>6.638345</td>\n",
       "      <td>0.810729</td>\n",
       "      <td>1.119055</td>\n",
       "      <td>16.755216</td>\n",
       "    </tr>\n",
       "    <tr>\n",
       "      <th>min</th>\n",
       "      <td>1.000000</td>\n",
       "      <td>1.000000</td>\n",
       "      <td>1.000000</td>\n",
       "      <td>1.000000</td>\n",
       "      <td>1.000000</td>\n",
       "      <td>17.340000</td>\n",
       "    </tr>\n",
       "    <tr>\n",
       "      <th>25%</th>\n",
       "      <td>3.000000</td>\n",
       "      <td>216.000000</td>\n",
       "      <td>4.000000</td>\n",
       "      <td>1.000000</td>\n",
       "      <td>1.750000</td>\n",
       "      <td>42.545000</td>\n",
       "    </tr>\n",
       "    <tr>\n",
       "      <th>50%</th>\n",
       "      <td>6.000000</td>\n",
       "      <td>504.000000</td>\n",
       "      <td>7.000000</td>\n",
       "      <td>2.000000</td>\n",
       "      <td>2.500000</td>\n",
       "      <td>50.200000</td>\n",
       "    </tr>\n",
       "    <tr>\n",
       "      <th>75%</th>\n",
       "      <td>8.000000</td>\n",
       "      <td>708.000000</td>\n",
       "      <td>12.000000</td>\n",
       "      <td>3.000000</td>\n",
       "      <td>3.250000</td>\n",
       "      <td>60.477500</td>\n",
       "    </tr>\n",
       "    <tr>\n",
       "      <th>max</th>\n",
       "      <td>10.000000</td>\n",
       "      <td>920.000000</td>\n",
       "      <td>28.000000</td>\n",
       "      <td>3.000000</td>\n",
       "      <td>4.000000</td>\n",
       "      <td>99.650000</td>\n",
       "    </tr>\n",
       "  </tbody>\n",
       "</table>\n",
       "</div>"
      ],
      "text/plain": [
       "         MarketID  LocationID  AgeOfStore   Promotion        week  \\\n",
       "count  548.000000  548.000000  548.000000  548.000000  548.000000   \n",
       "mean     5.715328  479.656934    8.503650    2.029197    2.500000   \n",
       "std      2.877001  287.973679    6.638345    0.810729    1.119055   \n",
       "min      1.000000    1.000000    1.000000    1.000000    1.000000   \n",
       "25%      3.000000  216.000000    4.000000    1.000000    1.750000   \n",
       "50%      6.000000  504.000000    7.000000    2.000000    2.500000   \n",
       "75%      8.000000  708.000000   12.000000    3.000000    3.250000   \n",
       "max     10.000000  920.000000   28.000000    3.000000    4.000000   \n",
       "\n",
       "       SalesInThousands  \n",
       "count        548.000000  \n",
       "mean          53.466204  \n",
       "std           16.755216  \n",
       "min           17.340000  \n",
       "25%           42.545000  \n",
       "50%           50.200000  \n",
       "75%           60.477500  \n",
       "max           99.650000  "
      ]
     },
     "execution_count": 5,
     "metadata": {},
     "output_type": "execute_result"
    }
   ],
   "source": [
    "# Analyzes both numeric and object series\n",
    "df.describe()"
   ]
  },
  {
   "cell_type": "code",
   "execution_count": 6,
   "metadata": {
    "deletable": false,
    "editable": false,
    "nbgrader": {
     "grade": false,
     "locked": true,
     "solution": false
    }
   },
   "outputs": [
    {
     "data": {
      "text/plain": [
       "(548, 7)"
      ]
     },
     "execution_count": 6,
     "metadata": {},
     "output_type": "execute_result"
    }
   ],
   "source": [
    "#Retrieving the shape of the dataframe\n",
    "# You should see 548 rows and 7 columns\n",
    "df.shape"
   ]
  },
  {
   "cell_type": "markdown",
   "metadata": {
    "deletable": false,
    "editable": false,
    "nbgrader": {
     "grade": false,
     "locked": true,
     "solution": false
    }
   },
   "source": [
    "<a id=\"q01\"></a>\n",
    "[Return to top](#questions)\n",
    "\n",
    "## Question 1\n",
    "\n",
    "Get the sum of the total sales (`SalesInThousands`) across different promotions. Save your results in a dataframe named ans1. The resulting dataframe should contain `Promotion` as index, along with the column `SalesInThousands`.\n",
    "\n",
    "**Hint**: Use use the `pandas` attribute `groupby`."
   ]
  },
  {
   "cell_type": "code",
   "execution_count": 7,
   "metadata": {},
   "outputs": [
    {
     "name": "stdout",
     "output_type": "stream",
     "text": [
      "Total sales across promotions:\n",
      "           SalesInThousands\n",
      "Promotion                  \n",
      "1                   9993.03\n",
      "2                   8897.93\n",
      "3                  10408.52\n"
     ]
    }
   ],
   "source": [
    "### GRADED\n",
    "\n",
    "### YOUR SOLUTION HERE\n",
    "ans1 = df.groupby(by=['Promotion']).sum()\n",
    "ans1 = ans1.drop(['MarketID', 'LocationID', 'AgeOfStore','week'], axis = 1)\n",
    "\n",
    "###\n",
    "### YOUR CODE HERE\n",
    "###\n",
    "### Answer check\n",
    "print(\"Total sales across promotions:\")\n",
    "print(ans1)"
   ]
  },
  {
   "cell_type": "code",
   "execution_count": 8,
   "metadata": {
    "deletable": false,
    "editable": false,
    "nbgrader": {
     "grade": true,
     "grade_id": "Question 01",
     "locked": true,
     "points": "5",
     "solution": false
    }
   },
   "outputs": [],
   "source": [
    "###\n",
    "### AUTOGRADER TEST - DO NOT REMOVE\n",
    "###\n"
   ]
  },
  {
   "cell_type": "markdown",
   "metadata": {
    "deletable": false,
    "editable": false,
    "nbgrader": {
     "grade": false,
     "locked": true,
     "solution": false
    }
   },
   "source": [
    "<a id=\"q02\"></a>\n",
    "[Return to top](#questions)\n",
    "\n",
    "## Question 2\n",
    "\n",
    "Compute the counts of different `MarketID`s for each `Promotion` group and `MarketSize` pair. Save your results in a dataframe called ans2. The final dataframe should contain `Promotion` and `MarketSize` as indexes, and the column `MarketID`."
   ]
  },
  {
   "cell_type": "code",
   "execution_count": 9,
   "metadata": {},
   "outputs": [
    {
     "name": "stdout",
     "output_type": "stream",
     "text": [
      "Number of market counts for each (Promotion, MarketSize):\n",
      "                      MarketID\n",
      "Promotion MarketSize          \n",
      "1         Large             56\n",
      "          Medium            96\n",
      "          Small             20\n",
      "2         Large             64\n",
      "          Medium           108\n",
      "          Small             16\n",
      "3         Large             48\n",
      "          Medium           116\n",
      "          Small             24\n"
     ]
    }
   ],
   "source": [
    "### GRADED\n",
    "\n",
    "### YOUR SOLUTION HERE\n",
    "ans2 = df.groupby(by=['Promotion', 'MarketSize']).count()\n",
    "ans2 = ans2.drop(['LocationID','AgeOfStore','week', 'SalesInThousands'], axis = 1)\n",
    "\n",
    "###\n",
    "### YOUR CODE HERE\n",
    "###\n",
    "### Answer check\n",
    "print(\"Number of market counts for each (Promotion, MarketSize):\")\n",
    "print(ans2)"
   ]
  },
  {
   "cell_type": "code",
   "execution_count": 10,
   "metadata": {
    "deletable": false,
    "editable": false,
    "nbgrader": {
     "grade": true,
     "grade_id": "Question 02",
     "locked": true,
     "points": "10",
     "solution": false
    }
   },
   "outputs": [],
   "source": [
    "###\n",
    "### AUTOGRADER TEST - DO NOT REMOVE\n",
    "###\n"
   ]
  },
  {
   "cell_type": "markdown",
   "metadata": {
    "deletable": false,
    "editable": false,
    "nbgrader": {
     "grade": false,
     "locked": true,
     "solution": false
    }
   },
   "source": [
    "<a id=\"q03\"></a>\n",
    "[Return to top](#questions)\n",
    "\n",
    "## Question 3\n",
    "\n",
    "Find the counts of `MarketID` across all different `Promotion` groups and `AgeOfStore`. Save your results in a dataframe called ans3. The resulting dataframe should have `AgeOfStore` as index, a MultiIndex column given by `Promotion` and the counts of `MarketID`. \n",
    "\n",
    "**Hint**: To create the MultiIndex column, use `unstack()` on `Promotion`."
   ]
  },
  {
   "cell_type": "code",
   "execution_count": 11,
   "metadata": {},
   "outputs": [
    {
     "name": "stdout",
     "output_type": "stream",
     "text": [
      "Number of markets given promotion and the age of the store:\n",
      "           MarketID            \n",
      "Promotion         1     2     3\n",
      "AgeOfStore                     \n",
      "1              24.0  36.0  20.0\n",
      "2               8.0   8.0   4.0\n",
      "3              16.0  12.0   4.0\n",
      "4              16.0  12.0  16.0\n",
      "5               8.0  12.0  24.0\n",
      "6              20.0   4.0  12.0\n",
      "7               4.0  24.0  12.0\n",
      "8              12.0   8.0  20.0\n",
      "9               8.0  12.0   8.0\n",
      "10              NaN  16.0   8.0\n",
      "11              4.0   NaN  12.0\n",
      "12             12.0   4.0   8.0\n",
      "13             12.0   8.0   NaN\n",
      "14              NaN   8.0   4.0\n",
      "15              4.0   4.0   NaN\n",
      "17              NaN   NaN   4.0\n",
      "18              8.0   NaN   NaN\n",
      "19              4.0   8.0   8.0\n",
      "20              NaN   NaN   4.0\n",
      "22              4.0   NaN   8.0\n",
      "23              NaN   4.0   4.0\n",
      "24              4.0   NaN   8.0\n",
      "25              NaN   4.0   NaN\n",
      "27              4.0   NaN   NaN\n",
      "28              NaN   4.0   NaN\n"
     ]
    }
   ],
   "source": [
    "### GRADED\n",
    "# Expect some NaN values in the dataset\n",
    "\n",
    "### YOUR SOLUTION HERE\n",
    "ans3 = df.groupby(by=['Promotion', 'AgeOfStore']).count()\n",
    "ans3 = ans3.drop(['LocationID', 'MarketSize','week', 'SalesInThousands'], axis = 1)\n",
    "\n",
    "#In the end you have to unstack the promotion\n",
    "ans3 = ans3.unstack(level = 0)\n",
    "\n",
    "###\n",
    "### YOUR CODE HERE\n",
    "###\n",
    "### Answer check\n",
    "print(\"Number of markets given promotion and the age of the store:\")\n",
    "print(ans3)"
   ]
  },
  {
   "cell_type": "code",
   "execution_count": 12,
   "metadata": {
    "deletable": false,
    "editable": false,
    "nbgrader": {
     "grade": true,
     "grade_id": "Question 03",
     "locked": true,
     "points": "10",
     "solution": false
    }
   },
   "outputs": [],
   "source": [
    "###\n",
    "### AUTOGRADER TEST - DO NOT REMOVE\n",
    "###\n"
   ]
  },
  {
   "cell_type": "markdown",
   "metadata": {
    "deletable": false,
    "editable": false,
    "nbgrader": {
     "grade": false,
     "locked": true,
     "solution": false
    }
   },
   "source": [
    "# Understanding the promotions with statistics"
   ]
  },
  {
   "cell_type": "markdown",
   "metadata": {
    "deletable": false,
    "editable": false,
    "nbgrader": {
     "grade": false,
     "locked": true,
     "solution": false
    }
   },
   "source": [
    "<a id=\"q04\"></a>\n",
    "[Return to top](#questions)\n",
    "\n",
    "## Question 4\n",
    "\n",
    "Create a two-sided T-test with the null hypothesis that the sales for **Promotion 1** and **Promotion 2** have identical expected average values. Save the obtained t-statistic and the p-value into two variables called `t_1` and `p_1`, respectively. \n",
    "\n",
    "For this question, use the `scipy` module `stats.ttest_ind`. \n",
    "Set the value of the argument `equal_var` to `False` to perform a Welch’s t-test that **does not assume equal population variance.** \n",
    "\n",
    "You can find more information about the usage of the module `stats.ttest_ind` here: https://docs.scipy.org/doc/scipy/reference/generated/scipy.stats.ttest_ind.html \n",
    "\n",
    "**Hint**: Use the `SalesInThousands` variable for the values."
   ]
  },
  {
   "cell_type": "code",
   "execution_count": 13,
   "metadata": {
    "nbgrader": {
     "grade": false,
     "grade_id": "Question 04",
     "locked": false,
     "points": "10",
     "solution": false
    }
   },
   "outputs": [
    {
     "name": "stdout",
     "output_type": "stream",
     "text": [
      "Test: sales of Promotions 1 and 2.\n",
      "  t-statistic: 6.42752867090748\n",
      "  p-value: 4.2903687179871785e-10\n"
     ]
    }
   ],
   "source": [
    "### GRADED\n",
    "\n",
    "### YOUR SOLUTION HERE\n",
    "\n",
    "pro1 = df.loc[df['Promotion'] == 1]\n",
    "pro2 = df.loc[df['Promotion'] == 2]\n",
    "\n",
    "t_1, p_1 = stats.ttest_ind(pro1['SalesInThousands'], pro2['SalesInThousands'], equal_var = False)\n",
    "\n",
    "###\n",
    "### YOUR CODE HERE\n",
    "###\n",
    "### Answer check\n",
    "print(\"Test: sales of Promotions 1 and 2.\\n  t-statistic: {}\\n  p-value: {}\".format(t_1,p_1))"
   ]
  },
  {
   "cell_type": "code",
   "execution_count": 14,
   "metadata": {
    "deletable": false,
    "editable": false,
    "nbgrader": {
     "grade": true,
     "grade_id": "Question 04",
     "locked": true,
     "points": "15",
     "solution": false
    }
   },
   "outputs": [],
   "source": [
    "###\n",
    "### AUTOGRADER TEST - DO NOT REMOVE\n",
    "###\n"
   ]
  },
  {
   "cell_type": "markdown",
   "metadata": {
    "deletable": false,
    "editable": false,
    "nbgrader": {
     "grade": false,
     "locked": true,
     "solution": false
    }
   },
   "source": [
    "<a id=\"q05\"></a>\n",
    "[Return to top](#questions)\n",
    "\n",
    "## Question 5\n",
    "\n",
    "Create a two-sided T-test with the null hypothesis that the sales for **Promotion 1** and **Promotion 3** have identical expected average values. Save the obtained t-statistic and the p-value into two variables called `t_2` and `p_2`, respectively. Remember to set `equal_var` to `False`."
   ]
  },
  {
   "cell_type": "code",
   "execution_count": 15,
   "metadata": {},
   "outputs": [
    {
     "name": "stdout",
     "output_type": "stream",
     "text": [
      "Test: sales of Promotions 1 and 3.\n",
      "  t-statistic: 1.5560224307758634\n",
      "  p-value: 0.12059147742229478\n"
     ]
    }
   ],
   "source": [
    "### GRADED\n",
    "\n",
    "\n",
    "pro1 = df.loc[df['Promotion'] == 1]\n",
    "pro3 = df.loc[df['Promotion'] == 3]\n",
    "\n",
    "### YOUR SOLUTION HERE\n",
    "t_2, p_2 = stats.ttest_ind(pro1['SalesInThousands'], pro3['SalesInThousands'], equal_var = False)\n",
    "\n",
    "\n",
    "###\n",
    "### YOUR CODE HERE\n",
    "###\n",
    "### Answer check\n",
    "print(\"Test: sales of Promotions 1 and 3.\\n  t-statistic: {}\\n  p-value: {}\".format(t_2,p_2))"
   ]
  },
  {
   "cell_type": "code",
   "execution_count": 16,
   "metadata": {
    "deletable": false,
    "editable": false,
    "nbgrader": {
     "grade": true,
     "grade_id": "Question 05",
     "locked": true,
     "points": "10",
     "solution": false
    }
   },
   "outputs": [],
   "source": [
    "###\n",
    "### AUTOGRADER TEST - DO NOT REMOVE\n",
    "###\n"
   ]
  },
  {
   "cell_type": "markdown",
   "metadata": {
    "deletable": false,
    "editable": false,
    "nbgrader": {
     "grade": false,
     "locked": true,
     "solution": false
    }
   },
   "source": [
    "<a id=\"q06\"></a>\n",
    "[Return to top](#questions)\n",
    "\n",
    "## Question 6\n",
    "\n",
    "Create a two-sided T-test with the null hypothesis that the sales for **Promotion 2** and **Promotion 3** have identical expected average values. Save the obtained t-statistic and the p-value into two variables called `t_3` and `p_3`, respectively. Remember to set `equal_var` to `False`."
   ]
  },
  {
   "cell_type": "code",
   "execution_count": 17,
   "metadata": {
    "nbgrader": {
     "grade": false,
     "grade_id": "Question 06",
     "locked": false,
     "points": "10",
     "solution": false
    }
   },
   "outputs": [
    {
     "name": "stdout",
     "output_type": "stream",
     "text": [
      "Test: sales of Promotions 2 and 3.\n",
      "  t-statistic: -4.88139271089348\n",
      "  p-value: 1.5692733176039892e-06\n"
     ]
    }
   ],
   "source": [
    "### GRADED\n",
    "\n",
    "pro2 = df.loc[df['Promotion'] == 2]\n",
    "pro3 = df.loc[df['Promotion'] == 3]\n",
    "\n",
    "### YOUR SOLUTION HERE\n",
    "t_3, p_3 = stats.ttest_ind(pro2['SalesInThousands'], pro3['SalesInThousands'], equal_var = False)\n",
    "\n",
    "###\n",
    "### YOUR CODE HERE\n",
    "###\n",
    "### Answer check\n",
    "print(\"Test: sales of Promotions 2 and 3.\\n  t-statistic: {}\\n  p-value: {}\".format(t_3,p_3))"
   ]
  },
  {
   "cell_type": "code",
   "execution_count": 18,
   "metadata": {
    "deletable": false,
    "editable": false,
    "nbgrader": {
     "grade": true,
     "grade_id": "Question 06",
     "locked": true,
     "points": "10",
     "solution": false
    }
   },
   "outputs": [],
   "source": [
    "###\n",
    "### AUTOGRADER TEST - DO NOT REMOVE\n",
    "###\n"
   ]
  },
  {
   "cell_type": "markdown",
   "metadata": {
    "deletable": false,
    "editable": false,
    "nbgrader": {
     "grade": false,
     "locked": true,
     "solution": false
    }
   },
   "source": [
    "<a id=\"q07\"></a>\n",
    "[Return to top](#questions)\n",
    "\n",
    "## Question 7\n",
    "\n",
    "Which promotion had the biggest sales in average and how much was it? \n",
    "Save your result in a tuple named ans4. The resulting tuple should have the following structure: \n",
    "\n",
    "```\n",
    "(\"Promotion #\", Average_sale)\n",
    "```\n",
    "\n",
    "**Round the value of Average_sale to two decimals digits.**\n",
    "\n",
    "Example:\n",
    "\n",
    "```\n",
    "ans4 = (\"Promotion 0\", 12.15)\n",
    "```\n",
    "\n",
    "**Hint**: The first element of the tuple should be a string and the second one a float."
   ]
  },
  {
   "cell_type": "code",
   "execution_count": 19,
   "metadata": {},
   "outputs": [
    {
     "name": "stdout",
     "output_type": "stream",
     "text": [
      "                  Promotion\n",
      "SalesInThousands  1            58.099012\n",
      "                  2            47.329415\n",
      "                  3            55.364468\n",
      "dtype: float64\n"
     ]
    }
   ],
   "source": [
    "### GRADED\n",
    "\n",
    "### YOUR SOLUTION HERE\n",
    "ans4 = (\"Promotion 1\", 58.10)\n",
    "print(df.groupby(['Promotion']).mean()[[\"SalesInThousands\"]].unstack(\"Promotion\"))\n",
    "\n",
    "###\n",
    "### YOUR CODE HERE\n",
    "###\n"
   ]
  },
  {
   "cell_type": "code",
   "execution_count": 20,
   "metadata": {
    "deletable": false,
    "editable": false,
    "nbgrader": {
     "grade": true,
     "grade_id": "Question 07",
     "locked": true,
     "points": "5",
     "solution": false
    }
   },
   "outputs": [],
   "source": [
    "###\n",
    "### AUTOGRADER TEST - DO NOT REMOVE\n",
    "###\n"
   ]
  },
  {
   "cell_type": "markdown",
   "metadata": {
    "deletable": false,
    "editable": false,
    "nbgrader": {
     "grade": false,
     "locked": true,
     "solution": false
    }
   },
   "source": [
    "<a id=\"q08\"></a>\n",
    "[Return to top](#questions)\n",
    "\n",
    "## Question 8\n",
    "\n",
    "Based on your previous results, can we say that that the marketing performance of promotion group 1 is not statistically different from the marketing performance of promotion group 3, even though the average number of sales of promotion group 1 is higher than the average number of sales of promotion group 3?\n",
    "\n",
    "Assign the booloean value `True` or `False` to a variable called ans5. "
   ]
  },
  {
   "cell_type": "code",
   "execution_count": 21,
   "metadata": {
    "nbgrader": {
     "grade": false,
     "locked": false,
     "solution": false
    }
   },
   "outputs": [],
   "source": [
    "### GRADED\n",
    "\n",
    "### YOUR SOLUTION HERE\n",
    "ans5 = True\n",
    "\n",
    "###\n",
    "### YOUR CODE HERE\n",
    "###\n"
   ]
  },
  {
   "cell_type": "code",
   "execution_count": 22,
   "metadata": {
    "deletable": false,
    "editable": false,
    "nbgrader": {
     "grade": true,
     "grade_id": "Question 08",
     "locked": true,
     "points": "10",
     "solution": false
    }
   },
   "outputs": [],
   "source": [
    "###\n",
    "### AUTOGRADER TEST - DO NOT REMOVE\n",
    "###\n"
   ]
  },
  {
   "cell_type": "markdown",
   "metadata": {
    "deletable": false,
    "editable": false,
    "nbgrader": {
     "grade": false,
     "locked": true,
     "solution": false
    }
   },
   "source": [
    "<a id=\"q09\"></a>\n",
    "[Return to top](#questions)\n",
    "\n",
    "## Question 9 \n",
    "\n",
    "Based on your previous results, can we say that promotion 2 significantly increased sales?\n",
    "\n",
    "Assign the booloean value `True` or `False` to a variable called ans6. "
   ]
  },
  {
   "cell_type": "code",
   "execution_count": 23,
   "metadata": {},
   "outputs": [],
   "source": [
    "### GRADED\n",
    "\n",
    "### YOUR SOLUTION HERE\n",
    "ans6 = False\n",
    "\n",
    "###\n",
    "### YOUR CODE HERE\n",
    "###\n"
   ]
  },
  {
   "cell_type": "code",
   "execution_count": 24,
   "metadata": {
    "deletable": false,
    "editable": false,
    "nbgrader": {
     "grade": true,
     "grade_id": "Question 09",
     "locked": true,
     "points": "5",
     "solution": false
    }
   },
   "outputs": [],
   "source": [
    "###\n",
    "### AUTOGRADER TEST - DO NOT REMOVE\n",
    "###\n"
   ]
  }
 ],
 "metadata": {
  "kernelspec": {
   "display_name": "Python 3 (ipykernel)",
   "language": "python",
   "name": "python3"
  },
  "language_info": {
   "codemirror_mode": {
    "name": "ipython",
    "version": 3
   },
   "file_extension": ".py",
   "mimetype": "text/x-python",
   "name": "python",
   "nbconvert_exporter": "python",
   "pygments_lexer": "ipython3",
   "version": "3.9.13"
  }
 },
 "nbformat": 4,
 "nbformat_minor": 4
}
