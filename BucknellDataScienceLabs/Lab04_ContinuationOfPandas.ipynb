{
 "cells": [
  {
   "cell_type": "markdown",
   "metadata": {},
   "source": [
    "### Lab 04 - pandas II\n",
    "Name: Dempsey Wade \n",
    "\n",
    "Class: CSCI 349 - Intro to Data Mining \n",
    "\n",
    "Semester: 2019SP \n",
    "\n",
    "Instructor: Brian King"
   ]
  },
  {
   "cell_type": "code",
   "execution_count": 1,
   "metadata": {},
   "outputs": [],
   "source": [
    "import sys\n",
    "import numpy as np\n",
    "import pandas as pd"
   ]
  },
  {
   "cell_type": "code",
   "execution_count": 2,
   "metadata": {},
   "outputs": [
    {
     "name": "stdout",
     "output_type": "stream",
     "text": [
      "        Mon   Tue    Wed   Thur   Fri\n",
      "week_1  9.5  8.75   8.00  10.00  7.75\n",
      "week_2  9.0  8.00  10.00   8.75  7.25\n",
      "week_3  8.5  8.00   9.75   9.00  6.00\n",
      "week_4  6.5  8.25   9.00   8.00  7.50\n"
     ]
    }
   ],
   "source": [
    "days = [\"Mon\",\"Tue\",\"Wed\",\"Thur\",\"Fri\"]\n",
    "scores = pd.DataFrame([pd.Series([9.5, 8.75, 8, 10, 7.75], index=days, name=\"week_1\"), pd.Series([9, 8, 10, 8.75, 7.25], index=days, name=\"week_2\"), pd.Series([8.5, 8, 9.75, 9, 6], index=days, name=\"week_3\"), pd.Series([6.5, 8.25, 9, 8, 7.5], index=days, name=\"week_4\")])\n",
    "print(scores)"
   ]
  },
  {
   "cell_type": "markdown",
   "metadata": {},
   "source": [
    "### 1) [P] Report the number of dimensions, the shape, the size of the data, and the data types in the scores."
   ]
  },
  {
   "cell_type": "code",
   "execution_count": 3,
   "metadata": {},
   "outputs": [
    {
     "name": "stdout",
     "output_type": "stream",
     "text": [
      "<class 'pandas.core.frame.DataFrame'>\n",
      "Index: 4 entries, week_1 to week_4\n",
      "Data columns (total 5 columns):\n",
      " #   Column  Non-Null Count  Dtype  \n",
      "---  ------  --------------  -----  \n",
      " 0   Mon     4 non-null      float64\n",
      " 1   Tue     4 non-null      float64\n",
      " 2   Wed     4 non-null      float64\n",
      " 3   Thur    4 non-null      float64\n",
      " 4   Fri     4 non-null      float64\n",
      "dtypes: float64(5)\n",
      "memory usage: 192.0+ bytes\n",
      "None\n",
      "Shape:  4\n",
      "Size:  20\n",
      "Scores type: float64 \n"
     ]
    }
   ],
   "source": [
    "print(scores.info())\n",
    "print(\"Shape: \", scores.shape[0])\n",
    "print(\"Size: \", scores.size)\n",
    "print(\"Scores type: float64 \")"
   ]
  },
  {
   "cell_type": "markdown",
   "metadata": {},
   "source": [
    "### 2) [P] How many observations? How many variables (i.e. columns)?"
   ]
  },
  {
   "cell_type": "code",
   "execution_count": 4,
   "metadata": {},
   "outputs": [
    {
     "name": "stdout",
     "output_type": "stream",
     "text": [
      "Observations:  20\n",
      "Variables:  5\n"
     ]
    }
   ],
   "source": [
    "print(\"Observations: \", len(scores.columns)*scores.shape[0])\n",
    "print(\"Variables: \", len(scores.columns))"
   ]
  },
  {
   "cell_type": "markdown",
   "metadata": {},
   "source": [
    "### 3) [P] Rename the 'Thur' column header to be 'Thu' Show the new scores data frame"
   ]
  },
  {
   "cell_type": "code",
   "execution_count": 5,
   "metadata": {},
   "outputs": [
    {
     "name": "stdout",
     "output_type": "stream",
     "text": [
      "        Mon   Tue    Wed    Thu   Fri\n",
      "week_1  9.5  8.75   8.00  10.00  7.75\n",
      "week_2  9.0  8.00  10.00   8.75  7.25\n",
      "week_3  8.5  8.00   9.75   9.00  6.00\n",
      "week_4  6.5  8.25   9.00   8.00  7.50\n"
     ]
    }
   ],
   "source": [
    "scores.rename(columns = {'Thur':'Thu'}, inplace = True)\n",
    "print(scores)"
   ]
  },
  {
   "cell_type": "markdown",
   "metadata": {},
   "source": [
    "### 4) [P] Rename the index to be 'w1', 'w2', 'w3', and 'w4'. Rename the variables to be 'Mo', 'Tu', 'We', 'Th', 'Fr'. Your new updates scores set should be as follows:"
   ]
  },
  {
   "cell_type": "code",
   "execution_count": 6,
   "metadata": {},
   "outputs": [
    {
     "name": "stdout",
     "output_type": "stream",
     "text": [
      "     Mo    Tu     We     Th    Fr\n",
      "w1  9.5  8.75   8.00  10.00  7.75\n",
      "w2  9.0  8.00  10.00   8.75  7.25\n",
      "w3  8.5  8.00   9.75   9.00  6.00\n",
      "w4  6.5  8.25   9.00   8.00  7.50\n"
     ]
    }
   ],
   "source": [
    "scores.rename({'week_1':'w1', 'week_2':'w2', 'week_3':'w3', 'week_4':'w4'}, inplace = True)\n",
    "scores.rename(columns = {'Mon':'Mo', 'Tue':'Tu', 'Wed':'We', 'Thu':'Th', 'Fri':'Fr'}, inplace = True)\n",
    "print(scores)"
   ]
  },
  {
   "cell_type": "markdown",
   "metadata": {},
   "source": [
    "### 5) [M] Compare the type of the expression scores ['Mo'] vs. scores [['Mo']]. What is the difference? Explain."
   ]
  },
  {
   "cell_type": "code",
   "execution_count": 9,
   "metadata": {},
   "outputs": [
    {
     "name": "stdout",
     "output_type": "stream",
     "text": [
      "w1    9.5\n",
      "w2    9.0\n",
      "w3    8.5\n",
      "w4    6.5\n",
      "Name: Mo, dtype: float64\n",
      "     Mo\n",
      "w1  9.5\n",
      "w2  9.0\n",
      "w3  8.5\n",
      "w4  6.5\n"
     ]
    }
   ],
   "source": [
    "#Retains the object\n",
    "print(scores['Mo'])\n",
    "\n",
    "#Gets the values\n",
    "print(scores[['Mo']])"
   ]
  },
  {
   "cell_type": "markdown",
   "metadata": {},
   "source": [
    "The difference is the header. [['Mo']] does not print out the data type. "
   ]
  },
  {
   "cell_type": "markdown",
   "metadata": {},
   "source": [
    "### 6) [M] What does the keys() method of data frames do? Demonstrate it on the scores data frame."
   ]
  },
  {
   "cell_type": "code",
   "execution_count": 10,
   "metadata": {},
   "outputs": [
    {
     "name": "stdout",
     "output_type": "stream",
     "text": [
      "Index(['Mo', 'Tu', 'We', 'Th', 'Fr'], dtype='object')\n"
     ]
    }
   ],
   "source": [
    "print(scores.keys())\n",
    "#The keys() method returns the column headers and the data type"
   ]
  },
  {
   "cell_type": "markdown",
   "metadata": {},
   "source": [
    "### 7) [M] Read about the describe() method of data frames. (FYI - This is essentially the equivalent to the summary() function in R.)"
   ]
  },
  {
   "cell_type": "markdown",
   "metadata": {},
   "source": [
    "Describe returns a numerical description of each column, including their standard deviation, the mean, the min and max, and others. It also allows you to find any outliers."
   ]
  },
  {
   "cell_type": "markdown",
   "metadata": {},
   "source": [
    "### 8) [P] Demonstrate the describe() method on scores. What type does it return? (This makes it quite usable!) Look at the output. Which day had the largest standard deviation in quiz scores?"
   ]
  },
  {
   "cell_type": "code",
   "execution_count": 11,
   "metadata": {},
   "outputs": [
    {
     "name": "stdout",
     "output_type": "stream",
     "text": [
      "             Mo        Tu         We         Th        Fr\n",
      "count  4.000000  4.000000   4.000000   4.000000  4.000000\n",
      "mean   8.375000  8.250000   9.187500   8.937500  7.125000\n",
      "std    1.314978  0.353553   0.898494   0.826009  0.777282\n",
      "min    6.500000  8.000000   8.000000   8.000000  6.000000\n",
      "25%    8.000000  8.000000   8.750000   8.562500  6.937500\n",
      "50%    8.750000  8.125000   9.375000   8.875000  7.375000\n",
      "75%    9.125000  8.375000   9.812500   9.250000  7.562500\n",
      "max    9.500000  8.750000  10.000000  10.000000  7.750000\n"
     ]
    }
   ],
   "source": [
    "print(scores.describe())\n",
    "#Data type: DataFrame\n",
    "#Largest standard deviation: Mo"
   ]
  },
  {
   "cell_type": "markdown",
   "metadata": {},
   "source": [
    "### 9) [P] Write code to directly determine which day had the largest standard deviation in quiz scores. Your result should simply output the abbreviated name from the columns. "
   ]
  },
  {
   "cell_type": "code",
   "execution_count": 12,
   "metadata": {},
   "outputs": [
    {
     "name": "stdout",
     "output_type": "stream",
     "text": [
      "std    Mo\n",
      "dtype: object\n"
     ]
    }
   ],
   "source": [
    "print(scores.describe().loc[['std']].idxmax(axis=1))"
   ]
  },
  {
   "cell_type": "markdown",
   "metadata": {},
   "source": [
    "### 10 [P] Show the result of describe() on the transpose of the scores dataframe. Which week had the best average score?"
   ]
  },
  {
   "cell_type": "code",
   "execution_count": 13,
   "metadata": {},
   "outputs": [
    {
     "name": "stdout",
     "output_type": "stream",
     "text": [
      "<bound method NDFrame.describe of      Mo    Tu     We     Th    Fr\n",
      "w1  9.5  8.75   8.00  10.00  7.75\n",
      "w2  9.0  8.00  10.00   8.75  7.25\n",
      "w3  8.5  8.00   9.75   9.00  6.00\n",
      "w4  6.5  8.25   9.00   8.00  7.50>\n",
      "              w1         w2        w3        w4\n",
      "count   5.000000   5.000000  5.000000  5.000000\n",
      "mean    8.800000   8.600000  8.250000  7.850000\n",
      "std     0.958514   1.039832  1.414214  0.928709\n",
      "min     7.750000   7.250000  6.000000  6.500000\n",
      "25%     8.000000   8.000000  8.000000  7.500000\n",
      "50%     8.750000   8.750000  8.500000  8.000000\n",
      "75%     9.500000   9.000000  9.000000  8.250000\n",
      "max    10.000000  10.000000  9.750000  9.000000\n"
     ]
    }
   ],
   "source": [
    "print(scores.describe)\n",
    "scores = scores.T\n",
    "print(scores.describe())"
   ]
  },
  {
   "cell_type": "code",
   "execution_count": 14,
   "metadata": {},
   "outputs": [
    {
     "name": "stdout",
     "output_type": "stream",
     "text": [
      "mean    w1\n",
      "dtype: object\n"
     ]
    }
   ],
   "source": [
    "print(scores.describe().loc[['mean']].idxmax(axis=1))"
   ]
  },
  {
   "cell_type": "code",
   "execution_count": 15,
   "metadata": {},
   "outputs": [
    {
     "name": "stdout",
     "output_type": "stream",
     "text": [
      "     Mo    Tu     We     Th    Fr\n",
      "w1  9.5  8.75   8.00  10.00  7.75\n",
      "w2  9.0  8.00  10.00   8.75  7.25\n",
      "w3  8.5  8.00   9.75   9.00  6.00\n",
      "w4  6.5  8.25   9.00   8.00  7.50\n"
     ]
    }
   ],
   "source": [
    "#IGNORE: JUST TO GET .T BACK\n",
    "scores = scores.T\n",
    "print(scores)"
   ]
  },
  {
   "cell_type": "markdown",
   "metadata": {},
   "source": [
    "### 11) [M] What does the .values attribute do?"
   ]
  },
  {
   "cell_type": "code",
   "execution_count": 16,
   "metadata": {},
   "outputs": [
    {
     "name": "stdout",
     "output_type": "stream",
     "text": [
      "[[ 9.5   8.75  8.   10.    7.75]\n",
      " [ 9.    8.   10.    8.75  7.25]\n",
      " [ 8.5   8.    9.75  9.    6.  ]\n",
      " [ 6.5   8.25  9.    8.    7.5 ]]\n"
     ]
    }
   ],
   "source": [
    "# The .values prints a 2D array containing all of the values in the DataFrame\n",
    "print(scores.values)"
   ]
  },
  {
   "cell_type": "markdown",
   "metadata": {},
   "source": [
    "### 12) [P] What is the mean of the entire data set?(HINT: .values may make this easy)"
   ]
  },
  {
   "cell_type": "code",
   "execution_count": 17,
   "metadata": {},
   "outputs": [
    {
     "name": "stdout",
     "output_type": "stream",
     "text": [
      "8.375\n"
     ]
    }
   ],
   "source": [
    "print(scores.values.mean(axis = 0).mean(axis = 0))"
   ]
  },
  {
   "cell_type": "markdown",
   "metadata": {},
   "source": [
    "### 13) [P] What is the mean for each day? Do not use describe() "
   ]
  },
  {
   "cell_type": "code",
   "execution_count": 18,
   "metadata": {},
   "outputs": [
    {
     "name": "stdout",
     "output_type": "stream",
     "text": [
      "Mo    8.3750\n",
      "Tu    8.2500\n",
      "We    9.1875\n",
      "Th    8.9375\n",
      "Fr    7.1250\n",
      "dtype: float64\n"
     ]
    }
   ],
   "source": [
    "print(scores.mean(axis = 0))"
   ]
  },
  {
   "cell_type": "markdown",
   "metadata": {},
   "source": [
    "### 14) [P] Select the data frame for only Monday– Thursday using .loc, and again using .iloc"
   ]
  },
  {
   "cell_type": "code",
   "execution_count": 19,
   "metadata": {},
   "outputs": [
    {
     "name": "stdout",
     "output_type": "stream",
     "text": [
      "     Mo    Tu     We     Th\n",
      "w1  9.5  8.75   8.00  10.00\n",
      "w2  9.0  8.00  10.00   8.75\n",
      "w3  8.5  8.00   9.75   9.00\n",
      "w4  6.5  8.25   9.00   8.00\n",
      "     Mo    Tu     We     Th\n",
      "w1  9.5  8.75   8.00  10.00\n",
      "w2  9.0  8.00  10.00   8.75\n",
      "w3  8.5  8.00   9.75   9.00\n",
      "w4  6.5  8.25   9.00   8.00\n"
     ]
    }
   ],
   "source": [
    "print(scores.loc[::1, 'Mo':'Th'])\n",
    "print(scores.iloc[::1, 0:4])"
   ]
  },
  {
   "cell_type": "markdown",
   "metadata": {},
   "source": [
    "### 15) [P] Show the mean for each week after your minimum score for each week was dropped."
   ]
  },
  {
   "cell_type": "code",
   "execution_count": 20,
   "metadata": {},
   "outputs": [
    {
     "name": "stdout",
     "output_type": "stream",
     "text": [
      "w1    9.0625\n",
      "w2    8.9375\n",
      "w3    8.8125\n",
      "w4    8.1875\n",
      "dtype: float64\n"
     ]
    }
   ],
   "source": [
    "print((scores.sum(axis = 1)).subtract(scores.min(axis = 1)).divide(len(scores)))"
   ]
  },
  {
   "cell_type": "markdown",
   "metadata": {},
   "source": [
    "### 16) [P] Select the weeks where Friday's score was greater than 7.25, using the [] operator"
   ]
  },
  {
   "cell_type": "code",
   "execution_count": 21,
   "metadata": {},
   "outputs": [
    {
     "name": "stdout",
     "output_type": "stream",
     "text": [
      "       Fr\n",
      "w1   True\n",
      "w2  False\n",
      "w3  False\n",
      "w4   True\n"
     ]
    }
   ],
   "source": [
    "print(scores.loc[::1, 'Fr':'Fr'] > 7.25)"
   ]
  },
  {
   "cell_type": "markdown",
   "metadata": {},
   "source": [
    "### 17) [P] Use the where() method to repeat the previous exercise."
   ]
  },
  {
   "cell_type": "code",
   "execution_count": 22,
   "metadata": {},
   "outputs": [
    {
     "name": "stdout",
     "output_type": "stream",
     "text": [
      "      Fr\n",
      "w1  7.75\n",
      "w2   NaN\n",
      "w3   NaN\n",
      "w4  7.50\n"
     ]
    }
   ],
   "source": [
    "print(scores.loc[::1, 'Fr':'Fr'].where(scores.loc[::1, 'Fr':'Fr'] > 7.25))"
   ]
  },
  {
   "cell_type": "markdown",
   "metadata": {},
   "source": [
    "### 18) Select the data where each value is greater than the mean for all of the data. Your result should look like:"
   ]
  },
  {
   "cell_type": "code",
   "execution_count": 23,
   "metadata": {},
   "outputs": [
    {
     "name": "stdout",
     "output_type": "stream",
     "text": [
      "     Mo    Tu     We     Th  Fr\n",
      "w1  9.5  8.75    NaN  10.00 NaN\n",
      "w2  9.0   NaN  10.00   8.75 NaN\n",
      "w3  8.5   NaN   9.75   9.00 NaN\n",
      "w4  NaN   NaN   9.00    NaN NaN\n"
     ]
    }
   ],
   "source": [
    "print(scores.where(scores.loc[::1, ::1] > scores.mean(axis = 0).mean(axis = 0)))"
   ]
  },
  {
   "cell_type": "markdown",
   "metadata": {},
   "source": [
    "### 19) [P] Select the scores where each value is greater than the week's mean value. Your result should look slightly different than the previous exercise:"
   ]
  },
  {
   "cell_type": "code",
   "execution_count": 24,
   "metadata": {},
   "outputs": [
    {
     "name": "stdout",
     "output_type": "stream",
     "text": [
      "     Mo    Tu     We     Th  Fr\n",
      "w1  9.5   NaN    NaN  10.00 NaN\n",
      "w2  9.0   NaN  10.00   8.75 NaN\n",
      "w3  8.5   NaN   9.75   9.00 NaN\n",
      "w4  NaN  8.25   9.00   8.00 NaN\n"
     ]
    }
   ],
   "source": [
    "scores = scores.T\n",
    "print(scores.where(scores.loc[::1, ::1] > scores.mean(axis = 0)).T)"
   ]
  },
  {
   "cell_type": "code",
   "execution_count": 25,
   "metadata": {},
   "outputs": [
    {
     "name": "stdout",
     "output_type": "stream",
     "text": [
      "       w1     w2    w3    w4\n",
      "Mo   9.50   9.00  8.50  6.50\n",
      "Tu   8.75   8.00  8.00  8.25\n",
      "We   8.00  10.00  9.75  9.00\n",
      "Th  10.00   8.75  9.00  8.00\n",
      "Fr   7.75   7.25  6.00  7.50\n"
     ]
    }
   ],
   "source": [
    "print(scores)"
   ]
  },
  {
   "cell_type": "markdown",
   "metadata": {},
   "source": [
    "For the next several exercises, you will work with your first real dataset. Include the following code in a cell:"
   ]
  },
  {
   "cell_type": "code",
   "execution_count": 26,
   "metadata": {},
   "outputs": [],
   "source": [
    "url = 'https://raw.githubusercontent.com/justmarkham/DAT8/master/data/chipotle.tsv' \n",
    "chip_df = pd.read_csv(url, sep = '\\t')\n",
    "#print(chip_df)"
   ]
  },
  {
   "cell_type": "markdown",
   "metadata": {},
   "source": [
    "### 20) [P] How many columns in chip_df?"
   ]
  },
  {
   "cell_type": "code",
   "execution_count": 27,
   "metadata": {},
   "outputs": [
    {
     "name": "stdout",
     "output_type": "stream",
     "text": [
      "columns:  5\n"
     ]
    }
   ],
   "source": [
    "print(\"columns: \", chip_df.shape[1])"
   ]
  },
  {
   "cell_type": "markdown",
   "metadata": {},
   "source": [
    "### 21) [P] How many observations are there in chip_df?"
   ]
  },
  {
   "cell_type": "code",
   "execution_count": 28,
   "metadata": {},
   "outputs": [
    {
     "name": "stdout",
     "output_type": "stream",
     "text": [
      "observations:  4622\n"
     ]
    }
   ],
   "source": [
    "print(\"observations: \", chip_df.shape[0])"
   ]
  },
  {
   "cell_type": "markdown",
   "metadata": {},
   "source": [
    "### 22) [P] Show the columns of chip_df"
   ]
  },
  {
   "cell_type": "code",
   "execution_count": 29,
   "metadata": {},
   "outputs": [
    {
     "name": "stdout",
     "output_type": "stream",
     "text": [
      "['order_id' 'quantity' 'item_name' 'choice_description' 'item_price']\n"
     ]
    }
   ],
   "source": [
    "print(chip_df.columns.values)"
   ]
  },
  {
   "cell_type": "markdown",
   "metadata": {},
   "source": [
    "### 23) [P] Show the first 10 observations of chip_df"
   ]
  },
  {
   "cell_type": "code",
   "execution_count": 30,
   "metadata": {},
   "outputs": [
    {
     "name": "stdout",
     "output_type": "stream",
     "text": [
      "   order_id  quantity                              item_name  \\\n",
      "0         1         1           Chips and Fresh Tomato Salsa   \n",
      "1         1         1                                   Izze   \n",
      "2         1         1                       Nantucket Nectar   \n",
      "3         1         1  Chips and Tomatillo-Green Chili Salsa   \n",
      "4         2         2                           Chicken Bowl   \n",
      "5         3         1                           Chicken Bowl   \n",
      "6         3         1                          Side of Chips   \n",
      "7         4         1                          Steak Burrito   \n",
      "8         4         1                       Steak Soft Tacos   \n",
      "9         5         1                          Steak Burrito   \n",
      "\n",
      "                                  choice_description item_price  \n",
      "0                                                NaN     $2.39   \n",
      "1                                       [Clementine]     $3.39   \n",
      "2                                            [Apple]     $3.39   \n",
      "3                                                NaN     $2.39   \n",
      "4  [Tomatillo-Red Chili Salsa (Hot), [Black Beans...    $16.98   \n",
      "5  [Fresh Tomato Salsa (Mild), [Rice, Cheese, Sou...    $10.98   \n",
      "6                                                NaN     $1.69   \n",
      "7  [Tomatillo Red Chili Salsa, [Fajita Vegetables...    $11.75   \n",
      "8  [Tomatillo Green Chili Salsa, [Pinto Beans, Ch...     $9.25   \n",
      "9  [Fresh Tomato Salsa, [Rice, Black Beans, Pinto...     $9.25   \n"
     ]
    }
   ],
   "source": [
    "print(chip_df.head(10))"
   ]
  },
  {
   "cell_type": "markdown",
   "metadata": {},
   "source": [
    "### 24) [P] How many unique item_name entries are there?"
   ]
  },
  {
   "cell_type": "code",
   "execution_count": 31,
   "metadata": {},
   "outputs": [
    {
     "name": "stdout",
     "output_type": "stream",
     "text": [
      "50\n"
     ]
    }
   ],
   "source": [
    "print(len(chip_df.item_name.unique()))"
   ]
  },
  {
   "cell_type": "markdown",
   "metadata": {},
   "source": [
    "### 25) How many distinct orders are there?"
   ]
  },
  {
   "cell_type": "code",
   "execution_count": 32,
   "metadata": {},
   "outputs": [
    {
     "name": "stdout",
     "output_type": "stream",
     "text": [
      "1044\n"
     ]
    }
   ],
   "source": [
    "print(len(chip_df.choice_description.unique()))"
   ]
  },
  {
   "cell_type": "markdown",
   "metadata": {},
   "source": [
    "### 26) [P] What were the top 5 ordered items? (Be sure to consider the quantity of each item order!) How many of each were ordered?"
   ]
  },
  {
   "cell_type": "code",
   "execution_count": 33,
   "metadata": {},
   "outputs": [
    {
     "name": "stdout",
     "output_type": "stream",
     "text": [
      "                     order_id  quantity\n",
      "item_name                              \n",
      "Chicken Bowl           713926       761\n",
      "Chicken Burrito        497303       591\n",
      "Chips and Guacamole    449959       506\n",
      "Steak Burrito          328437       386\n",
      "Canned Soft Drink      304753       351\n"
     ]
    }
   ],
   "source": [
    "#print(chip_df['item_name'].value_counts().head(5))\n",
    "top5 = chip_df.groupby(['item_name']).sum()\n",
    "print(top5.sort_values('quantity', ascending = False).head(5))"
   ]
  },
  {
   "cell_type": "markdown",
   "metadata": {},
   "source": [
    "### 27) [P] How many orders were for \"Steak Burrito\"?"
   ]
  },
  {
   "cell_type": "code",
   "execution_count": 34,
   "metadata": {},
   "outputs": [
    {
     "name": "stdout",
     "output_type": "stream",
     "text": [
      "386\n"
     ]
    }
   ],
   "source": [
    "print(top5.loc['Steak Burrito'].quantity)"
   ]
  },
  {
   "cell_type": "markdown",
   "metadata": {},
   "source": [
    "### 28) [P] What is the most frequent item ordered for \"Steak Burrito\" orders? (You need to explore the choice_description variable!)"
   ]
  },
  {
   "cell_type": "code",
   "execution_count": 35,
   "metadata": {},
   "outputs": [
    {
     "name": "stdout",
     "output_type": "stream",
     "text": [
      "                                                    order_id  quantity\n",
      "choice_description                                                    \n",
      "[Fresh Tomato Salsa (Mild), [Pinto Beans, Rice,...     10833        12\n"
     ]
    }
   ],
   "source": [
    "freq = chip_df.groupby(['item_name', 'choice_description']).sum().loc['Steak Burrito']\n",
    "print(freq.sort_values('quantity', ascending = False).head(1))"
   ]
  },
  {
   "cell_type": "markdown",
   "metadata": {},
   "source": [
    "### 29) [P] Run the describe() method on chip_df. Why are variables missing in the output? (Read the help for describe()!)"
   ]
  },
  {
   "cell_type": "code",
   "execution_count": 36,
   "metadata": {},
   "outputs": [
    {
     "name": "stdout",
     "output_type": "stream",
     "text": [
      "          order_id     quantity\n",
      "count  4622.000000  4622.000000\n",
      "mean    927.254868     1.075725\n",
      "std     528.890796     0.410186\n",
      "min       1.000000     1.000000\n",
      "25%     477.250000     1.000000\n",
      "50%     926.000000     1.000000\n",
      "75%    1393.000000     1.000000\n",
      "max    1834.000000    15.000000\n"
     ]
    }
   ],
   "source": [
    "print(chip_df.describe())"
   ]
  },
  {
   "cell_type": "markdown",
   "metadata": {},
   "source": [
    "The default for the describe() method is to only return columns that can be described numerically. Other variables, such as item_price, are not int's or float's so they have no numerical summary available. "
   ]
  },
  {
   "cell_type": "markdown",
   "metadata": {},
   "source": [
    "### 30) [P] Can you readily compute the mean of the \"item_price\" variable? If not, why not?"
   ]
  },
  {
   "cell_type": "code",
   "execution_count": 38,
   "metadata": {},
   "outputs": [],
   "source": [
    "#print(chip_df['item_price'].mean())\n",
    "#It says the item_price variable is a string, not a float\n",
    "#Can't compute the mean of a string\n",
    "#Must convert to type float"
   ]
  },
  {
   "cell_type": "markdown",
   "metadata": {},
   "source": [
    "### 31) [P] Convert the item_price field to a floating point number. Confirm by showing the output of info() NOTE – This is a classic example of the type of cleaning and preprocessing you need to always deal with when working with data. We'll be doing a LOT of this very soon!"
   ]
  },
  {
   "cell_type": "code",
   "execution_count": 41,
   "metadata": {},
   "outputs": [],
   "source": [
    "price = [float(value[1 : -1]) for value in chip_df.item_price] #Inspired by git\n",
    "chip_df['item_price'] = price"
   ]
  },
  {
   "cell_type": "code",
   "execution_count": 42,
   "metadata": {
    "scrolled": true,
    "tags": []
   },
   "outputs": [
    {
     "name": "stdout",
     "output_type": "stream",
     "text": [
      "<class 'pandas.core.frame.DataFrame'>\n",
      "RangeIndex: 4622 entries, 0 to 4621\n",
      "Data columns (total 5 columns):\n",
      " #   Column              Non-Null Count  Dtype  \n",
      "---  ------              --------------  -----  \n",
      " 0   order_id            4622 non-null   int64  \n",
      " 1   quantity            4622 non-null   int64  \n",
      " 2   item_name           4622 non-null   object \n",
      " 3   choice_description  3376 non-null   object \n",
      " 4   item_price          4622 non-null   float64\n",
      "dtypes: float64(1), int64(2), object(2)\n",
      "memory usage: 180.7+ KB\n",
      "None\n"
     ]
    }
   ],
   "source": [
    "# clean the item_price column and transform it in a float\n",
    "print(chip_df.info())\n",
    "#Output shows that item_price is now float64"
   ]
  },
  {
   "cell_type": "markdown",
   "metadata": {
    "tags": []
   },
   "source": [
    "### 32) [P] Compute the mean price for an order (NOTE–This is NOT just a mean of the item_price column!"
   ]
  },
  {
   "cell_type": "code",
   "execution_count": 43,
   "metadata": {},
   "outputs": [
    {
     "name": "stdout",
     "output_type": "stream",
     "text": [
      "21.394231188658654\n"
     ]
    }
   ],
   "source": [
    "#Compute total revenue for the day, divided by the number of orders for the day\n",
    "#print(sum(chip_df.quantity*price)/(sum(chip_df['quantity'])))\n",
    "#print((chip_df.quantity*price).mean())\n",
    "chip_df['me'] = chip_df[\"item_price\"]*chip_df[\"quantity\"]\n",
    "print(chip_df.groupby('order_id')['me'].sum().mean())"
   ]
  },
  {
   "cell_type": "markdown",
   "metadata": {},
   "source": [
    "### 33) What was total revenue for the data? (NOTE-Make sure you consider the quantity variable!)"
   ]
  },
  {
   "cell_type": "code",
   "execution_count": 44,
   "metadata": {
    "scrolled": true
   },
   "outputs": [
    {
     "name": "stdout",
     "output_type": "stream",
     "text": [
      "39237.020000000055\n"
     ]
    }
   ],
   "source": [
    "#price is the float representation of 'item_price'\n",
    "print(sum(chip_df.quantity*price))"
   ]
  },
  {
   "cell_type": "markdown",
   "metadata": {},
   "source": [
    "### 34) [P] Using Python and markdown, discuss the distribution of quantity – how many orders had quantity of 1? How many had 2? What is the average quantity? Range of values? Etc."
   ]
  },
  {
   "cell_type": "code",
   "execution_count": 45,
   "metadata": {},
   "outputs": [
    {
     "name": "stdout",
     "output_type": "stream",
     "text": [
      "Quantity of 1:  4355\n",
      "Quantity of 2:  224\n",
      "Quantity of 3 or more:  43\n",
      "Average quanitity:  1.0757247944612722\n",
      "Range of quantity: 1 to  15\n"
     ]
    }
   ],
   "source": [
    "print('Quantity of 1: ', len(chip_df[chip_df.quantity == 1]))\n",
    "print('Quantity of 2: ', len(chip_df[chip_df.quantity == 2]))\n",
    "print('Quantity of 3 or more: ', len(chip_df[chip_df.quantity > 2]))\n",
    "print('Average quanitity: ', chip_df['quantity'].mean())\n",
    "print('Range of quantity: 1 to ', chip_df.quantity.max())"
   ]
  },
  {
   "cell_type": "code",
   "execution_count": null,
   "metadata": {},
   "outputs": [],
   "source": []
  }
 ],
 "metadata": {
  "kernelspec": {
   "display_name": "Python 3",
   "language": "python",
   "name": "python3"
  },
  "language_info": {
   "codemirror_mode": {
    "name": "ipython",
    "version": 3
   },
   "file_extension": ".py",
   "mimetype": "text/x-python",
   "name": "python",
   "nbconvert_exporter": "python",
   "pygments_lexer": "ipython3",
   "version": "3.7.6"
  }
 },
 "nbformat": 4,
 "nbformat_minor": 4
}
