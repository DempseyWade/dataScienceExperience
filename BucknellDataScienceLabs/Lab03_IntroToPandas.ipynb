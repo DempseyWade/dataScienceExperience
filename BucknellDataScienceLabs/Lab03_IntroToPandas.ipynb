{
 "cells": [
  {
   "cell_type": "markdown",
   "metadata": {},
   "source": [
    "### Lab 03 - pandas I\n",
    "Name: Dempsey Wade \n",
    "\n",
    "Class: CSCI 349 - Intro to Data Mining \n",
    "\n",
    "Semester: 2019SP \n",
    "\n",
    "Instructor: Brian King"
   ]
  },
  {
   "cell_type": "markdown",
   "metadata": {},
   "source": [
    "### 1) [P] Report the Python, Numpy and Pandas version numbers"
   ]
  },
  {
   "cell_type": "code",
   "execution_count": 4,
   "metadata": {},
   "outputs": [
    {
     "name": "stdout",
     "output_type": "stream",
     "text": [
      "3.7.6 (default, Jan  8 2020, 13:42:34) \n",
      "[Clang 4.0.1 (tags/RELEASE_401/final)]\n",
      "<module 'numpy.version' from '/Users/dwade/opt/anaconda3/lib/python3.7/site-packages/numpy/version.py'>\n",
      "1.0.1\n"
     ]
    }
   ],
   "source": [
    "import sys\n",
    "import numpy as np\n",
    "import pandas as pd\n",
    "print(sys.version)\n",
    "print(np.version)\n",
    "print(pd.__version__)"
   ]
  },
  {
   "cell_type": "markdown",
   "metadata": {},
   "source": [
    "### 2) [P] Show the result of pd.show_versions()."
   ]
  },
  {
   "cell_type": "code",
   "execution_count": 5,
   "metadata": {},
   "outputs": [
    {
     "name": "stdout",
     "output_type": "stream",
     "text": [
      "\n",
      "INSTALLED VERSIONS\n",
      "------------------\n",
      "commit           : None\n",
      "python           : 3.7.6.final.0\n",
      "python-bits      : 64\n",
      "OS               : Darwin\n",
      "OS-release       : 20.3.0\n",
      "machine          : x86_64\n",
      "processor        : i386\n",
      "byteorder        : little\n",
      "LC_ALL           : None\n",
      "LANG             : en_US.UTF-8\n",
      "LOCALE           : en_US.UTF-8\n",
      "\n",
      "pandas           : 1.0.1\n",
      "numpy            : 1.18.1\n",
      "pytz             : 2019.3\n",
      "dateutil         : 2.8.1\n",
      "pip              : 20.0.2\n",
      "setuptools       : 56.0.0\n",
      "Cython           : 0.29.15\n",
      "pytest           : 5.3.5\n",
      "hypothesis       : 5.5.4\n",
      "sphinx           : 2.4.0\n",
      "blosc            : None\n",
      "feather          : None\n",
      "xlsxwriter       : 1.2.7\n",
      "lxml.etree       : 4.5.0\n",
      "html5lib         : 1.0.1\n",
      "pymysql          : None\n",
      "psycopg2         : None\n",
      "jinja2           : 2.11.1\n",
      "IPython          : 7.12.0\n",
      "pandas_datareader: None\n",
      "bs4              : 4.8.2\n",
      "bottleneck       : 1.3.2\n",
      "fastparquet      : None\n",
      "gcsfs            : None\n",
      "lxml.etree       : 4.5.0\n",
      "matplotlib       : 3.1.3\n",
      "numexpr          : 2.7.1\n",
      "odfpy            : None\n",
      "openpyxl         : 3.0.3\n",
      "pandas_gbq       : None\n",
      "pyarrow          : None\n",
      "pytables         : None\n",
      "pytest           : 5.3.5\n",
      "pyxlsb           : None\n",
      "s3fs             : None\n",
      "scipy            : 1.4.1\n",
      "sqlalchemy       : 1.3.13\n",
      "tables           : 3.6.1\n",
      "tabulate         : None\n",
      "xarray           : None\n",
      "xlrd             : 1.2.0\n",
      "xlwt             : 1.3.0\n",
      "xlsxwriter       : 1.2.7\n",
      "numba            : 0.48.0\n",
      "None\n"
     ]
    }
   ],
   "source": [
    "print(pd.show_versions())"
   ]
  },
  {
   "cell_type": "markdown",
   "metadata": {},
   "source": [
    "### 3) [M] Explain the relationship between numpy and pandas. How are they tied together? What core functionality does pandas add to numpy?"
   ]
  },
  {
   "cell_type": "markdown",
   "metadata": {},
   "source": [
    "Numpy is a dependancy of pandas. Pandas allows you to manipulate data more than just numpy allows. Pandas advertises making importing and analyzing data much easier. "
   ]
  },
  {
   "cell_type": "markdown",
   "metadata": {},
   "source": [
    "### 4) [M] The two primary data structures in pandas are Series and DataFrame. Compare and contrast these two types"
   ]
  },
  {
   "cell_type": "markdown",
   "metadata": {},
   "source": [
    "A DataFrame is a 2D object that can house elements that are different types. \n",
    "Series are just a 1D array that can hold different data types. \n",
    "Both are an improvment to numpy's array and have different applications"
   ]
  },
  {
   "cell_type": "markdown",
   "metadata": {},
   "source": [
    "### 5) [M] What are the data structures that can be used to create a Series object in pandas?"
   ]
  },
  {
   "cell_type": "markdown",
   "metadata": {},
   "source": [
    "The data structures can be a python dictionary, a ndarray, or a scalar value"
   ]
  },
  {
   "cell_type": "markdown",
   "metadata": {},
   "source": [
    "### 6) [M] What are the data structures that can be used to create a DataFrame object in pandas?"
   ]
  },
  {
   "cell_type": "markdown",
   "metadata": {},
   "source": [
    "The data structures that can be used includes a dictionary of 1D arrays (including Series), 2D numpy arrays or another DataFrame"
   ]
  },
  {
   "cell_type": "markdown",
   "metadata": {},
   "source": [
    "### 7) [M] What role does the index parameter play when creating a Series object? Does the index always need to be specified? If not, under what conditions is it needed? When can it be implied?"
   ]
  },
  {
   "cell_type": "markdown",
   "metadata": {},
   "source": [
    "An index parameter does not need to always be set, but it helps keep your data more organized. It is basically a header for your columns. It can be implied when you create a DataFrame from an existing series or other DataFrame, the header comes along with the creation. "
   ]
  },
  {
   "cell_type": "markdown",
   "metadata": {},
   "source": [
    "We're going to work with a very simple set of data, just to get you started. Enter the following Python lists in a cell in your notebook. They will represent some fictitious daily quiz scores for a couple of weeks of some course you are taking:"
   ]
  },
  {
   "cell_type": "code",
   "execution_count": 6,
   "metadata": {},
   "outputs": [],
   "source": [
    "days = [\"Mon\",\"Tue\",\"Wed\",\"Thu\",\"Fri\"] \n",
    "scores_1 = [9.5, 8.75, 8, 10, 7.75] \n",
    "scores_2 = [9, 8, 10, 8.75, 7.25]"
   ]
  },
  {
   "cell_type": "markdown",
   "metadata": {},
   "source": [
    "### 8) [P] Convert scores_1 and scores_2 into two Series objects. Use days as your index. You should name each Series object using the name parameter as \"week_1\", and \"week_2\""
   ]
  },
  {
   "cell_type": "code",
   "execution_count": 7,
   "metadata": {},
   "outputs": [
    {
     "name": "stdout",
     "output_type": "stream",
     "text": [
      "Mon     9.50\n",
      "Tue     8.75\n",
      "Wed     8.00\n",
      "Thu    10.00\n",
      "Fri     7.75\n",
      "dtype: float64\n",
      "Mon     9.00\n",
      "Tue     8.00\n",
      "Wed    10.00\n",
      "Thu     8.75\n",
      "Fri     7.25\n",
      "dtype: float64\n"
     ]
    }
   ],
   "source": [
    "week_1 = pd.Series(scores_1, index=days)\n",
    "week_2 = pd.Series(scores_2, index=days)\n",
    "print(week_1)\n",
    "print(week_2)"
   ]
  },
  {
   "cell_type": "markdown",
   "metadata": {},
   "source": [
    "### 9) [P] Create a pandas DataFrame called scores, that represents the above data. Show your data frame. Your results should be arranged as follows: (NOTE: depending on how you construct your DataFrame, you might need to transpose your data frame using the T operator):"
   ]
  },
  {
   "cell_type": "code",
   "execution_count": 8,
   "metadata": {},
   "outputs": [
    {
     "name": "stdout",
     "output_type": "stream",
     "text": [
      "        Mon   Tue   Wed    Thu   Fri\n",
      "week_1  9.5  8.75   8.0  10.00  7.75\n",
      "week_2  9.0  8.00  10.0   8.75  7.25\n"
     ]
    }
   ],
   "source": [
    "scores = pd.DataFrame({'week_1': week_1, 'week_2': week_2}).T\n",
    "print(scores)"
   ]
  },
  {
   "cell_type": "markdown",
   "metadata": {},
   "source": [
    "### 10) [P] Append one more week of data to scores. The data you are appending is [8.5, 8, 9.75 ,9, 6]. The row label on the new week is \"week_3\". Show your updated data frame. It should look like the following: "
   ]
  },
  {
   "cell_type": "code",
   "execution_count": 9,
   "metadata": {},
   "outputs": [
    {
     "name": "stdout",
     "output_type": "stream",
     "text": [
      "        Mon   Tue    Wed    Thu   Fri\n",
      "week_1  9.5  8.75   8.00  10.00  7.75\n",
      "week_2  9.0  8.00  10.00   8.75  7.25\n",
      "week_3  8.5  8.00   9.75   9.00  6.00\n"
     ]
    }
   ],
   "source": [
    "scores_3 = [8.5, 8, 9.75, 9, 6]\n",
    "week_3 = pd.Series(scores_3, index = days)\n",
    "temp = pd.DataFrame({'week_3':week_3}).T\n",
    "\n",
    "scores = scores.append(temp, ignore_index = False)\n",
    "print(scores)"
   ]
  },
  {
   "cell_type": "markdown",
   "metadata": {},
   "source": [
    "### 11) [M] Pandas has an ENORMOUS number of ways you can select your data. At first, the flexibility will confuse and drive you nuts. In time, it because amazing and intuitive (with less nuts.) From their 10 minute tutorial: \n",
    "Write yourself a quick one sentence reference for each access method listed above, with one example for each using the scores DataFrame."
   ]
  },
  {
   "cell_type": "markdown",
   "metadata": {},
   "source": [
    ".at- Accesses a single value using a label\n",
    "\n",
    ".iat- Accesses a single value for a row or a column pair by position\n",
    "\n",
    ".loc- Accesses a group of rows and collumns by label\n",
    "\n",
    ".iloc- Accesses an element based on position"
   ]
  },
  {
   "cell_type": "markdown",
   "metadata": {},
   "source": [
    "### 12) [P] Show at least two different techniques to select scores for Monday using the string \"Mon\""
   ]
  },
  {
   "cell_type": "code",
   "execution_count": 12,
   "metadata": {},
   "outputs": [
    {
     "name": "stdout",
     "output_type": "stream",
     "text": [
      "        Mon\n",
      "week_1  9.5\n",
      "week_2  9.0\n",
      "week_3  8.5\n",
      "        Mon\n",
      "week_1  9.5\n",
      "week_2  9.0\n",
      "week_3  8.5\n"
     ]
    }
   ],
   "source": [
    "# Using filter\n",
    "print(scores.filter(like='Mon'))\n",
    "\n",
    "#Using the loc method\n",
    "print(scores.loc['week_1':'week_3', 'Mon':'Mon'])"
   ]
  },
  {
   "cell_type": "markdown",
   "metadata": {},
   "source": [
    "### 13) [P] Show how to retrieve the scores for Tuesday using the named attribute Tue"
   ]
  },
  {
   "cell_type": "code",
   "execution_count": 13,
   "metadata": {},
   "outputs": [
    {
     "name": "stdout",
     "output_type": "stream",
     "text": [
      "week_1    8.75\n",
      "week_2    8.00\n",
      "week_3    8.00\n",
      "Name: Tue, dtype: float64\n"
     ]
    }
   ],
   "source": [
    "print(scores.Tue)"
   ]
  },
  {
   "cell_type": "markdown",
   "metadata": {},
   "source": [
    "### 14) [P] Show at least three techniques to select scores for Wednesday using an integer."
   ]
  },
  {
   "cell_type": "code",
   "execution_count": 16,
   "metadata": {},
   "outputs": [
    {
     "name": "stdout",
     "output_type": "stream",
     "text": [
      "          Wed\n",
      "week_1   8.00\n",
      "week_2  10.00\n",
      "week_3   9.75\n",
      "\n",
      "week_1     8.00\n",
      "week_2    10.00\n",
      "week_3     9.75\n",
      "Name: Wed, dtype: float64\n",
      "\n",
      "week_1     8.00\n",
      "week_2    10.00\n",
      "week_3     9.75\n",
      "Name: Wed, dtype: float64\n",
      "\n"
     ]
    }
   ],
   "source": [
    "#Using loc\n",
    "print(scores.loc[::1, 'Wed':'Wed'])\n",
    "print()\n",
    "\n",
    "#Using direct indexing\n",
    "print(scores[days[2]])\n",
    "print()\n",
    "\n",
    "#Using iloc\n",
    "print(scores.iloc[:, 2])\n",
    "print()"
   ]
  },
  {
   "cell_type": "markdown",
   "metadata": {},
   "source": [
    "### 15) [P] Select the data for the first week using the string \"week_1\""
   ]
  },
  {
   "cell_type": "code",
   "execution_count": 17,
   "metadata": {},
   "outputs": [
    {
     "name": "stdout",
     "output_type": "stream",
     "text": [
      "        Mon   Tue  Wed   Thu   Fri\n",
      "week_1  9.5  8.75  8.0  10.0  7.75\n"
     ]
    }
   ],
   "source": [
    "print(scores.filter(like = 'week_1', axis = 0))"
   ]
  },
  {
   "cell_type": "markdown",
   "metadata": {},
   "source": [
    "### 16) [P] Select the data for the first week using a slice(HINT: 0:1)"
   ]
  },
  {
   "cell_type": "code",
   "execution_count": 18,
   "metadata": {},
   "outputs": [
    {
     "name": "stdout",
     "output_type": "stream",
     "text": [
      "Mon     9.50\n",
      "Tue     8.75\n",
      "Wed     8.00\n",
      "Thu    10.00\n",
      "Fri     7.75\n",
      "Name: week_1, dtype: float64\n"
     ]
    }
   ],
   "source": [
    "print(scores.iloc[0,:])"
   ]
  },
  {
   "cell_type": "markdown",
   "metadata": {},
   "source": [
    "### 17) [P] Show at least two techniques to select the data for the second week using an integer"
   ]
  },
  {
   "cell_type": "code",
   "execution_count": 19,
   "metadata": {},
   "outputs": [
    {
     "name": "stdout",
     "output_type": "stream",
     "text": [
      "Mon     9.00\n",
      "Tue     8.00\n",
      "Wed    10.00\n",
      "Thu     8.75\n",
      "Fri     7.25\n",
      "Name: week_2, dtype: float64\n",
      "\n",
      "        Mon  Tue   Wed   Thu   Fri\n",
      "week_2  9.0  8.0  10.0  8.75  7.25\n"
     ]
    }
   ],
   "source": [
    "print(scores.iloc[1,:])\n",
    "print()\n",
    "print(scores.loc['week_2':'week_2', ::1])"
   ]
  },
  {
   "cell_type": "markdown",
   "metadata": {},
   "source": [
    "### 18) [P] Select Monday and Friday of the first and third week."
   ]
  },
  {
   "cell_type": "code",
   "execution_count": 20,
   "metadata": {},
   "outputs": [
    {
     "name": "stdout",
     "output_type": "stream",
     "text": [
      "        Mon   Fri\n",
      "week_1  9.5  7.75\n",
      "week_3  8.5  6.00\n"
     ]
    }
   ],
   "source": [
    "print(scores.iloc[::2, ::4])"
   ]
  },
  {
   "cell_type": "markdown",
   "metadata": {},
   "source": [
    "### 19) [P] Report the mean for each week"
   ]
  },
  {
   "cell_type": "code",
   "execution_count": 21,
   "metadata": {},
   "outputs": [
    {
     "name": "stdout",
     "output_type": "stream",
     "text": [
      "week_1    8.80\n",
      "week_2    8.60\n",
      "week_3    8.25\n",
      "dtype: float64\n"
     ]
    }
   ],
   "source": [
    "print(scores.mean(axis = 1))"
   ]
  },
  {
   "cell_type": "markdown",
   "metadata": {},
   "source": [
    "### 20) [P] For each week, report how much each day's score for that week differed from the mean for the week"
   ]
  },
  {
   "cell_type": "code",
   "execution_count": 22,
   "metadata": {},
   "outputs": [
    {
     "name": "stdout",
     "output_type": "stream",
     "text": [
      "         Mon   Tue  Wed   Thu   Fri\n",
      "week_1  0.70 -0.05 -0.8  1.20 -1.05\n",
      "week_2  0.40 -0.60  1.4  0.15 -1.35\n",
      "week_3  0.25 -0.25  1.5  0.75 -2.25\n"
     ]
    }
   ],
   "source": [
    "print(scores.iloc[:, :].subtract(scores.mean(axis = 1), axis = 0))"
   ]
  },
  {
   "cell_type": "markdown",
   "metadata": {},
   "source": [
    "### 21) [P] Report the maximum score for each week"
   ]
  },
  {
   "cell_type": "code",
   "execution_count": 23,
   "metadata": {},
   "outputs": [
    {
     "name": "stdout",
     "output_type": "stream",
     "text": [
      "week_1    10.00\n",
      "week_2    10.00\n",
      "week_3     9.75\n",
      "dtype: float64\n"
     ]
    }
   ],
   "source": [
    "print(scores.max(axis = 1))"
   ]
  },
  {
   "cell_type": "markdown",
   "metadata": {},
   "source": [
    "### 22) [P] For each week, report which day had the largest score\n",
    "Should get: Thu, Wed, Wed"
   ]
  },
  {
   "cell_type": "code",
   "execution_count": 24,
   "metadata": {},
   "outputs": [
    {
     "name": "stdout",
     "output_type": "stream",
     "text": [
      "week_1    Thu\n",
      "week_2    Wed\n",
      "week_3    Wed\n",
      "dtype: object\n"
     ]
    }
   ],
   "source": [
    "print(scores.idxmax(axis=1))"
   ]
  },
  {
   "cell_type": "markdown",
   "metadata": {},
   "source": [
    "### 23) [P] Report the scores rescaled to fall between 0 and 100, instead of 0 to 10 as they are now."
   ]
  },
  {
   "cell_type": "code",
   "execution_count": 25,
   "metadata": {},
   "outputs": [
    {
     "name": "stdout",
     "output_type": "stream",
     "text": [
      "         Mon   Tue    Wed    Thu   Fri\n",
      "week_1  95.0  87.5   80.0  100.0  77.5\n",
      "week_2  90.0  80.0  100.0   87.5  72.5\n",
      "week_3  85.0  80.0   97.5   90.0  60.0\n"
     ]
    }
   ],
   "source": [
    "print(scores*10)"
   ]
  },
  {
   "cell_type": "code",
   "execution_count": null,
   "metadata": {},
   "outputs": [],
   "source": []
  }
 ],
 "metadata": {
  "kernelspec": {
   "display_name": "Python 3",
   "language": "python",
   "name": "python3"
  },
  "language_info": {
   "codemirror_mode": {
    "name": "ipython",
    "version": 3
   },
   "file_extension": ".py",
   "mimetype": "text/x-python",
   "name": "python",
   "nbconvert_exporter": "python",
   "pygments_lexer": "ipython3",
   "version": "3.7.6"
  }
 },
 "nbformat": 4,
 "nbformat_minor": 4
}
