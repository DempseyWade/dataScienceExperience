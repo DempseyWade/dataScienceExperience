{
 "cells": [
  {
   "cell_type": "markdown",
   "metadata": {},
   "source": [
    "## Lab 08 - Distances and PCA\n",
    "Name: Dempsey Wade \n",
    "Class: CSCI 349 - Intro to Data Mining \n",
    "Semester: 2019SP \n",
    "Instructor: Brian King"
   ]
  },
  {
   "cell_type": "code",
   "execution_count": 1,
   "metadata": {},
   "outputs": [],
   "source": [
    "import numpy as np\n",
    "import pandas as pd\n",
    "import matplotlib.pyplot as plt\n",
    "import seaborn as sns\n",
    "import scipy as sp\n",
    "from pandas import Categorical\n",
    "from sklearn.preprocessing import MinMaxScaler"
   ]
  },
  {
   "cell_type": "markdown",
   "metadata": {},
   "source": [
    "### 1) [P] You will compute the distance matrix for data that is similar to a simple set shown in class, just a bit more extensive. This will give you an opportunity to understand how to perform proximity measurements on data with different types of variables on your own. First, set up a pandas data frame with the following 8 observations and 3 variables:\n",
    "\n",
    "#### test1: Nominal, levels = { \"A\", \"B\", C\" }\n",
    "#### test2: Ordinal, levels = { \"poor\", \"fair\", \"good\", \"excellent\")\n",
    "#### test3: Numeric\n",
    "\n",
    "#### Name the data frame df. Set the index correctly. Use the info() method to show the type of each variable in df when you have completed your dataframe."
   ]
  },
  {
   "cell_type": "code",
   "execution_count": 2,
   "metadata": {},
   "outputs": [
    {
     "data": {
      "text/html": [
       "<div>\n",
       "<style scoped>\n",
       "    .dataframe tbody tr th:only-of-type {\n",
       "        vertical-align: middle;\n",
       "    }\n",
       "\n",
       "    .dataframe tbody tr th {\n",
       "        vertical-align: top;\n",
       "    }\n",
       "\n",
       "    .dataframe thead th {\n",
       "        text-align: right;\n",
       "    }\n",
       "</style>\n",
       "<table border=\"1\" class=\"dataframe\">\n",
       "  <thead>\n",
       "    <tr style=\"text-align: right;\">\n",
       "      <th></th>\n",
       "      <th>test1</th>\n",
       "      <th>test2</th>\n",
       "      <th>test3</th>\n",
       "    </tr>\n",
       "  </thead>\n",
       "  <tbody>\n",
       "    <tr>\n",
       "      <th>A1</th>\n",
       "      <td>A</td>\n",
       "      <td>excellent</td>\n",
       "      <td>25</td>\n",
       "    </tr>\n",
       "    <tr>\n",
       "      <th>A2</th>\n",
       "      <td>C</td>\n",
       "      <td>fair</td>\n",
       "      <td>32</td>\n",
       "    </tr>\n",
       "    <tr>\n",
       "      <th>A3</th>\n",
       "      <td>C</td>\n",
       "      <td>good</td>\n",
       "      <td>60</td>\n",
       "    </tr>\n",
       "    <tr>\n",
       "      <th>A4</th>\n",
       "      <td>B</td>\n",
       "      <td>fair</td>\n",
       "      <td>53</td>\n",
       "    </tr>\n",
       "    <tr>\n",
       "      <th>A5</th>\n",
       "      <td>A</td>\n",
       "      <td>poor</td>\n",
       "      <td>23</td>\n",
       "    </tr>\n",
       "    <tr>\n",
       "      <th>A6</th>\n",
       "      <td>B</td>\n",
       "      <td>excellent</td>\n",
       "      <td>37</td>\n",
       "    </tr>\n",
       "    <tr>\n",
       "      <th>A7</th>\n",
       "      <td>C</td>\n",
       "      <td>good</td>\n",
       "      <td>45</td>\n",
       "    </tr>\n",
       "    <tr>\n",
       "      <th>A8</th>\n",
       "      <td>B</td>\n",
       "      <td>good</td>\n",
       "      <td>49</td>\n",
       "    </tr>\n",
       "  </tbody>\n",
       "</table>\n",
       "</div>"
      ],
      "text/plain": [
       "   test1      test2  test3\n",
       "A1     A  excellent     25\n",
       "A2     C       fair     32\n",
       "A3     C       good     60\n",
       "A4     B       fair     53\n",
       "A5     A       poor     23\n",
       "A6     B  excellent     37\n",
       "A7     C       good     45\n",
       "A8     B       good     49"
      ]
     },
     "execution_count": 2,
     "metadata": {},
     "output_type": "execute_result"
    }
   ],
   "source": [
    "d = {'test1': ['A', 'C','C','B','A','B','C','B'], 'test2': ['excellent', 'fair', 'good', 'fair', 'poor', 'excellent', 'good', 'good'], 'test3': [25, 32, 60, 53, 23, 37, 45, 49]}\n",
    "df = pd.DataFrame(data=d, index = ['A1', 'A2', 'A3', 'A4', 'A5', 'A6', 'A7', 'A8'])\n",
    "df"
   ]
  },
  {
   "cell_type": "markdown",
   "metadata": {},
   "source": [
    "### 2) [P] Report the counts of each level of the categorical variables."
   ]
  },
  {
   "cell_type": "code",
   "execution_count": 3,
   "metadata": {},
   "outputs": [
    {
     "name": "stdout",
     "output_type": "stream",
     "text": [
      "C    3\n",
      "B    3\n",
      "A    2\n",
      "Name: test1, dtype: int64\n",
      "good         3\n",
      "fair         2\n",
      "excellent    2\n",
      "poor         1\n",
      "Name: test2, dtype: int64\n"
     ]
    }
   ],
   "source": [
    "print(df.test1.value_counts())\n",
    "print(df.test2.value_counts())"
   ]
  },
  {
   "cell_type": "markdown",
   "metadata": {},
   "source": [
    "### 3) [P] Report a cross tabulation (i.e. contingency table) between test1 and test2. Include the margins (i.e. the sum of the rows and the columns) in your reported table (HINT: Look up pandas crosstab() function)"
   ]
  },
  {
   "cell_type": "code",
   "execution_count": 4,
   "metadata": {},
   "outputs": [
    {
     "data": {
      "text/html": [
       "<div>\n",
       "<style scoped>\n",
       "    .dataframe tbody tr th:only-of-type {\n",
       "        vertical-align: middle;\n",
       "    }\n",
       "\n",
       "    .dataframe tbody tr th {\n",
       "        vertical-align: top;\n",
       "    }\n",
       "\n",
       "    .dataframe thead th {\n",
       "        text-align: right;\n",
       "    }\n",
       "</style>\n",
       "<table border=\"1\" class=\"dataframe\">\n",
       "  <thead>\n",
       "    <tr style=\"text-align: right;\">\n",
       "      <th>test2</th>\n",
       "      <th>excellent</th>\n",
       "      <th>fair</th>\n",
       "      <th>good</th>\n",
       "      <th>poor</th>\n",
       "      <th>All</th>\n",
       "    </tr>\n",
       "    <tr>\n",
       "      <th>test1</th>\n",
       "      <th></th>\n",
       "      <th></th>\n",
       "      <th></th>\n",
       "      <th></th>\n",
       "      <th></th>\n",
       "    </tr>\n",
       "  </thead>\n",
       "  <tbody>\n",
       "    <tr>\n",
       "      <th>A</th>\n",
       "      <td>1</td>\n",
       "      <td>0</td>\n",
       "      <td>0</td>\n",
       "      <td>1</td>\n",
       "      <td>2</td>\n",
       "    </tr>\n",
       "    <tr>\n",
       "      <th>B</th>\n",
       "      <td>1</td>\n",
       "      <td>1</td>\n",
       "      <td>1</td>\n",
       "      <td>0</td>\n",
       "      <td>3</td>\n",
       "    </tr>\n",
       "    <tr>\n",
       "      <th>C</th>\n",
       "      <td>0</td>\n",
       "      <td>1</td>\n",
       "      <td>2</td>\n",
       "      <td>0</td>\n",
       "      <td>3</td>\n",
       "    </tr>\n",
       "    <tr>\n",
       "      <th>All</th>\n",
       "      <td>2</td>\n",
       "      <td>2</td>\n",
       "      <td>3</td>\n",
       "      <td>1</td>\n",
       "      <td>8</td>\n",
       "    </tr>\n",
       "  </tbody>\n",
       "</table>\n",
       "</div>"
      ],
      "text/plain": [
       "test2  excellent  fair  good  poor  All\n",
       "test1                                  \n",
       "A              1     0     0     1    2\n",
       "B              1     1     1     0    3\n",
       "C              0     1     2     0    3\n",
       "All            2     2     3     1    8"
      ]
     },
     "execution_count": 4,
     "metadata": {},
     "output_type": "execute_result"
    }
   ],
   "source": [
    "pd.crosstab(df['test1'], df['test2'], margins = True)"
   ]
  },
  {
   "cell_type": "markdown",
   "metadata": {},
   "source": [
    "### 4) [P] From the previous table, store the contingency table without the margins in a variable called observed"
   ]
  },
  {
   "cell_type": "code",
   "execution_count": 5,
   "metadata": {},
   "outputs": [
    {
     "data": {
      "text/html": [
       "<div>\n",
       "<style scoped>\n",
       "    .dataframe tbody tr th:only-of-type {\n",
       "        vertical-align: middle;\n",
       "    }\n",
       "\n",
       "    .dataframe tbody tr th {\n",
       "        vertical-align: top;\n",
       "    }\n",
       "\n",
       "    .dataframe thead th {\n",
       "        text-align: right;\n",
       "    }\n",
       "</style>\n",
       "<table border=\"1\" class=\"dataframe\">\n",
       "  <thead>\n",
       "    <tr style=\"text-align: right;\">\n",
       "      <th>test2</th>\n",
       "      <th>excellent</th>\n",
       "      <th>fair</th>\n",
       "      <th>good</th>\n",
       "      <th>poor</th>\n",
       "    </tr>\n",
       "    <tr>\n",
       "      <th>test1</th>\n",
       "      <th></th>\n",
       "      <th></th>\n",
       "      <th></th>\n",
       "      <th></th>\n",
       "    </tr>\n",
       "  </thead>\n",
       "  <tbody>\n",
       "    <tr>\n",
       "      <th>A</th>\n",
       "      <td>1</td>\n",
       "      <td>0</td>\n",
       "      <td>0</td>\n",
       "      <td>1</td>\n",
       "    </tr>\n",
       "    <tr>\n",
       "      <th>B</th>\n",
       "      <td>1</td>\n",
       "      <td>1</td>\n",
       "      <td>1</td>\n",
       "      <td>0</td>\n",
       "    </tr>\n",
       "    <tr>\n",
       "      <th>C</th>\n",
       "      <td>0</td>\n",
       "      <td>1</td>\n",
       "      <td>2</td>\n",
       "      <td>0</td>\n",
       "    </tr>\n",
       "  </tbody>\n",
       "</table>\n",
       "</div>"
      ],
      "text/plain": [
       "test2  excellent  fair  good  poor\n",
       "test1                             \n",
       "A              1     0     0     1\n",
       "B              1     1     1     0\n",
       "C              0     1     2     0"
      ]
     },
     "execution_count": 5,
     "metadata": {},
     "output_type": "execute_result"
    }
   ],
   "source": [
    "observed = pd.crosstab(df['test1'], df['test2'])\n",
    "observed"
   ]
  },
  {
   "cell_type": "markdown",
   "metadata": {},
   "source": [
    "### 5) [P] Run a chi-squared test for independence using the contingency table from the previous step. Clearly report the chi2 statistic, the p value, and the degrees of freedom, and then use the p-value to clearly state whether test1 and test2 are independent."
   ]
  },
  {
   "cell_type": "code",
   "execution_count": 6,
   "metadata": {},
   "outputs": [
    {
     "name": "stdout",
     "output_type": "stream",
     "text": [
      "chi2 statistic: 6.444444444444444\n",
      "pvalue: 0.37528525266160834\n",
      "degrees of freedom: 6\n"
     ]
    }
   ],
   "source": [
    "chi = sp.stats.chi2_contingency(observed)\n",
    "\n",
    "print('chi2 statistic:', chi[0])\n",
    "print('pvalue:', chi[1])\n",
    "print('degrees of freedom:', chi[2])"
   ]
  },
  {
   "cell_type": "markdown",
   "metadata": {},
   "source": [
    "With a pvalue of 0.135, we can conclude that test1 and test2 are dependant."
   ]
  },
  {
   "cell_type": "markdown",
   "metadata": {},
   "source": [
    "### 6) [P] Use describe() to report the summary statistics of variable test3."
   ]
  },
  {
   "cell_type": "code",
   "execution_count": 7,
   "metadata": {},
   "outputs": [
    {
     "data": {
      "text/plain": [
       "count     8.000000\n",
       "mean     40.500000\n",
       "std      13.416408\n",
       "min      23.000000\n",
       "25%      30.250000\n",
       "50%      41.000000\n",
       "75%      50.000000\n",
       "max      60.000000\n",
       "Name: test3, dtype: float64"
      ]
     },
     "execution_count": 7,
     "metadata": {},
     "output_type": "execute_result"
    }
   ],
   "source": [
    "df['test3'].describe()"
   ]
  },
  {
   "cell_type": "markdown",
   "metadata": {},
   "source": [
    "### 7) [P] Now, you're going to explore some similarities between observations. Yes, this is a SMALL dataset! (Don't bother to explore large data until you can understand how they work on small, toy experimental data!)\n",
    "\n",
    "### Before you can compute a pairwise distance matrix to report the distance between all pairs of observations, always remember that you can only compute distances between strictly numeric data. Therefore, you must convert your data to numeric types for ALL variables you want to include in your distance metric.\n",
    "\n",
    "### Create a new data frame called df_num, that represents a numeric version of the above. Let's begin by creating a version that stores all three variables above encoded as simple as possible. Do NOT rescale your data... yet!\n",
    "\n",
    "### NOTE: If you do this from a dataframe that has the categorical variables set up properly, then this step is simple to do. The two choices I generally follow are either: 1) use the cat member of your categorical data, which stores a CategoricalAccessor object (look it up), or use one of the encoders in the sklearn.preprocessing module. The first option is easier, and yet another reason why it's so important to take the time to preprocess your data as correctly and error-free as possible.\n",
    "\n",
    "### Your resulting data frame at the end of this step should be as follows:"
   ]
  },
  {
   "cell_type": "code",
   "execution_count": 8,
   "metadata": {},
   "outputs": [
    {
     "name": "stdout",
     "output_type": "stream",
     "text": [
      "   test1      test2 test3\n",
      "A1     A  excellent    25\n",
      "A2     C       fair    32\n",
      "A3     C       good    60\n",
      "A4     B       fair    53\n",
      "A5     A       poor    23\n",
      "A6     B  excellent    37\n",
      "A7     C       good    45\n",
      "A8     B       good    49\n"
     ]
    },
    {
     "data": {
      "text/html": [
       "<div>\n",
       "<style scoped>\n",
       "    .dataframe tbody tr th:only-of-type {\n",
       "        vertical-align: middle;\n",
       "    }\n",
       "\n",
       "    .dataframe tbody tr th {\n",
       "        vertical-align: top;\n",
       "    }\n",
       "\n",
       "    .dataframe thead th {\n",
       "        text-align: right;\n",
       "    }\n",
       "</style>\n",
       "<table border=\"1\" class=\"dataframe\">\n",
       "  <thead>\n",
       "    <tr style=\"text-align: right;\">\n",
       "      <th></th>\n",
       "      <th>test1</th>\n",
       "      <th>test2</th>\n",
       "      <th>test3</th>\n",
       "    </tr>\n",
       "  </thead>\n",
       "  <tbody>\n",
       "    <tr>\n",
       "      <th>A1</th>\n",
       "      <td>0</td>\n",
       "      <td>3</td>\n",
       "      <td>25</td>\n",
       "    </tr>\n",
       "    <tr>\n",
       "      <th>A2</th>\n",
       "      <td>2</td>\n",
       "      <td>1</td>\n",
       "      <td>32</td>\n",
       "    </tr>\n",
       "    <tr>\n",
       "      <th>A3</th>\n",
       "      <td>2</td>\n",
       "      <td>2</td>\n",
       "      <td>60</td>\n",
       "    </tr>\n",
       "    <tr>\n",
       "      <th>A4</th>\n",
       "      <td>1</td>\n",
       "      <td>1</td>\n",
       "      <td>53</td>\n",
       "    </tr>\n",
       "    <tr>\n",
       "      <th>A5</th>\n",
       "      <td>0</td>\n",
       "      <td>0</td>\n",
       "      <td>23</td>\n",
       "    </tr>\n",
       "    <tr>\n",
       "      <th>A6</th>\n",
       "      <td>1</td>\n",
       "      <td>3</td>\n",
       "      <td>37</td>\n",
       "    </tr>\n",
       "    <tr>\n",
       "      <th>A7</th>\n",
       "      <td>2</td>\n",
       "      <td>2</td>\n",
       "      <td>45</td>\n",
       "    </tr>\n",
       "    <tr>\n",
       "      <th>A8</th>\n",
       "      <td>1</td>\n",
       "      <td>2</td>\n",
       "      <td>49</td>\n",
       "    </tr>\n",
       "  </tbody>\n",
       "</table>\n",
       "</div>"
      ],
      "text/plain": [
       "   test1 test2 test3\n",
       "A1     0     3    25\n",
       "A2     2     1    32\n",
       "A3     2     2    60\n",
       "A4     1     1    53\n",
       "A5     0     0    23\n",
       "A6     1     3    37\n",
       "A7     2     2    45\n",
       "A8     1     2    49"
      ]
     },
     "execution_count": 8,
     "metadata": {},
     "output_type": "execute_result"
    }
   ],
   "source": [
    "df_num = df.astype('category')\n",
    "print(df_num)\n",
    "#dict(enumerate(df_cat['test1'].cat.categories))\n",
    "df_num['test1'] = df_num['test1'].cat.set_categories([0, 1, 2], rename = True)\n",
    "\n",
    "categories = {0: 'fair', 1:'poor', 2:'good', 3:'excellent'}\n",
    "#dict(enumerate(df_cat['test2'].cat.categories))\n",
    "df_num['test2'] = df_num['test2'].cat.set_categories([3, 1, 2, 0], rename = True)\n",
    "\n",
    "df_num"
   ]
  },
  {
   "cell_type": "markdown",
   "metadata": {},
   "source": [
    "### 8) [P] As you learned in lecture, you absolutely must rescale your data to fall on a similar scale. There are different approaches to doing so. A standardized zscore is among the most common, but not necessarily always the best approach, especially when you are dealing with numeric representations of true categorical data. Rescaling your data to all fall between 0 and 1 is also a common approach, particularly when you have categorical data.\n",
    "\n",
    "### Let's first try to rescale our data to all fall between the values of 0 and 1. Use the MinMaxScaler in sklearn.preprocessing to rescale all variables to fall between 0 and 1. Store the transformed data as a pandas data frame called df_num_zeroone,. Your result should look as follows:"
   ]
  },
  {
   "cell_type": "code",
   "execution_count": 9,
   "metadata": {},
   "outputs": [
    {
     "data": {
      "text/html": [
       "<div>\n",
       "<style scoped>\n",
       "    .dataframe tbody tr th:only-of-type {\n",
       "        vertical-align: middle;\n",
       "    }\n",
       "\n",
       "    .dataframe tbody tr th {\n",
       "        vertical-align: top;\n",
       "    }\n",
       "\n",
       "    .dataframe thead th {\n",
       "        text-align: right;\n",
       "    }\n",
       "</style>\n",
       "<table border=\"1\" class=\"dataframe\">\n",
       "  <thead>\n",
       "    <tr style=\"text-align: right;\">\n",
       "      <th></th>\n",
       "      <th>test1</th>\n",
       "      <th>test2</th>\n",
       "      <th>test3</th>\n",
       "    </tr>\n",
       "  </thead>\n",
       "  <tbody>\n",
       "    <tr>\n",
       "      <th>A1</th>\n",
       "      <td>0.0</td>\n",
       "      <td>1.000000</td>\n",
       "      <td>0.054054</td>\n",
       "    </tr>\n",
       "    <tr>\n",
       "      <th>A2</th>\n",
       "      <td>1.0</td>\n",
       "      <td>0.333333</td>\n",
       "      <td>0.243243</td>\n",
       "    </tr>\n",
       "    <tr>\n",
       "      <th>A3</th>\n",
       "      <td>1.0</td>\n",
       "      <td>0.666667</td>\n",
       "      <td>1.000000</td>\n",
       "    </tr>\n",
       "    <tr>\n",
       "      <th>A4</th>\n",
       "      <td>0.5</td>\n",
       "      <td>0.333333</td>\n",
       "      <td>0.810811</td>\n",
       "    </tr>\n",
       "    <tr>\n",
       "      <th>A5</th>\n",
       "      <td>0.0</td>\n",
       "      <td>0.000000</td>\n",
       "      <td>0.000000</td>\n",
       "    </tr>\n",
       "    <tr>\n",
       "      <th>A6</th>\n",
       "      <td>0.5</td>\n",
       "      <td>1.000000</td>\n",
       "      <td>0.378378</td>\n",
       "    </tr>\n",
       "    <tr>\n",
       "      <th>A7</th>\n",
       "      <td>1.0</td>\n",
       "      <td>0.666667</td>\n",
       "      <td>0.594595</td>\n",
       "    </tr>\n",
       "    <tr>\n",
       "      <th>A8</th>\n",
       "      <td>0.5</td>\n",
       "      <td>0.666667</td>\n",
       "      <td>0.702703</td>\n",
       "    </tr>\n",
       "  </tbody>\n",
       "</table>\n",
       "</div>"
      ],
      "text/plain": [
       "    test1     test2     test3\n",
       "A1    0.0  1.000000  0.054054\n",
       "A2    1.0  0.333333  0.243243\n",
       "A3    1.0  0.666667  1.000000\n",
       "A4    0.5  0.333333  0.810811\n",
       "A5    0.0  0.000000  0.000000\n",
       "A6    0.5  1.000000  0.378378\n",
       "A7    1.0  0.666667  0.594595\n",
       "A8    0.5  0.666667  0.702703"
      ]
     },
     "execution_count": 9,
     "metadata": {},
     "output_type": "execute_result"
    }
   ],
   "source": [
    "scaler = MinMaxScaler()\n",
    "#df_num_zeroone = pd.DataFrame\n",
    "df_num_zeroone = df_num\n",
    "df_num_zeroone['test1'] = scaler.fit_transform(df_num[['test1']])\n",
    "df_num_zeroone['test2'] = scaler.fit_transform(df_num[['test2']])\n",
    "df_num_zeroone['test3'] = scaler.fit_transform(df_num[['test3']])\n",
    "df_num_zeroone"
   ]
  },
  {
   "cell_type": "markdown",
   "metadata": {},
   "source": [
    "### 9) [P] Notice the value of test3. Quite often, when we have solid knowledge of what we expect our range to be, then we can rescale our data using that knowledge. In the case of test3, you learned that the data must fall between 0 and 100. Therefore, reassign test3 so that the min and max before rescaling are assuming to be between 0 and 100, respectively. (i.e. simply divide the original variable by 100!)"
   ]
  },
  {
   "cell_type": "code",
   "execution_count": 10,
   "metadata": {},
   "outputs": [
    {
     "data": {
      "text/html": [
       "<div>\n",
       "<style scoped>\n",
       "    .dataframe tbody tr th:only-of-type {\n",
       "        vertical-align: middle;\n",
       "    }\n",
       "\n",
       "    .dataframe tbody tr th {\n",
       "        vertical-align: top;\n",
       "    }\n",
       "\n",
       "    .dataframe thead th {\n",
       "        text-align: right;\n",
       "    }\n",
       "</style>\n",
       "<table border=\"1\" class=\"dataframe\">\n",
       "  <thead>\n",
       "    <tr style=\"text-align: right;\">\n",
       "      <th></th>\n",
       "      <th>test1</th>\n",
       "      <th>test2</th>\n",
       "      <th>test3</th>\n",
       "    </tr>\n",
       "  </thead>\n",
       "  <tbody>\n",
       "    <tr>\n",
       "      <th>A1</th>\n",
       "      <td>0.0</td>\n",
       "      <td>1.000000</td>\n",
       "      <td>0.25</td>\n",
       "    </tr>\n",
       "    <tr>\n",
       "      <th>A2</th>\n",
       "      <td>1.0</td>\n",
       "      <td>0.333333</td>\n",
       "      <td>0.32</td>\n",
       "    </tr>\n",
       "    <tr>\n",
       "      <th>A3</th>\n",
       "      <td>1.0</td>\n",
       "      <td>0.666667</td>\n",
       "      <td>0.60</td>\n",
       "    </tr>\n",
       "    <tr>\n",
       "      <th>A4</th>\n",
       "      <td>0.5</td>\n",
       "      <td>0.333333</td>\n",
       "      <td>0.53</td>\n",
       "    </tr>\n",
       "    <tr>\n",
       "      <th>A5</th>\n",
       "      <td>0.0</td>\n",
       "      <td>0.000000</td>\n",
       "      <td>0.23</td>\n",
       "    </tr>\n",
       "    <tr>\n",
       "      <th>A6</th>\n",
       "      <td>0.5</td>\n",
       "      <td>1.000000</td>\n",
       "      <td>0.37</td>\n",
       "    </tr>\n",
       "    <tr>\n",
       "      <th>A7</th>\n",
       "      <td>1.0</td>\n",
       "      <td>0.666667</td>\n",
       "      <td>0.45</td>\n",
       "    </tr>\n",
       "    <tr>\n",
       "      <th>A8</th>\n",
       "      <td>0.5</td>\n",
       "      <td>0.666667</td>\n",
       "      <td>0.49</td>\n",
       "    </tr>\n",
       "  </tbody>\n",
       "</table>\n",
       "</div>"
      ],
      "text/plain": [
       "    test1     test2  test3\n",
       "A1    0.0  1.000000   0.25\n",
       "A2    1.0  0.333333   0.32\n",
       "A3    1.0  0.666667   0.60\n",
       "A4    0.5  0.333333   0.53\n",
       "A5    0.0  0.000000   0.23\n",
       "A6    0.5  1.000000   0.37\n",
       "A7    1.0  0.666667   0.45\n",
       "A8    0.5  0.666667   0.49"
      ]
     },
     "execution_count": 10,
     "metadata": {},
     "output_type": "execute_result"
    }
   ],
   "source": [
    "df_num_zeroone['test3'] = df['test3']/100\n",
    "df_num_zeroone"
   ]
  },
  {
   "cell_type": "markdown",
   "metadata": {},
   "source": [
    "### 10) [P] Compute a single distance matrix called distmat_zeroone. Use a standard Euclidean distance measure. Your reported result should be an 8x8 matrix with appropriately labeled rows and columns. (HINT – study the output of the distance matrix functions! They do not output a square matrix. Look at the squareform function. The pdist and squareform functions are in scipy.spatial.distance)."
   ]
  },
  {
   "cell_type": "code",
   "execution_count": 11,
   "metadata": {},
   "outputs": [],
   "source": [
    "from scipy.spatial import distance_matrix\n",
    "from scipy.spatial import distance"
   ]
  },
  {
   "cell_type": "code",
   "execution_count": 12,
   "metadata": {},
   "outputs": [],
   "source": [
    "distmat_zeroone = distance.cdist(df_num_zeroone, df_num_zeroone, metric = 'euclidean')"
   ]
  },
  {
   "cell_type": "code",
   "execution_count": 13,
   "metadata": {},
   "outputs": [
    {
     "data": {
      "text/html": [
       "<div>\n",
       "<style scoped>\n",
       "    .dataframe tbody tr th:only-of-type {\n",
       "        vertical-align: middle;\n",
       "    }\n",
       "\n",
       "    .dataframe tbody tr th {\n",
       "        vertical-align: top;\n",
       "    }\n",
       "\n",
       "    .dataframe thead th {\n",
       "        text-align: right;\n",
       "    }\n",
       "</style>\n",
       "<table border=\"1\" class=\"dataframe\">\n",
       "  <thead>\n",
       "    <tr style=\"text-align: right;\">\n",
       "      <th></th>\n",
       "      <th>A1</th>\n",
       "      <th>A2</th>\n",
       "      <th>A3</th>\n",
       "      <th>A4</th>\n",
       "      <th>A5</th>\n",
       "      <th>A6</th>\n",
       "      <th>A7</th>\n",
       "      <th>A8</th>\n",
       "    </tr>\n",
       "  </thead>\n",
       "  <tbody>\n",
       "    <tr>\n",
       "      <th>A1</th>\n",
       "      <td>0.000000</td>\n",
       "      <td>1.203887</td>\n",
       "      <td>1.110680</td>\n",
       "      <td>0.879116</td>\n",
       "      <td>1.000200</td>\n",
       "      <td>0.514198</td>\n",
       "      <td>1.072898</td>\n",
       "      <td>0.647079</td>\n",
       "    </tr>\n",
       "    <tr>\n",
       "      <th>A2</th>\n",
       "      <td>1.203887</td>\n",
       "      <td>0.000000</td>\n",
       "      <td>0.435329</td>\n",
       "      <td>0.542310</td>\n",
       "      <td>1.057928</td>\n",
       "      <td>0.834832</td>\n",
       "      <td>0.357786</td>\n",
       "      <td>0.624509</td>\n",
       "    </tr>\n",
       "    <tr>\n",
       "      <th>A3</th>\n",
       "      <td>1.110680</td>\n",
       "      <td>0.435329</td>\n",
       "      <td>0.000000</td>\n",
       "      <td>0.604989</td>\n",
       "      <td>1.257515</td>\n",
       "      <td>0.643437</td>\n",
       "      <td>0.150000</td>\n",
       "      <td>0.511957</td>\n",
       "    </tr>\n",
       "    <tr>\n",
       "      <th>A4</th>\n",
       "      <td>0.879116</td>\n",
       "      <td>0.542310</td>\n",
       "      <td>0.604989</td>\n",
       "      <td>0.000000</td>\n",
       "      <td>0.671648</td>\n",
       "      <td>0.685598</td>\n",
       "      <td>0.606227</td>\n",
       "      <td>0.335725</td>\n",
       "    </tr>\n",
       "    <tr>\n",
       "      <th>A5</th>\n",
       "      <td>1.000200</td>\n",
       "      <td>1.057928</td>\n",
       "      <td>1.257515</td>\n",
       "      <td>0.671648</td>\n",
       "      <td>0.000000</td>\n",
       "      <td>1.126765</td>\n",
       "      <td>1.221820</td>\n",
       "      <td>0.872952</td>\n",
       "    </tr>\n",
       "    <tr>\n",
       "      <th>A6</th>\n",
       "      <td>0.514198</td>\n",
       "      <td>0.834832</td>\n",
       "      <td>0.643437</td>\n",
       "      <td>0.685598</td>\n",
       "      <td>1.126765</td>\n",
       "      <td>0.000000</td>\n",
       "      <td>0.606227</td>\n",
       "      <td>0.354275</td>\n",
       "    </tr>\n",
       "    <tr>\n",
       "      <th>A7</th>\n",
       "      <td>1.072898</td>\n",
       "      <td>0.357786</td>\n",
       "      <td>0.150000</td>\n",
       "      <td>0.606227</td>\n",
       "      <td>1.221820</td>\n",
       "      <td>0.606227</td>\n",
       "      <td>0.000000</td>\n",
       "      <td>0.501597</td>\n",
       "    </tr>\n",
       "    <tr>\n",
       "      <th>A8</th>\n",
       "      <td>0.647079</td>\n",
       "      <td>0.624509</td>\n",
       "      <td>0.511957</td>\n",
       "      <td>0.335725</td>\n",
       "      <td>0.872952</td>\n",
       "      <td>0.354275</td>\n",
       "      <td>0.501597</td>\n",
       "      <td>0.000000</td>\n",
       "    </tr>\n",
       "  </tbody>\n",
       "</table>\n",
       "</div>"
      ],
      "text/plain": [
       "          A1        A2        A3        A4        A5        A6        A7  \\\n",
       "A1  0.000000  1.203887  1.110680  0.879116  1.000200  0.514198  1.072898   \n",
       "A2  1.203887  0.000000  0.435329  0.542310  1.057928  0.834832  0.357786   \n",
       "A3  1.110680  0.435329  0.000000  0.604989  1.257515  0.643437  0.150000   \n",
       "A4  0.879116  0.542310  0.604989  0.000000  0.671648  0.685598  0.606227   \n",
       "A5  1.000200  1.057928  1.257515  0.671648  0.000000  1.126765  1.221820   \n",
       "A6  0.514198  0.834832  0.643437  0.685598  1.126765  0.000000  0.606227   \n",
       "A7  1.072898  0.357786  0.150000  0.606227  1.221820  0.606227  0.000000   \n",
       "A8  0.647079  0.624509  0.511957  0.335725  0.872952  0.354275  0.501597   \n",
       "\n",
       "          A8  \n",
       "A1  0.647079  \n",
       "A2  0.624509  \n",
       "A3  0.511957  \n",
       "A4  0.335725  \n",
       "A5  0.872952  \n",
       "A6  0.354275  \n",
       "A7  0.501597  \n",
       "A8  0.000000  "
      ]
     },
     "execution_count": 13,
     "metadata": {},
     "output_type": "execute_result"
    }
   ],
   "source": [
    "distmat_zeroone = pd.DataFrame(distmat_zeroone, index=df.index, columns=df.index)\n",
    "distmat_zeroone"
   ]
  },
  {
   "cell_type": "markdown",
   "metadata": {},
   "source": [
    "### 11) [P] Output the top three closest pairs of observations. You MUST write Python code to report these results! Do not simply print out your distance matrix and tell me your answers! Consider that this may have been thousands of observations! Always generate reported answers in code!\n",
    "#### For each pair, output the pair of observations from the original dataframe, and the distance between them.\n",
    "#### For example, your first closest pair output might look like:"
   ]
  },
  {
   "cell_type": "code",
   "execution_count": 14,
   "metadata": {},
   "outputs": [
    {
     "name": "stdout",
     "output_type": "stream",
     "text": [
      "[0.14999999999999997, 0.33572475498704457, 0.35427547348230465]\n",
      "Closest #0:('A7', 'A3')distance = 0.14999999999999997\n",
      "test1       C\n",
      "test2    good\n",
      "test3      45\n",
      "Name: A7, dtype: object\n",
      "test1       C\n",
      "test2    good\n",
      "test3      60\n",
      "Name: A3, dtype: object\n",
      "\n",
      "Closest #1:('A8', 'A4')distance = 0.33572475498704457\n",
      "test1       B\n",
      "test2    good\n",
      "test3      49\n",
      "Name: A8, dtype: object\n",
      "test1       B\n",
      "test2    fair\n",
      "test3      53\n",
      "Name: A4, dtype: object\n",
      "\n",
      "Closest #2:('A2', 'A6')distance = 0.35427547348230465\n",
      "test1       C\n",
      "test2    fair\n",
      "test3      32\n",
      "Name: A2, dtype: object\n",
      "test1            B\n",
      "test2    excellent\n",
      "test3           37\n",
      "Name: A6, dtype: object\n",
      "\n"
     ]
    }
   ],
   "source": [
    "lb = distmat_zeroone[distmat_zeroone != 0.0]\n",
    "rowcol = []\n",
    "smallest = []\n",
    "smallest.append(lb.min().min())\n",
    "col1 = lb.min().idxmin()\n",
    "row1 = lb[col1].idxmin()\n",
    "rowcol.append((row1, col1))\n",
    "\n",
    "lb = lb[lb != smallest[0]]\n",
    "smallest.append(lb.min().min())\n",
    "col2 = lb.min().idxmin()\n",
    "row2 = lb[col2].idxmin()\n",
    "rowcol.append((row2, col2))\n",
    "\n",
    "lb = lb[lb != smallest[1]]\n",
    "smallest.append(lb.min().min())\n",
    "col3 = lb.min().idxmin()\n",
    "row3 = lb[col2].idxmin()\n",
    "rowcol.append((row3, col3))\n",
    "print(smallest)\n",
    "\n",
    "#df.loc[df[row1][row2]]\n",
    "\n",
    "myarray = [smallest[0], smallest[1], smallest[2]]\n",
    "for i in range(len(myarray)):\n",
    "    print(\"Closest #\" + str(i) + \":\" + str(rowcol[i]) + \"distance = \" + str(smallest[i]))\n",
    "    print(df.loc[rowcol[i][0]])\n",
    "    print(df.loc[rowcol[i][1]])\n",
    "    print()"
   ]
  },
  {
   "cell_type": "markdown",
   "metadata": {},
   "source": [
    "### 12) [P] Output the top three observations that are least similar, with the two most distant observations output first. Again, for each pair, output the two observations, and the distance between them"
   ]
  },
  {
   "cell_type": "code",
   "execution_count": 15,
   "metadata": {},
   "outputs": [
    {
     "name": "stdout",
     "output_type": "stream",
     "text": [
      "Furthest #0:('A5', 'A3')distance = 1.2575151865661283\n",
      "test1       A\n",
      "test2    poor\n",
      "test3      23\n",
      "Name: A5, dtype: object\n",
      "test1       C\n",
      "test2    good\n",
      "test3      60\n",
      "Name: A3, dtype: object\n",
      "\n",
      "Furthest #1:('A7', 'A5')distance = 1.2218201358810732\n",
      "test1       C\n",
      "test2    good\n",
      "test3      45\n",
      "Name: A7, dtype: object\n",
      "test1       A\n",
      "test2    poor\n",
      "test3      23\n",
      "Name: A5, dtype: object\n",
      "\n",
      "Furthest #2:('A6', 'A1')distance = 1.2038872224774397\n",
      "test1            B\n",
      "test2    excellent\n",
      "test3           37\n",
      "Name: A6, dtype: object\n",
      "test1            A\n",
      "test2    excellent\n",
      "test3           25\n",
      "Name: A1, dtype: object\n",
      "\n"
     ]
    }
   ],
   "source": [
    "lb = distmat_zeroone[distmat_zeroone != 0.0]\n",
    "rowcol = []\n",
    "biggest = []\n",
    "biggest.append(lb.max().max())\n",
    "col1 = lb.max().idxmax()\n",
    "row1 = lb[col1].idxmax()\n",
    "rowcol.append((row1, col1))\n",
    "\n",
    "lb = lb[lb != biggest[0]]\n",
    "biggest.append(lb.max().max())\n",
    "col2 = lb.max().idxmax()\n",
    "row2 = lb[col2].idxmax()\n",
    "rowcol.append((row2, col2))\n",
    "\n",
    "lb = lb[lb != biggest[1]]\n",
    "biggest.append(lb.max().max())\n",
    "col3 = lb.max().idxmax()\n",
    "row3 = lb[col2].idxmax()\n",
    "rowcol.append((row3, col3))\n",
    "\n",
    "#df.loc[df[row1][row2]]\n",
    "\n",
    "myarray = [biggest[0], biggest[1], biggest[2]]\n",
    "for i in range(len(myarray)):\n",
    "    print(\"Furthest #\" + str(i) + \":\" + str(rowcol[i]) + \"distance = \" + str(biggest[i]))\n",
    "    print(df.loc[rowcol[i][0]])\n",
    "    print(df.loc[rowcol[i][1]])\n",
    "    print()"
   ]
  },
  {
   "cell_type": "markdown",
   "metadata": {},
   "source": [
    "### 13) [P] Repeat that exercise, however, now follow a strict binarization approach. Recall what binarization is! For each categorical variable, create a new set of variables that will store the occurrence of a distinct value in that variable.\n",
    "\n",
    "#### For example, test1 has three distinct values, \"A\", \"B\", and \"C\". Therefore, you should end up with three new variables that replace the one categorical variable. Best practice is to name your variables accordingly, with the variable name prefix, and the value as a suffix, usually with an _ in between. Thus, your result for the first variable should look like:\n",
    "\n",
    "#### Do this for BOTH categorical variables test1, and test2. However, test3 is already numeric, and we scaled it between zero-one already. Thus just copy the result of test3 from the previous data frame from the zero-one scaling.\n",
    "\n",
    "#### HINT - HOW? One approach is to use OneHotEncoder from sklearn.preprocessing. For this purpose, you can set the parameter sparse=False so that you can easily view the data, and set your dtype=int.\n",
    "\n",
    "#### Another approach is to use the pandas function get_dummies()."
   ]
  },
  {
   "cell_type": "code",
   "execution_count": 16,
   "metadata": {},
   "outputs": [
    {
     "data": {
      "text/html": [
       "<div>\n",
       "<style scoped>\n",
       "    .dataframe tbody tr th:only-of-type {\n",
       "        vertical-align: middle;\n",
       "    }\n",
       "\n",
       "    .dataframe tbody tr th {\n",
       "        vertical-align: top;\n",
       "    }\n",
       "\n",
       "    .dataframe thead th {\n",
       "        text-align: right;\n",
       "    }\n",
       "</style>\n",
       "<table border=\"1\" class=\"dataframe\">\n",
       "  <thead>\n",
       "    <tr style=\"text-align: right;\">\n",
       "      <th></th>\n",
       "      <th>test1_A</th>\n",
       "      <th>test1_B</th>\n",
       "      <th>test1_C</th>\n",
       "      <th>test2_excellent</th>\n",
       "      <th>test2_fair</th>\n",
       "      <th>test2_good</th>\n",
       "      <th>test2_poor</th>\n",
       "      <th>test3</th>\n",
       "    </tr>\n",
       "  </thead>\n",
       "  <tbody>\n",
       "    <tr>\n",
       "      <th>A1</th>\n",
       "      <td>1</td>\n",
       "      <td>0</td>\n",
       "      <td>0</td>\n",
       "      <td>1</td>\n",
       "      <td>0</td>\n",
       "      <td>0</td>\n",
       "      <td>0</td>\n",
       "      <td>0.25</td>\n",
       "    </tr>\n",
       "    <tr>\n",
       "      <th>A2</th>\n",
       "      <td>0</td>\n",
       "      <td>0</td>\n",
       "      <td>1</td>\n",
       "      <td>0</td>\n",
       "      <td>1</td>\n",
       "      <td>0</td>\n",
       "      <td>0</td>\n",
       "      <td>0.32</td>\n",
       "    </tr>\n",
       "    <tr>\n",
       "      <th>A3</th>\n",
       "      <td>0</td>\n",
       "      <td>0</td>\n",
       "      <td>1</td>\n",
       "      <td>0</td>\n",
       "      <td>0</td>\n",
       "      <td>1</td>\n",
       "      <td>0</td>\n",
       "      <td>0.60</td>\n",
       "    </tr>\n",
       "    <tr>\n",
       "      <th>A4</th>\n",
       "      <td>0</td>\n",
       "      <td>1</td>\n",
       "      <td>0</td>\n",
       "      <td>0</td>\n",
       "      <td>1</td>\n",
       "      <td>0</td>\n",
       "      <td>0</td>\n",
       "      <td>0.53</td>\n",
       "    </tr>\n",
       "    <tr>\n",
       "      <th>A5</th>\n",
       "      <td>1</td>\n",
       "      <td>0</td>\n",
       "      <td>0</td>\n",
       "      <td>0</td>\n",
       "      <td>0</td>\n",
       "      <td>0</td>\n",
       "      <td>1</td>\n",
       "      <td>0.23</td>\n",
       "    </tr>\n",
       "    <tr>\n",
       "      <th>A6</th>\n",
       "      <td>0</td>\n",
       "      <td>1</td>\n",
       "      <td>0</td>\n",
       "      <td>1</td>\n",
       "      <td>0</td>\n",
       "      <td>0</td>\n",
       "      <td>0</td>\n",
       "      <td>0.37</td>\n",
       "    </tr>\n",
       "    <tr>\n",
       "      <th>A7</th>\n",
       "      <td>0</td>\n",
       "      <td>0</td>\n",
       "      <td>1</td>\n",
       "      <td>0</td>\n",
       "      <td>0</td>\n",
       "      <td>1</td>\n",
       "      <td>0</td>\n",
       "      <td>0.45</td>\n",
       "    </tr>\n",
       "    <tr>\n",
       "      <th>A8</th>\n",
       "      <td>0</td>\n",
       "      <td>1</td>\n",
       "      <td>0</td>\n",
       "      <td>0</td>\n",
       "      <td>0</td>\n",
       "      <td>1</td>\n",
       "      <td>0</td>\n",
       "      <td>0.49</td>\n",
       "    </tr>\n",
       "  </tbody>\n",
       "</table>\n",
       "</div>"
      ],
      "text/plain": [
       "    test1_A  test1_B  test1_C  test2_excellent  test2_fair  test2_good  \\\n",
       "A1        1        0        0                1           0           0   \n",
       "A2        0        0        1                0           1           0   \n",
       "A3        0        0        1                0           0           1   \n",
       "A4        0        1        0                0           1           0   \n",
       "A5        1        0        0                0           0           0   \n",
       "A6        0        1        0                1           0           0   \n",
       "A7        0        0        1                0           0           1   \n",
       "A8        0        1        0                0           0           1   \n",
       "\n",
       "    test2_poor  test3  \n",
       "A1           0   0.25  \n",
       "A2           0   0.32  \n",
       "A3           0   0.60  \n",
       "A4           0   0.53  \n",
       "A5           1   0.23  \n",
       "A6           0   0.37  \n",
       "A7           0   0.45  \n",
       "A8           0   0.49  "
      ]
     },
     "execution_count": 16,
     "metadata": {},
     "output_type": "execute_result"
    }
   ],
   "source": [
    "df_first = pd.get_dummies(df.test1, prefix='test1')\n",
    "df_second = pd.get_dummies(df.test2, prefix='test2')\n",
    "temps = [df_first, df_second, df.test3/100]\n",
    "df_dummies = pd.concat(temps, axis = 1)\n",
    "df_dummies"
   ]
  },
  {
   "cell_type": "markdown",
   "metadata": {},
   "source": [
    "### 14) [P] Now, rerun your same exact results as with your zero-one scaled data. Report the three closest pairs, and the three most distant pairs."
   ]
  },
  {
   "cell_type": "code",
   "execution_count": 17,
   "metadata": {},
   "outputs": [
    {
     "data": {
      "text/html": [
       "<div>\n",
       "<style scoped>\n",
       "    .dataframe tbody tr th:only-of-type {\n",
       "        vertical-align: middle;\n",
       "    }\n",
       "\n",
       "    .dataframe tbody tr th {\n",
       "        vertical-align: top;\n",
       "    }\n",
       "\n",
       "    .dataframe thead th {\n",
       "        text-align: right;\n",
       "    }\n",
       "</style>\n",
       "<table border=\"1\" class=\"dataframe\">\n",
       "  <thead>\n",
       "    <tr style=\"text-align: right;\">\n",
       "      <th></th>\n",
       "      <th>A1</th>\n",
       "      <th>A2</th>\n",
       "      <th>A3</th>\n",
       "      <th>A4</th>\n",
       "      <th>A5</th>\n",
       "      <th>A6</th>\n",
       "      <th>A7</th>\n",
       "      <th>A8</th>\n",
       "    </tr>\n",
       "  </thead>\n",
       "  <tbody>\n",
       "    <tr>\n",
       "      <th>A1</th>\n",
       "      <td>0.000000</td>\n",
       "      <td>2.001225</td>\n",
       "      <td>2.030394</td>\n",
       "      <td>2.019505</td>\n",
       "      <td>1.414355</td>\n",
       "      <td>1.419296</td>\n",
       "      <td>2.009975</td>\n",
       "      <td>2.014349</td>\n",
       "    </tr>\n",
       "    <tr>\n",
       "      <th>A2</th>\n",
       "      <td>2.001225</td>\n",
       "      <td>0.000000</td>\n",
       "      <td>1.441666</td>\n",
       "      <td>1.429720</td>\n",
       "      <td>2.002024</td>\n",
       "      <td>2.000625</td>\n",
       "      <td>1.420176</td>\n",
       "      <td>2.007212</td>\n",
       "    </tr>\n",
       "    <tr>\n",
       "      <th>A3</th>\n",
       "      <td>2.030394</td>\n",
       "      <td>1.441666</td>\n",
       "      <td>0.000000</td>\n",
       "      <td>2.001225</td>\n",
       "      <td>2.033937</td>\n",
       "      <td>2.013182</td>\n",
       "      <td>0.150000</td>\n",
       "      <td>1.418485</td>\n",
       "    </tr>\n",
       "    <tr>\n",
       "      <th>A4</th>\n",
       "      <td>2.019505</td>\n",
       "      <td>1.429720</td>\n",
       "      <td>2.001225</td>\n",
       "      <td>0.000000</td>\n",
       "      <td>2.022375</td>\n",
       "      <td>1.423236</td>\n",
       "      <td>2.001599</td>\n",
       "      <td>1.414779</td>\n",
       "    </tr>\n",
       "    <tr>\n",
       "      <th>A5</th>\n",
       "      <td>1.414355</td>\n",
       "      <td>2.002024</td>\n",
       "      <td>2.033937</td>\n",
       "      <td>2.022375</td>\n",
       "      <td>0.000000</td>\n",
       "      <td>2.004894</td>\n",
       "      <td>2.012064</td>\n",
       "      <td>2.016829</td>\n",
       "    </tr>\n",
       "    <tr>\n",
       "      <th>A6</th>\n",
       "      <td>1.419296</td>\n",
       "      <td>2.000625</td>\n",
       "      <td>2.013182</td>\n",
       "      <td>1.423236</td>\n",
       "      <td>2.004894</td>\n",
       "      <td>0.000000</td>\n",
       "      <td>2.001599</td>\n",
       "      <td>1.419296</td>\n",
       "    </tr>\n",
       "    <tr>\n",
       "      <th>A7</th>\n",
       "      <td>2.009975</td>\n",
       "      <td>1.420176</td>\n",
       "      <td>0.150000</td>\n",
       "      <td>2.001599</td>\n",
       "      <td>2.012064</td>\n",
       "      <td>2.001599</td>\n",
       "      <td>0.000000</td>\n",
       "      <td>1.414779</td>\n",
       "    </tr>\n",
       "    <tr>\n",
       "      <th>A8</th>\n",
       "      <td>2.014349</td>\n",
       "      <td>2.007212</td>\n",
       "      <td>1.418485</td>\n",
       "      <td>1.414779</td>\n",
       "      <td>2.016829</td>\n",
       "      <td>1.419296</td>\n",
       "      <td>1.414779</td>\n",
       "      <td>0.000000</td>\n",
       "    </tr>\n",
       "  </tbody>\n",
       "</table>\n",
       "</div>"
      ],
      "text/plain": [
       "          A1        A2        A3        A4        A5        A6        A7  \\\n",
       "A1  0.000000  2.001225  2.030394  2.019505  1.414355  1.419296  2.009975   \n",
       "A2  2.001225  0.000000  1.441666  1.429720  2.002024  2.000625  1.420176   \n",
       "A3  2.030394  1.441666  0.000000  2.001225  2.033937  2.013182  0.150000   \n",
       "A4  2.019505  1.429720  2.001225  0.000000  2.022375  1.423236  2.001599   \n",
       "A5  1.414355  2.002024  2.033937  2.022375  0.000000  2.004894  2.012064   \n",
       "A6  1.419296  2.000625  2.013182  1.423236  2.004894  0.000000  2.001599   \n",
       "A7  2.009975  1.420176  0.150000  2.001599  2.012064  2.001599  0.000000   \n",
       "A8  2.014349  2.007212  1.418485  1.414779  2.016829  1.419296  1.414779   \n",
       "\n",
       "          A8  \n",
       "A1  2.014349  \n",
       "A2  2.007212  \n",
       "A3  1.418485  \n",
       "A4  1.414779  \n",
       "A5  2.016829  \n",
       "A6  1.419296  \n",
       "A7  1.414779  \n",
       "A8  0.000000  "
      ]
     },
     "execution_count": 17,
     "metadata": {},
     "output_type": "execute_result"
    }
   ],
   "source": [
    "x = distance.cdist(df_dummies, df_dummies, metric = 'euclidean')\n",
    "dummies = pd.DataFrame(x, index=df.index, columns=df.index)\n",
    "dummies"
   ]
  },
  {
   "cell_type": "code",
   "execution_count": 18,
   "metadata": {},
   "outputs": [
    {
     "name": "stdout",
     "output_type": "stream",
     "text": [
      "Furthest #0:('A5', 'A3')distance = 2.033937068839643\n",
      "test1       A\n",
      "test2    poor\n",
      "test3      23\n",
      "Name: A5, dtype: object\n",
      "test1       C\n",
      "test2    good\n",
      "test3      60\n",
      "Name: A3, dtype: object\n",
      "\n",
      "Furthest #1:('A3', 'A1')distance = 2.0303940504246953\n",
      "test1       C\n",
      "test2    good\n",
      "test3      60\n",
      "Name: A3, dtype: object\n",
      "test1            A\n",
      "test2    excellent\n",
      "test3           25\n",
      "Name: A1, dtype: object\n",
      "\n",
      "Furthest #2:('A4', 'A4')distance = 2.0223748416156684\n",
      "test1       B\n",
      "test2    fair\n",
      "test3      53\n",
      "Name: A4, dtype: object\n",
      "test1       B\n",
      "test2    fair\n",
      "test3      53\n",
      "Name: A4, dtype: object\n",
      "\n"
     ]
    }
   ],
   "source": [
    "lb = dummies[dummies != 0.0]\n",
    "rowcol = []\n",
    "biggest = []\n",
    "biggest.append(lb.max().max())\n",
    "col1 = lb.max().idxmax()\n",
    "row1 = lb[col1].idxmax()\n",
    "rowcol.append((row1, col1))\n",
    "\n",
    "lb = lb[lb != biggest[0]]\n",
    "biggest.append(lb.max().max())\n",
    "col2 = lb.max().idxmax()\n",
    "row2 = lb[col2].idxmax()\n",
    "rowcol.append((row2, col2))\n",
    "\n",
    "lb = lb[lb != biggest[1]]\n",
    "biggest.append(lb.max().max())\n",
    "col3 = lb.max().idxmax()\n",
    "row3 = lb[col2].idxmax()\n",
    "rowcol.append((row3, col3))\n",
    "\n",
    "#df.loc[df[row1][row2]]\n",
    "\n",
    "myarray = [biggest[0], biggest[1], biggest[2]]\n",
    "for i in range(len(myarray)):\n",
    "    print(\"Furthest #\" + str(i) + \":\" + str(rowcol[i]) + \"distance = \" + str(biggest[i]))\n",
    "    print(df.loc[rowcol[i][0]])\n",
    "    print(df.loc[rowcol[i][1]])\n",
    "    print()"
   ]
  },
  {
   "cell_type": "code",
   "execution_count": 19,
   "metadata": {},
   "outputs": [
    {
     "name": "stdout",
     "output_type": "stream",
     "text": [
      "[0.14999999999999997, 1.4143549766589716, 1.4147791347061915]\n",
      "Closest #0:('A7', 'A3')distance = 0.14999999999999997\n",
      "test1       C\n",
      "test2    good\n",
      "test3      45\n",
      "Name: A7, dtype: object\n",
      "test1       C\n",
      "test2    good\n",
      "test3      60\n",
      "Name: A3, dtype: object\n",
      "\n",
      "Closest #1:('A5', 'A1')distance = 1.4143549766589716\n",
      "test1       A\n",
      "test2    poor\n",
      "test3      23\n",
      "Name: A5, dtype: object\n",
      "test1            A\n",
      "test2    excellent\n",
      "test3           25\n",
      "Name: A1, dtype: object\n",
      "\n",
      "Closest #2:('A6', 'A4')distance = 1.4147791347061915\n",
      "test1            B\n",
      "test2    excellent\n",
      "test3           37\n",
      "Name: A6, dtype: object\n",
      "test1       B\n",
      "test2    fair\n",
      "test3      53\n",
      "Name: A4, dtype: object\n",
      "\n"
     ]
    }
   ],
   "source": [
    "lb = dummies[dummies != 0.0]\n",
    "rowcol = []\n",
    "smallest = []\n",
    "smallest.append(lb.min().min())\n",
    "col1 = lb.min().idxmin()\n",
    "row1 = lb[col1].idxmin()\n",
    "rowcol.append((row1, col1))\n",
    "\n",
    "lb = lb[lb != smallest[0]]\n",
    "smallest.append(lb.min().min())\n",
    "col2 = lb.min().idxmin()\n",
    "row2 = lb[col2].idxmin()\n",
    "rowcol.append((row2, col2))\n",
    "\n",
    "lb = lb[lb != smallest[1]]\n",
    "smallest.append(lb.min().min())\n",
    "col3 = lb.min().idxmin()\n",
    "row3 = lb[col2].idxmin()\n",
    "rowcol.append((row3, col3))\n",
    "print(smallest)\n",
    "\n",
    "#df.loc[df[row1][row2]]\n",
    "\n",
    "myarray = [smallest[0], smallest[1], smallest[2]]\n",
    "for i in range(len(myarray)):\n",
    "    print(\"Closest #\" + str(i) + \":\" + str(rowcol[i]) + \"distance = \" + str(smallest[i]))\n",
    "    print(df.loc[rowcol[i][0]])\n",
    "    print(df.loc[rowcol[i][1]])\n",
    "    print()"
   ]
  },
  {
   "cell_type": "markdown",
   "metadata": {},
   "source": [
    "### 15) [M] Take a moment and compare and contrast your results. Which method do you think have the better results? Why?"
   ]
  },
  {
   "cell_type": "markdown",
   "metadata": {},
   "source": [
    "When I put my results in bins, I got better results. The evidence is in the test3 variable. The test results are closer together when I compute the shortest distance, and further apart when i compute the furthest distance. \n",
    "\n",
    "Since test3 is the variable I transformed the least, so I value that variable more over test1 and test2. "
   ]
  },
  {
   "cell_type": "markdown",
   "metadata": {},
   "source": [
    "### 16) [M] Which variable do you think was the distinguishing player in affecting the different outcomes between both of the above approaches to transforming your data to numeric results? Why?"
   ]
  },
  {
   "cell_type": "markdown",
   "metadata": {},
   "source": [
    "test3 because it was inputted as numbers, so it underwent the least transformation. test3 also is the independent variable."
   ]
  },
  {
   "cell_type": "markdown",
   "metadata": {},
   "source": [
    "For this next exercise, you are going to use the dataset built into the seaborn library, called 'car_crashes'."
   ]
  },
  {
   "cell_type": "markdown",
   "metadata": {},
   "source": [
    "### 17) [P] Load in your next dataset using the following: df_car_crashes = sns.load_dataset('car_crashes')\n",
    "\n",
    "The dataset is directly downloaded from:\n",
    "https://github.com/mwaskom/seaborn-data/blob/master/car_crashes.csv\n",
    "Figure out what this dataset is all about. Sometimes, it's easy to figure out. Just Google! And, sometimes we find interesting publicly available data and need to make the best guess regarding our variables. For now,\n",
    "don't worry too much about specifics. This is a very simplified, highly aggregated dataset from much more extensive statistics drawn from the Insurance Institute for Highway Safety - https://www.iihs.org/iihs/topics/t/general-statistics/fatalityfacts/state-by-state-overview (NOTE - this might make a great repository for some project?)"
   ]
  },
  {
   "cell_type": "code",
   "execution_count": 20,
   "metadata": {},
   "outputs": [],
   "source": [
    "df_car_crashes = sns.load_dataset('car_crashes')"
   ]
  },
  {
   "cell_type": "markdown",
   "metadata": {},
   "source": [
    "### 18) [P] Preprocess your data. Minimally, you should move the state code to become the index for the dataframe, and then drop that column from your data."
   ]
  },
  {
   "cell_type": "code",
   "execution_count": 21,
   "metadata": {},
   "outputs": [
    {
     "data": {
      "text/html": [
       "<div>\n",
       "<style scoped>\n",
       "    .dataframe tbody tr th:only-of-type {\n",
       "        vertical-align: middle;\n",
       "    }\n",
       "\n",
       "    .dataframe tbody tr th {\n",
       "        vertical-align: top;\n",
       "    }\n",
       "\n",
       "    .dataframe thead th {\n",
       "        text-align: right;\n",
       "    }\n",
       "</style>\n",
       "<table border=\"1\" class=\"dataframe\">\n",
       "  <thead>\n",
       "    <tr style=\"text-align: right;\">\n",
       "      <th></th>\n",
       "      <th>total</th>\n",
       "      <th>speeding</th>\n",
       "      <th>alcohol</th>\n",
       "      <th>not_distracted</th>\n",
       "      <th>no_previous</th>\n",
       "      <th>ins_premium</th>\n",
       "      <th>ins_losses</th>\n",
       "    </tr>\n",
       "    <tr>\n",
       "      <th>abbrev</th>\n",
       "      <th></th>\n",
       "      <th></th>\n",
       "      <th></th>\n",
       "      <th></th>\n",
       "      <th></th>\n",
       "      <th></th>\n",
       "      <th></th>\n",
       "    </tr>\n",
       "  </thead>\n",
       "  <tbody>\n",
       "    <tr>\n",
       "      <th>AL</th>\n",
       "      <td>18.8</td>\n",
       "      <td>7.332</td>\n",
       "      <td>5.640</td>\n",
       "      <td>18.048</td>\n",
       "      <td>15.040</td>\n",
       "      <td>784.55</td>\n",
       "      <td>145.08</td>\n",
       "    </tr>\n",
       "    <tr>\n",
       "      <th>AK</th>\n",
       "      <td>18.1</td>\n",
       "      <td>7.421</td>\n",
       "      <td>4.525</td>\n",
       "      <td>16.290</td>\n",
       "      <td>17.014</td>\n",
       "      <td>1053.48</td>\n",
       "      <td>133.93</td>\n",
       "    </tr>\n",
       "    <tr>\n",
       "      <th>AZ</th>\n",
       "      <td>18.6</td>\n",
       "      <td>6.510</td>\n",
       "      <td>5.208</td>\n",
       "      <td>15.624</td>\n",
       "      <td>17.856</td>\n",
       "      <td>899.47</td>\n",
       "      <td>110.35</td>\n",
       "    </tr>\n",
       "    <tr>\n",
       "      <th>AR</th>\n",
       "      <td>22.4</td>\n",
       "      <td>4.032</td>\n",
       "      <td>5.824</td>\n",
       "      <td>21.056</td>\n",
       "      <td>21.280</td>\n",
       "      <td>827.34</td>\n",
       "      <td>142.39</td>\n",
       "    </tr>\n",
       "    <tr>\n",
       "      <th>CA</th>\n",
       "      <td>12.0</td>\n",
       "      <td>4.200</td>\n",
       "      <td>3.360</td>\n",
       "      <td>10.920</td>\n",
       "      <td>10.680</td>\n",
       "      <td>878.41</td>\n",
       "      <td>165.63</td>\n",
       "    </tr>\n",
       "  </tbody>\n",
       "</table>\n",
       "</div>"
      ],
      "text/plain": [
       "        total  speeding  alcohol  not_distracted  no_previous  ins_premium  \\\n",
       "abbrev                                                                       \n",
       "AL       18.8     7.332    5.640          18.048       15.040       784.55   \n",
       "AK       18.1     7.421    4.525          16.290       17.014      1053.48   \n",
       "AZ       18.6     6.510    5.208          15.624       17.856       899.47   \n",
       "AR       22.4     4.032    5.824          21.056       21.280       827.34   \n",
       "CA       12.0     4.200    3.360          10.920       10.680       878.41   \n",
       "\n",
       "        ins_losses  \n",
       "abbrev              \n",
       "AL          145.08  \n",
       "AK          133.93  \n",
       "AZ          110.35  \n",
       "AR          142.39  \n",
       "CA          165.63  "
      ]
     },
     "execution_count": 21,
     "metadata": {},
     "output_type": "execute_result"
    }
   ],
   "source": [
    "df_car_crashes = sns.load_dataset('car_crashes')\n",
    "df_car_crashes.index = df_car_crashes.abbrev\n",
    "df_car_crashes = df_car_crashes.drop(['abbrev'], axis = 1)\n",
    "df_car_crashes.head()"
   ]
  },
  {
   "cell_type": "markdown",
   "metadata": {},
   "source": [
    "### 19) [P] Create a scatter plot of insurance premiums vs. insurance losses, with total number of accidents as the size of the point. and create a label next to every point representing the two letter state code. (NOTE: You'll likely have to rescale your point sice when you pass)"
   ]
  },
  {
   "cell_type": "code",
   "execution_count": 22,
   "metadata": {},
   "outputs": [
    {
     "data": {
      "image/png": "[encoded data removed]",
      "text/plain": [
       "<Figure size 432x288 with 1 Axes>"
      ]
     },
     "metadata": {},
     "output_type": "display_data"
    }
   ],
   "source": [
    "sns.set_style('whitegrid')\n",
    "x = np.array(df_car_crashes['ins_losses'])\n",
    "y = np.array(df_car_crashes['ins_premium'])\n",
    "types = np.array(df_car_crashes.index)\n",
    "\n",
    "for i,type in enumerate(types):\n",
    "    xi = x[i]\n",
    "    yi = y[i]\n",
    "    plt.scatter(xi, yi, s = 4*df_car_crashes.total[i], color = 'blue')\n",
    "    plt.text(xi+1, yi+1, type, fontsize = 10)\n",
    "\n",
    "plt.title(\"Insurance Premium v. Insurance Losses\")\n",
    "plt.ylabel(\"Insurance Premium\")\n",
    "plt.xlabel(\"Insurance Losses\")\n",
    "plt.show()"
   ]
  },
  {
   "cell_type": "markdown",
   "metadata": {},
   "source": [
    "### 20) [P] Generate two interesting scatterplots that show some relationships between variables in the data. Try to use as many variables as you can without creating chaos! Your aim is to derive meaning from your data. Good visualizations tell a story. Strive to use at least one additional variable as size, color, or shape in your data, so you can show more than just 2 variables on a single plot. Remember, sometimes this can just confuse, so do not go overboard unless it really adds something. Be sure to add legends and colorbors and axis labels and titles, and etc!\n",
    "Then, write a single sentence in markdown that draws a conclusion from your plot."
   ]
  },
  {
   "cell_type": "code",
   "execution_count": 23,
   "metadata": {},
   "outputs": [
    {
     "data": {
      "image/png": "[encoded data removed]",
      "text/plain": [
       "<Figure size 432x288 with 1 Axes>"
      ]
     },
     "metadata": {},
     "output_type": "display_data"
    }
   ],
   "source": [
    "sns.set_style('whitegrid')\n",
    "x = np.array(df_car_crashes['total'])\n",
    "y = np.array(df_car_crashes['speeding'])\n",
    "types = np.array(df_car_crashes.index)\n",
    "\n",
    "for i,type in enumerate(types):\n",
    "    xi = x[i]\n",
    "    yi = y[i]\n",
    "    if (df_car_crashes.alcohol[i] > df_car_crashes.speeding[i]):\n",
    "        plt.scatter(xi, yi, s = 4*df_car_crashes.total[i], color = 'blue')\n",
    "    else:\n",
    "        plt.scatter(xi, yi, s = 4*df_car_crashes.total[i], color = 'red')\n",
    "    plt.text(xi+1, yi+1, type, fontsize = 10)\n",
    "\n",
    "plt.title(\"Speeding v. Alcohol\")\n",
    "plt.ylabel(\"Crashing involving Speeding\")\n",
    "plt.xlabel(\"Total Crashes\")\n",
    "plt.show()"
   ]
  },
  {
   "cell_type": "markdown",
   "metadata": {},
   "source": [
    "The red dots are the states where speeding involved crashes are greater than the percentage of alcohol induced crashes. The blue states generally have less speeding crashes. Both red and blue states seems to have an equal number of total crashes. "
   ]
  },
  {
   "cell_type": "code",
   "execution_count": 24,
   "metadata": {},
   "outputs": [
    {
     "data": {
      "image/png": "[encoded data removed]",
      "text/plain": [
       "<Figure size 432x288 with 1 Axes>"
      ]
     },
     "metadata": {},
     "output_type": "display_data"
    }
   ],
   "source": [
    "sns.set_style('whitegrid')\n",
    "x = np.array(df_car_crashes['total'])\n",
    "y = np.array(df_car_crashes['not_distracted'])\n",
    "types = np.array(df_car_crashes.index)\n",
    "\n",
    "for i,type in enumerate(types):\n",
    "    xi = x[i]\n",
    "    yi = y[i]\n",
    "    if (df_car_crashes.alcohol[i]/df_car_crashes.total[i] > .30):\n",
    "        plt.scatter(xi, yi, s = 4*df_car_crashes.total[i], color = 'blue')\n",
    "    else:\n",
    "        plt.scatter(xi, yi, s = 4*df_car_crashes.total[i], color = 'red')\n",
    "\n",
    "    plt.text(xi+1, yi+1, type, fontsize = 10)\n",
    "\n",
    "plt.title(\"Insurance Premium v. Insurance Losses\")\n",
    "plt.ylabel(\"Not Distracted\")\n",
    "plt.xlabel(\"Total Crashes\")\n",
    "plt.show()"
   ]
  },
  {
   "cell_type": "markdown",
   "metadata": {},
   "source": []
  },
  {
   "cell_type": "markdown",
   "metadata": {},
   "source": [
    "### 21) [P] Since all of the data are numeric, create a zscore transformation, storing the new dataframe as df_car_crashes_zscore. Report summary statistics on the transformed data."
   ]
  },
  {
   "cell_type": "code",
   "execution_count": 25,
   "metadata": {},
   "outputs": [],
   "source": [
    "from scipy.stats import zscore"
   ]
  },
  {
   "cell_type": "code",
   "execution_count": 26,
   "metadata": {},
   "outputs": [
    {
     "data": {
      "text/html": [
       "<div>\n",
       "<style scoped>\n",
       "    .dataframe tbody tr th:only-of-type {\n",
       "        vertical-align: middle;\n",
       "    }\n",
       "\n",
       "    .dataframe tbody tr th {\n",
       "        vertical-align: top;\n",
       "    }\n",
       "\n",
       "    .dataframe thead th {\n",
       "        text-align: right;\n",
       "    }\n",
       "</style>\n",
       "<table border=\"1\" class=\"dataframe\">\n",
       "  <thead>\n",
       "    <tr style=\"text-align: right;\">\n",
       "      <th></th>\n",
       "      <th>total</th>\n",
       "      <th>speeding</th>\n",
       "      <th>alcohol</th>\n",
       "      <th>not_distracted</th>\n",
       "      <th>no_previous</th>\n",
       "      <th>ins_premium</th>\n",
       "      <th>ins_losses</th>\n",
       "    </tr>\n",
       "  </thead>\n",
       "  <tbody>\n",
       "    <tr>\n",
       "      <th>count</th>\n",
       "      <td>5.100000e+01</td>\n",
       "      <td>5.100000e+01</td>\n",
       "      <td>5.100000e+01</td>\n",
       "      <td>5.100000e+01</td>\n",
       "      <td>5.100000e+01</td>\n",
       "      <td>5.100000e+01</td>\n",
       "      <td>5.100000e+01</td>\n",
       "    </tr>\n",
       "    <tr>\n",
       "      <th>mean</th>\n",
       "      <td>6.117111e-16</td>\n",
       "      <td>1.741526e-17</td>\n",
       "      <td>-1.447644e-16</td>\n",
       "      <td>-3.434072e-16</td>\n",
       "      <td>3.025902e-16</td>\n",
       "      <td>4.506199e-16</td>\n",
       "      <td>-2.111601e-16</td>\n",
       "    </tr>\n",
       "    <tr>\n",
       "      <th>std</th>\n",
       "      <td>1.009950e+00</td>\n",
       "      <td>1.009950e+00</td>\n",
       "      <td>1.009950e+00</td>\n",
       "      <td>1.009950e+00</td>\n",
       "      <td>1.009950e+00</td>\n",
       "      <td>1.009950e+00</td>\n",
       "      <td>1.009950e+00</td>\n",
       "    </tr>\n",
       "    <tr>\n",
       "      <th>min</th>\n",
       "      <td>-2.423242e+00</td>\n",
       "      <td>-1.604809e+00</td>\n",
       "      <td>-1.923831e+00</td>\n",
       "      <td>-2.645993e+00</td>\n",
       "      <td>-2.174301e+00</td>\n",
       "      <td>-1.387777e+00</td>\n",
       "      <td>-2.104130e+00</td>\n",
       "    </tr>\n",
       "    <tr>\n",
       "      <th>25%</th>\n",
       "      <td>-7.448923e-01</td>\n",
       "      <td>-6.165054e-01</td>\n",
       "      <td>-5.798646e-01</td>\n",
       "      <td>-6.932781e-01</td>\n",
       "      <td>-7.127632e-01</td>\n",
       "      <td>-6.713940e-01</td>\n",
       "      <td>-8.071227e-01</td>\n",
       "    </tr>\n",
       "    <tr>\n",
       "      <th>50%</th>\n",
       "      <td>-4.660081e-02</td>\n",
       "      <td>-1.953063e-01</td>\n",
       "      <td>-1.943724e-01</td>\n",
       "      <td>6.357267e-02</td>\n",
       "      <td>-6.167066e-02</td>\n",
       "      <td>-1.585346e-01</td>\n",
       "      <td>6.330968e-02</td>\n",
       "    </tr>\n",
       "    <tr>\n",
       "      <th>75%</th>\n",
       "      <td>6.639414e-01</td>\n",
       "      <td>7.211710e-01</td>\n",
       "      <td>4.189107e-01</td>\n",
       "      <td>5.749341e-01</td>\n",
       "      <td>7.377755e-01</td>\n",
       "      <td>6.853269e-01</td>\n",
       "      <td>7.066285e-01</td>\n",
       "    </tr>\n",
       "    <tr>\n",
       "      <th>max</th>\n",
       "      <td>1.987020e+00</td>\n",
       "      <td>2.228278e+00</td>\n",
       "      <td>3.008718e+00</td>\n",
       "      <td>2.259537e+00</td>\n",
       "      <td>1.951700e+00</td>\n",
       "      <td>2.348268e+00</td>\n",
       "      <td>2.451560e+00</td>\n",
       "    </tr>\n",
       "  </tbody>\n",
       "</table>\n",
       "</div>"
      ],
      "text/plain": [
       "              total      speeding       alcohol  not_distracted   no_previous  \\\n",
       "count  5.100000e+01  5.100000e+01  5.100000e+01    5.100000e+01  5.100000e+01   \n",
       "mean   6.117111e-16  1.741526e-17 -1.447644e-16   -3.434072e-16  3.025902e-16   \n",
       "std    1.009950e+00  1.009950e+00  1.009950e+00    1.009950e+00  1.009950e+00   \n",
       "min   -2.423242e+00 -1.604809e+00 -1.923831e+00   -2.645993e+00 -2.174301e+00   \n",
       "25%   -7.448923e-01 -6.165054e-01 -5.798646e-01   -6.932781e-01 -7.127632e-01   \n",
       "50%   -4.660081e-02 -1.953063e-01 -1.943724e-01    6.357267e-02 -6.167066e-02   \n",
       "75%    6.639414e-01  7.211710e-01  4.189107e-01    5.749341e-01  7.377755e-01   \n",
       "max    1.987020e+00  2.228278e+00  3.008718e+00    2.259537e+00  1.951700e+00   \n",
       "\n",
       "        ins_premium    ins_losses  \n",
       "count  5.100000e+01  5.100000e+01  \n",
       "mean   4.506199e-16 -2.111601e-16  \n",
       "std    1.009950e+00  1.009950e+00  \n",
       "min   -1.387777e+00 -2.104130e+00  \n",
       "25%   -6.713940e-01 -8.071227e-01  \n",
       "50%   -1.585346e-01  6.330968e-02  \n",
       "75%    6.853269e-01  7.066285e-01  \n",
       "max    2.348268e+00  2.451560e+00  "
      ]
     },
     "execution_count": 26,
     "metadata": {},
     "output_type": "execute_result"
    }
   ],
   "source": [
    "df_car_crashes_zscore = df_car_crashes.apply(zscore)\n",
    "df_car_crashes_zscore.describe()"
   ]
  },
  {
   "cell_type": "markdown",
   "metadata": {},
   "source": [
    "### 22) [P] Now, run a full PCA on the transformed data. Set n_components to be the same number of components as the original data. Be sure to fit the data to your PCA model, and then output the components, explained variance, and the explained variance ratio."
   ]
  },
  {
   "cell_type": "code",
   "execution_count": 27,
   "metadata": {},
   "outputs": [],
   "source": [
    "from sklearn.decomposition import PCA"
   ]
  },
  {
   "cell_type": "code",
   "execution_count": 28,
   "metadata": {},
   "outputs": [
    {
     "name": "stdout",
     "output_type": "stream",
     "text": [
      "[4.0942308  1.6095732  0.56161403 0.35753958 0.2863854  0.20263316\n",
      " 0.02802383]\n",
      "[0.57342168 0.22543042 0.07865743 0.05007557 0.04011    0.02837999\n",
      " 0.00392491]\n"
     ]
    }
   ],
   "source": [
    "n_components = df_car_crashes.count(axis = 1).max()\n",
    "pca = PCA(n_components)\n",
    "principle_components = pca.fit_transform(df_car_crashes_zscore)\n",
    "df_principle = pd.DataFrame(principle_components, columns = ['principal_component_'+str(i) for i in range(n_components)])\n",
    "print(pca.explained_variance_)\n",
    "print(pca.explained_variance_ratio_)"
   ]
  },
  {
   "cell_type": "markdown",
   "metadata": {},
   "source": [
    "### 23) [M] Use your intuition – what do the weights of the first couple of components suggest explains most of the variance in the data?"
   ]
  },
  {
   "cell_type": "markdown",
   "metadata": {},
   "source": [
    "principal_component_0 has a ratio of 57%, how much the variance is explained by that one variable. "
   ]
  },
  {
   "cell_type": "markdown",
   "metadata": {},
   "source": [
    "### 24) [P] Create a plot of the cumulative sum of the explained variance. How many components will get you to 90% of the explained variance?"
   ]
  },
  {
   "cell_type": "code",
   "execution_count": 29,
   "metadata": {},
   "outputs": [
    {
     "data": {
      "image/png": "[encoded data removed]",
      "text/plain": [
       "<Figure size 432x288 with 1 Axes>"
      ]
     },
     "metadata": {},
     "output_type": "display_data"
    }
   ],
   "source": [
    "sns.lineplot(data=np.cumsum(pca.explained_variance_ratio_))\n",
    "plt.title(\"Explained Variance Ratio\")\n",
    "plt.ylabel(\"Total Variance\")\n",
    "plt.xlabel(\"Component\")\n",
    "plt.show()\n",
    "plt.show()\n",
    "# I will get to 90% explained variance by the 4th component"
   ]
  },
  {
   "cell_type": "markdown",
   "metadata": {},
   "source": [
    "### 25) [P] Transform the original data using your PCA model (i.e. using the transform function of the pca object.)\n",
    "(NOTE: I often just store the transformed data temporarily as some arbitrary variable to make it easier to manipulate the data for plotting.)"
   ]
  },
  {
   "cell_type": "code",
   "execution_count": 30,
   "metadata": {},
   "outputs": [
    {
     "data": {
      "text/html": [
       "<div>\n",
       "<style scoped>\n",
       "    .dataframe tbody tr th:only-of-type {\n",
       "        vertical-align: middle;\n",
       "    }\n",
       "\n",
       "    .dataframe tbody tr th {\n",
       "        vertical-align: top;\n",
       "    }\n",
       "\n",
       "    .dataframe thead th {\n",
       "        text-align: right;\n",
       "    }\n",
       "</style>\n",
       "<table border=\"1\" class=\"dataframe\">\n",
       "  <thead>\n",
       "    <tr style=\"text-align: right;\">\n",
       "      <th></th>\n",
       "      <th>0</th>\n",
       "      <th>1</th>\n",
       "      <th>2</th>\n",
       "      <th>3</th>\n",
       "      <th>4</th>\n",
       "      <th>5</th>\n",
       "      <th>6</th>\n",
       "    </tr>\n",
       "  </thead>\n",
       "  <tbody>\n",
       "    <tr>\n",
       "      <th>0</th>\n",
       "      <td>-83.685843</td>\n",
       "      <td>645.224379</td>\n",
       "      <td>157.332867</td>\n",
       "      <td>427.845168</td>\n",
       "      <td>18.061271</td>\n",
       "      <td>-71.460871</td>\n",
       "      <td>31.655088</td>\n",
       "    </tr>\n",
       "    <tr>\n",
       "      <th>1</th>\n",
       "      <td>-118.767135</td>\n",
       "      <td>821.594240</td>\n",
       "      <td>228.898421</td>\n",
       "      <td>610.816741</td>\n",
       "      <td>31.770225</td>\n",
       "      <td>-106.500757</td>\n",
       "      <td>41.824503</td>\n",
       "    </tr>\n",
       "    <tr>\n",
       "      <th>2</th>\n",
       "      <td>-96.666820</td>\n",
       "      <td>699.301439</td>\n",
       "      <td>194.614568</td>\n",
       "      <td>524.678357</td>\n",
       "      <td>27.960893</td>\n",
       "      <td>-92.694757</td>\n",
       "      <td>36.034679</td>\n",
       "    </tr>\n",
       "    <tr>\n",
       "      <th>3</th>\n",
       "      <td>-84.355396</td>\n",
       "      <td>673.357448</td>\n",
       "      <td>162.979764</td>\n",
       "      <td>459.725291</td>\n",
       "      <td>20.222071</td>\n",
       "      <td>-79.507726</td>\n",
       "      <td>32.377070</td>\n",
       "    </tr>\n",
       "    <tr>\n",
       "      <th>4</th>\n",
       "      <td>-107.990346</td>\n",
       "      <td>722.676028</td>\n",
       "      <td>177.359394</td>\n",
       "      <td>475.889641</td>\n",
       "      <td>23.626185</td>\n",
       "      <td>-77.006485</td>\n",
       "      <td>33.250672</td>\n",
       "    </tr>\n",
       "  </tbody>\n",
       "</table>\n",
       "</div>"
      ],
      "text/plain": [
       "            0           1           2           3          4           5  \\\n",
       "0  -83.685843  645.224379  157.332867  427.845168  18.061271  -71.460871   \n",
       "1 -118.767135  821.594240  228.898421  610.816741  31.770225 -106.500757   \n",
       "2  -96.666820  699.301439  194.614568  524.678357  27.960893  -92.694757   \n",
       "3  -84.355396  673.357448  162.979764  459.725291  20.222071  -79.507726   \n",
       "4 -107.990346  722.676028  177.359394  475.889641  23.626185  -77.006485   \n",
       "\n",
       "           6  \n",
       "0  31.655088  \n",
       "1  41.824503  \n",
       "2  36.034679  \n",
       "3  32.377070  \n",
       "4  33.250672  "
      ]
     },
     "execution_count": 30,
     "metadata": {},
     "output_type": "execute_result"
    }
   ],
   "source": [
    "pca_original = pd.DataFrame(pca.transform(df_car_crashes))\n",
    "pca_original.head()"
   ]
  },
  {
   "cell_type": "markdown",
   "metadata": {},
   "source": [
    "### 26) [P] Generate a 2D plot using the first two principal components as your x and y coordinates. Be sure to label each point, and label your axes as component 1 and component 2, respectively."
   ]
  },
  {
   "cell_type": "code",
   "execution_count": 31,
   "metadata": {},
   "outputs": [
    {
     "data": {
      "image/png": "[encoded data removed]",
      "text/plain": [
       "<Figure size 432x288 with 1 Axes>"
      ]
     },
     "metadata": {},
     "output_type": "display_data"
    }
   ],
   "source": [
    "sns.set_style('whitegrid')\n",
    "x = np.array(pca_original[0])\n",
    "y = np.array(pca_original[1])\n",
    "types = np.array(pca_original.index)\n",
    "plt.scatter(x, y, color = 'orange')\n",
    "\n",
    "plt.title(\"Principal Component 0 v. Principal Component 1\")\n",
    "plt.ylabel(\"Principal Component 1\")\n",
    "plt.xlabel(\"Principal Component 0\")\n",
    "plt.show()"
   ]
  },
  {
   "cell_type": "markdown",
   "metadata": {},
   "source": [
    "### 27) [M] Observe your plot, and report three \"interesting\" states from your data that represent some extreme values or outliers from the trends."
   ]
  },
  {
   "cell_type": "markdown",
   "metadata": {},
   "source": [
    "No outliers?"
   ]
  },
  {
   "cell_type": "markdown",
   "metadata": {},
   "source": [
    "### 28) [P] Read how to generate a 3D scatterplot, and use it to generate a scatterplot of the first 3 components."
   ]
  },
  {
   "cell_type": "code",
   "execution_count": 32,
   "metadata": {},
   "outputs": [],
   "source": [
    "from matplotlib import pyplot\n",
    "from mpl_toolkits.mplot3d import Axes3D\n",
    "import random"
   ]
  },
  {
   "cell_type": "code",
   "execution_count": 33,
   "metadata": {},
   "outputs": [
    {
     "data": {
      "image/png": "[encoded data removed]",
      "text/plain": [
       "<Figure size 432x288 with 1 Axes>"
      ]
     },
     "metadata": {},
     "output_type": "display_data"
    }
   ],
   "source": [
    "fig = pyplot.figure()\n",
    "ax = Axes3D(fig)\n",
    "x = np.array(pca_original[0])\n",
    "y = np.array(pca_original[1])\n",
    "z = np.array(pca_original[2])\n",
    "\n",
    "ax.set_xlabel('Component 0')\n",
    "ax.set_ylabel('Component 1')\n",
    "ax.set_zlabel('Component 2')\n",
    "ax.set_title(\"Top 3 Component\")\n",
    "ax.scatter(x, y, z)\n",
    "pyplot.show()"
   ]
  },
  {
   "cell_type": "markdown",
   "metadata": {},
   "source": [
    "### 29) [M] Do the same outliers still stand out?"
   ]
  },
  {
   "cell_type": "markdown",
   "metadata": {},
   "source": [
    "Still no outliers..."
   ]
  },
  {
   "cell_type": "code",
   "execution_count": null,
   "metadata": {},
   "outputs": [],
   "source": []
  }
 ],
 "metadata": {
  "kernelspec": {
   "display_name": "Python 3",
   "language": "python",
   "name": "python3"
  },
  "language_info": {
   "codemirror_mode": {
    "name": "ipython",
    "version": 3
   },
   "file_extension": ".py",
   "mimetype": "text/x-python",
   "name": "python",
   "nbconvert_exporter": "python",
   "pygments_lexer": "ipython3",
   "version": "3.7.6"
  }
 },
 "nbformat": 4,
 "nbformat_minor": 4
}
