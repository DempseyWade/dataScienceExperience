{
 "cells": [
  {
   "cell_type": "markdown",
   "metadata": {},
   "source": [
    "### Lab 02 - numpy\n",
    "\n",
    "Name: Dempsey Wade\n",
    "\n",
    "Class: CSCI 349 - Intro to Data Mining\n",
    "\n",
    "Semester: 2019SP\n",
    "\n",
    "Instructor: Brian King"
   ]
  },
  {
   "cell_type": "markdown",
   "metadata": {},
   "source": [
    "### 1 Create an 52500 x 75 matrix of zeros, stored as X. Then print out the shape of the matrix, the base data type, the total size of the array in bytes (as an integer), and the total size in megabytes with 3 places of significance."
   ]
  },
  {
   "cell_type": "code",
   "execution_count": 1,
   "metadata": {},
   "outputs": [
    {
     "name": "stdout",
     "output_type": "stream",
     "text": [
      "(52500, 75)\n",
      "float64\n",
      "3937500\n",
      "31500000\n"
     ]
    }
   ],
   "source": [
    "import numpy as np\n",
    "x = np.zeros((52500,75))\n",
    "print(x.shape)\n",
    "print(x.dtype)\n",
    "print(x.size)\n",
    "print((x.size * x.itemsize))"
   ]
  },
  {
   "cell_type": "markdown",
   "metadata": {},
   "source": [
    "### 2 Resize X to have the same number of elements, but with 100 rows. Show the shape. Show the number of bytes (it should be the same as the previous answer)"
   ]
  },
  {
   "cell_type": "code",
   "execution_count": 2,
   "metadata": {},
   "outputs": [
    {
     "name": "stdout",
     "output_type": "stream",
     "text": [
      "(52500, 75)\n",
      "float64\n",
      "3937500\n",
      "31500000\n"
     ]
    }
   ],
   "source": [
    "np.resize(x, (100, 39375))\n",
    "print(x.shape)\n",
    "print(x.dtype)\n",
    "print(x.size)\n",
    "print((x.size * x.itemsize))"
   ]
  },
  {
   "cell_type": "markdown",
   "metadata": {},
   "source": [
    "### 3 Redo #1, but use a base datatype of 16-bit integers."
   ]
  },
  {
   "cell_type": "code",
   "execution_count": 3,
   "metadata": {},
   "outputs": [
    {
     "name": "stdout",
     "output_type": "stream",
     "text": [
      "(52500, 75)\n",
      "int16\n",
      "3937500\n",
      "7875000\n"
     ]
    }
   ],
   "source": [
    "x = np.zeros((52500, 75), dtype = np.int16)\n",
    "print(x.shape)\n",
    "print(x.dtype)\n",
    "print(x.size)\n",
    "print((x.size * x.itemsize))"
   ]
  },
  {
   "cell_type": "markdown",
   "metadata": {},
   "source": [
    "### 4 How many dimensions does X have? Answer using the appropriate property of np.ndarray objects."
   ]
  },
  {
   "cell_type": "code",
   "execution_count": 4,
   "metadata": {},
   "outputs": [
    {
     "name": "stdout",
     "output_type": "stream",
     "text": [
      "2\n"
     ]
    }
   ],
   "source": [
    "print(x.ndim)"
   ]
  },
  {
   "cell_type": "markdown",
   "metadata": {},
   "source": [
    "### 5 Enter the following list in your cell:"
   ]
  },
  {
   "cell_type": "code",
   "execution_count": 5,
   "metadata": {},
   "outputs": [
    {
     "name": "stdout",
     "output_type": "stream",
     "text": [
      "['2.14' '-9.3' '42']\n"
     ]
    }
   ],
   "source": [
    "str_nums = ['2.14', '-9.3', '42']\n",
    "x = np.asarray(str_nums)\n",
    "x.astype(float)\n",
    "print(x)\n",
    "\n",
    "days = [\"Mon\",\"Tue\",\"Wed\",\"Thu\",\"Fri\"] \n",
    "scores_1 = [9.5, 8.75, 8, 10, 7.75] \n",
    "scores_2 = [9, 8, 10, 8.75, 7.25]"
   ]
  },
  {
   "cell_type": "markdown",
   "metadata": {},
   "source": [
    "### 6 Create a numpy array called scores, that has scores_1 as the first row and scores_2 as the second row, using np.concatenate. Then, change days into a np.array from the list days. Verify the shape of scores and days."
   ]
  },
  {
   "cell_type": "code",
   "execution_count": 6,
   "metadata": {},
   "outputs": [
    {
     "name": "stdout",
     "output_type": "stream",
     "text": [
      "[ 9.5   8.75  8.   10.    7.75  9.    8.   10.    8.75  7.25]\n",
      "(10,)\n",
      "['Mon' 'Tue' 'Wed' 'Thu' 'Fri']\n",
      "(5,)\n"
     ]
    }
   ],
   "source": [
    "scores = np.asarray\n",
    "scores = np.concatenate((scores_1, scores_2))\n",
    "print(scores)\n",
    "print(scores.shape)\n",
    "days = np.array((days))\n",
    "print(days)\n",
    "print(days.shape)"
   ]
  },
  {
   "cell_type": "markdown",
   "metadata": {},
   "source": [
    "### 7 Repeat the previous problem, but repeat it with np.vstack. The array should be identical."
   ]
  },
  {
   "cell_type": "code",
   "execution_count": 7,
   "metadata": {},
   "outputs": [
    {
     "name": "stdout",
     "output_type": "stream",
     "text": [
      "[[ 9.5   8.75  8.   10.    7.75]\n",
      " [ 9.    8.   10.    8.75  7.25]]\n"
     ]
    }
   ],
   "source": [
    "scores = np.vstack((scores_1,scores_2))\n",
    "print(scores)"
   ]
  },
  {
   "cell_type": "markdown",
   "metadata": {},
   "source": [
    "### 8 Compare the result of the expression days == \"Fri\" if the variable days was a Python list, vs. days being a numpy array. What is the difference? Ingeneral, how does numpy deal with standard comparison operators?\n",
    "\n",
    "Numpy gives you the elements in the array that are equal to \"Fri\". In normal python, you would just get a 'False' output. "
   ]
  },
  {
   "cell_type": "code",
   "execution_count": 8,
   "metadata": {},
   "outputs": [
    {
     "name": "stdout",
     "output_type": "stream",
     "text": [
      "[False False False False  True]\n"
     ]
    }
   ],
   "source": [
    "print(days == \"Fri\")"
   ]
  },
  {
   "cell_type": "markdown",
   "metadata": {},
   "source": [
    "### 9 Select the scores that fell on Monday"
   ]
  },
  {
   "cell_type": "code",
   "execution_count": 9,
   "metadata": {},
   "outputs": [
    {
     "name": "stdout",
     "output_type": "stream",
     "text": [
      "[[9.5]\n",
      " [9. ]]\n"
     ]
    }
   ],
   "source": [
    "print(scores[..., days == \"Mon\"])"
   ]
  },
  {
   "cell_type": "markdown",
   "metadata": {},
   "source": [
    "### 10 Select all of the scores that are NOT on Monday (Hint–look up the ~ operator)"
   ]
  },
  {
   "cell_type": "code",
   "execution_count": 10,
   "metadata": {},
   "outputs": [
    {
     "name": "stdout",
     "output_type": "stream",
     "text": [
      "[[ 8.75  8.   10.    7.75]\n",
      " [ 8.   10.    8.75  7.25]]\n"
     ]
    }
   ],
   "source": [
    "print(scores[..., days != \"Mon\"])"
   ]
  },
  {
   "cell_type": "markdown",
   "metadata": {},
   "source": [
    "### 11  Select the scores that were on Tuesday or Thursday"
   ]
  },
  {
   "cell_type": "code",
   "execution_count": 11,
   "metadata": {},
   "outputs": [
    {
     "name": "stdout",
     "output_type": "stream",
     "text": [
      "[[ 8.75 10.  ]\n",
      " [ 8.    8.75]]\n"
     ]
    }
   ],
   "source": [
    "print(scores[..., (days == \"Tue\") | (days == \"Thu\")])"
   ]
  },
  {
   "cell_type": "markdown",
   "metadata": {},
   "source": [
    "### 12 Show the minimum and maximum scores for the entire array of scores"
   ]
  },
  {
   "cell_type": "code",
   "execution_count": 12,
   "metadata": {},
   "outputs": [
    {
     "name": "stdout",
     "output_type": "stream",
     "text": [
      "7.25\n",
      "10.0\n"
     ]
    }
   ],
   "source": [
    "print(np.amin(scores))\n",
    "print(np.amax(scores))"
   ]
  },
  {
   "cell_type": "markdown",
   "metadata": {},
   "source": [
    "### 13  Show the minimum scores for each week as a new array with the same dimensions (hint – use the keepdims parameter). Your result should be something like:"
   ]
  },
  {
   "cell_type": "code",
   "execution_count": 13,
   "metadata": {},
   "outputs": [
    {
     "name": "stdout",
     "output_type": "stream",
     "text": [
      "[[9.   8.   8.   8.75 7.25]]\n"
     ]
    }
   ],
   "source": [
    "print(np.amin(scores, axis = 0, keepdims=True))"
   ]
  },
  {
   "cell_type": "markdown",
   "metadata": {},
   "source": [
    "### 14 Report the day that the maximum score occurred each week.(HINT: use argmax and use that result to index days.)"
   ]
  },
  {
   "cell_type": "code",
   "execution_count": 14,
   "metadata": {},
   "outputs": [
    {
     "name": "stdout",
     "output_type": "stream",
     "text": [
      "Thu\n",
      "Wed\n"
     ]
    }
   ],
   "source": [
    "print(days[np.argmax(scores[0])])\n",
    "print(days[np.argmax(scores[1])])"
   ]
  },
  {
   "cell_type": "markdown",
   "metadata": {},
   "source": [
    "### 15 Report the mean of the scores of each week"
   ]
  },
  {
   "cell_type": "code",
   "execution_count": 15,
   "metadata": {},
   "outputs": [
    {
     "name": "stdout",
     "output_type": "stream",
     "text": [
      "8.8\n",
      "8.6\n"
     ]
    }
   ],
   "source": [
    "print(np.mean(scores[0]))\n",
    "print(np.mean(scores[1]))"
   ]
  },
  {
   "cell_type": "markdown",
   "metadata": {},
   "source": [
    "### 16 Suppose the lowest score was dropped from each week. Report the mean of each week, but without the minimum score for that week."
   ]
  },
  {
   "cell_type": "code",
   "execution_count": 16,
   "metadata": {},
   "outputs": [
    {
     "name": "stdout",
     "output_type": "stream",
     "text": [
      "[9.0625 8.9375]\n"
     ]
    }
   ],
   "source": [
    "means = scores.mean(axis = 1)\n",
    "print((means*days.size - scores.min(1))/(days.size-1))"
   ]
  },
  {
   "cell_type": "markdown",
   "metadata": {},
   "source": [
    "### 17 Convert the scores to fall on a scale from 0-100 instead of 0-10."
   ]
  },
  {
   "cell_type": "code",
   "execution_count": 17,
   "metadata": {},
   "outputs": [
    {
     "name": "stdout",
     "output_type": "stream",
     "text": [
      "[[ 95.   87.5  80.  100.   77.5]\n",
      " [ 90.   80.  100.   87.5  72.5]]\n"
     ]
    }
   ],
   "source": [
    "scores = scores*10\n",
    "print(scores)"
   ]
  },
  {
   "cell_type": "code",
   "execution_count": 18,
   "metadata": {},
   "outputs": [
    {
     "name": "stdout",
     "output_type": "stream",
     "text": [
      "[[48 84 39 54 77]\n",
      " [25 16 50 24 27]\n",
      " [31 44 31 27 59]\n",
      " [93 70 81 74 48]\n",
      " [51 77 38 35 39]\n",
      " [68 12  1 76 81]\n",
      " [ 4  3 20 13 66]\n",
      " [76 82 15 72 61]\n",
      " [47 29 82 88 14]\n",
      " [97 13 70 96 32]]\n"
     ]
    }
   ],
   "source": [
    "np.random.seed(1234)\n",
    "X = np.random.randint(1,100,50).reshape((10,5))\n",
    "print(X)"
   ]
  },
  {
   "cell_type": "markdown",
   "metadata": {},
   "source": [
    "### 18 Select the first row of X"
   ]
  },
  {
   "cell_type": "code",
   "execution_count": 19,
   "metadata": {},
   "outputs": [
    {
     "name": "stdout",
     "output_type": "stream",
     "text": [
      "[48 84 39 54 77]\n"
     ]
    }
   ],
   "source": [
    "print(X[0])"
   ]
  },
  {
   "cell_type": "markdown",
   "metadata": {},
   "source": [
    "### 19 Select the last column of X"
   ]
  },
  {
   "cell_type": "code",
   "execution_count": 20,
   "metadata": {},
   "outputs": [
    {
     "name": "stdout",
     "output_type": "stream",
     "text": [
      "[77 27 59 48 39 81 66 61 14 32]\n"
     ]
    }
   ],
   "source": [
    "print(X[:,-1])"
   ]
  },
  {
   "cell_type": "markdown",
   "metadata": {},
   "source": [
    "### 20 Select the first AND last column of X"
   ]
  },
  {
   "cell_type": "code",
   "execution_count": 21,
   "metadata": {},
   "outputs": [
    {
     "name": "stdout",
     "output_type": "stream",
     "text": [
      "[[48 77]\n",
      " [25 27]\n",
      " [31 59]\n",
      " [93 48]\n",
      " [51 39]\n",
      " [68 81]\n",
      " [ 4 66]\n",
      " [76 61]\n",
      " [47 14]\n",
      " [97 32]]\n"
     ]
    }
   ],
   "source": [
    "print(X[:,[0,-1]])"
   ]
  },
  {
   "cell_type": "markdown",
   "metadata": {},
   "source": [
    "### 21 Select every other row of X"
   ]
  },
  {
   "cell_type": "code",
   "execution_count": 22,
   "metadata": {},
   "outputs": [
    {
     "name": "stdout",
     "output_type": "stream",
     "text": [
      "[[48 84 39 54 77]\n",
      " [31 44 31 27 59]\n",
      " [51 77 38 35 39]\n",
      " [ 4  3 20 13 66]\n",
      " [47 29 82 88 14]]\n"
     ]
    }
   ],
   "source": [
    "print(X[::2])"
   ]
  },
  {
   "cell_type": "markdown",
   "metadata": {},
   "source": [
    "### 22 Show the transpose of X, but don't change X itself"
   ]
  },
  {
   "cell_type": "code",
   "execution_count": 23,
   "metadata": {},
   "outputs": [
    {
     "name": "stdout",
     "output_type": "stream",
     "text": [
      "[[48 25 31 93 51 68  4 76 47 97]\n",
      " [84 16 44 70 77 12  3 82 29 13]\n",
      " [39 50 31 81 38  1 20 15 82 70]\n",
      " [54 24 27 74 35 76 13 72 88 96]\n",
      " [77 27 59 48 39 81 66 61 14 32]]\n"
     ]
    }
   ],
   "source": [
    "print(np.transpose(X))"
   ]
  },
  {
   "cell_type": "markdown",
   "metadata": {},
   "source": [
    "### 23 Select the first column of X and set the result to Y."
   ]
  },
  {
   "cell_type": "code",
   "execution_count": 24,
   "metadata": {},
   "outputs": [
    {
     "name": "stdout",
     "output_type": "stream",
     "text": [
      "[48 25 31 93 51 68  4 76 47 97]\n"
     ]
    }
   ],
   "source": [
    "Y = np.array\n",
    "Y = np.copy(X[:,0])\n",
    "print(Y)"
   ]
  },
  {
   "cell_type": "markdown",
   "metadata": {},
   "source": [
    "### 24 Increment the first value of Y, then show the corresponding value of X. Did both values in X and Y change?"
   ]
  },
  {
   "cell_type": "markdown",
   "metadata": {},
   "source": [
    "Yes both values changed in my first solution. I have since fixed it. "
   ]
  },
  {
   "cell_type": "code",
   "execution_count": 25,
   "metadata": {},
   "outputs": [
    {
     "name": "stdout",
     "output_type": "stream",
     "text": [
      "[49 25 31 93 51 68  4 76 47 97]\n",
      "[48 25 31 93 51 68  4 76 47 97]\n"
     ]
    }
   ],
   "source": [
    "Y[0] += 1\n",
    "print(Y)\n",
    "print(X[:,0])"
   ]
  },
  {
   "cell_type": "markdown",
   "metadata": {},
   "source": [
    "### 25 Repeat exercise 23, but ensure that Y is assigned a copy of the selected data. Increment the first value of Y and ensure that the corresponding value of X did not change.\n"
   ]
  },
  {
   "cell_type": "markdown",
   "metadata": {},
   "source": [
    "As seen above, my value for X did not change while by first value of Y increased by 1. I did it correctly above."
   ]
  },
  {
   "cell_type": "markdown",
   "metadata": {},
   "source": [
    "### 26 Create an array that contains the sequence of numbers 0, 0.1 ,0.2 , ... 9.8 , 9.9 using arange, as a 10x10 matrix, stored as X."
   ]
  },
  {
   "cell_type": "code",
   "execution_count": 26,
   "metadata": {},
   "outputs": [
    {
     "name": "stdout",
     "output_type": "stream",
     "text": [
      "[[0.  0.1 0.2 0.3 0.4 0.5 0.6 0.7 0.8 0.9]\n",
      " [1.  1.1 1.2 1.3 1.4 1.5 1.6 1.7 1.8 1.9]\n",
      " [2.  2.1 2.2 2.3 2.4 2.5 2.6 2.7 2.8 2.9]\n",
      " [3.  3.1 3.2 3.3 3.4 3.5 3.6 3.7 3.8 3.9]\n",
      " [4.  4.1 4.2 4.3 4.4 4.5 4.6 4.7 4.8 4.9]\n",
      " [5.  5.1 5.2 5.3 5.4 5.5 5.6 5.7 5.8 5.9]\n",
      " [6.  6.1 6.2 6.3 6.4 6.5 6.6 6.7 6.8 6.9]\n",
      " [7.  7.1 7.2 7.3 7.4 7.5 7.6 7.7 7.8 7.9]\n",
      " [8.  8.1 8.2 8.3 8.4 8.5 8.6 8.7 8.8 8.9]\n",
      " [9.  9.1 9.2 9.3 9.4 9.5 9.6 9.7 9.8 9.9]]\n"
     ]
    }
   ],
   "source": [
    "X = np.arange(0.0, 10.0, .1).reshape(10, 10)\n",
    "\n",
    "print(X)"
   ]
  },
  {
   "cell_type": "markdown",
   "metadata": {},
   "source": [
    "### 27 Set the RNG seed to 1234. Then create an array X of uniformly distributed data, with all values between 1.0 and 10.0. Then, show the mean, the median, the minimum and maximum values of X."
   ]
  },
  {
   "cell_type": "code",
   "execution_count": 27,
   "metadata": {},
   "outputs": [
    {
     "name": "stdout",
     "output_type": "stream",
     "text": [
      "[2.72367505 6.59897894 4.93954965 8.06822725 8.01978227 3.45333345\n",
      " 3.4881783  8.2168496  9.62325418 8.88339371 4.22035543 5.50895613\n",
      " 7.15116642 7.41431824 4.33225679 6.05076567 5.52774849 1.12391605\n",
      " 7.95543959 8.94377072 4.28397386 6.53856561 1.67843117 4.31941605\n",
      " 9.39826092 6.86240329 4.5748232  8.09857129 3.8515251  6.11288787\n",
      " 8.82214651 4.92556082 8.21932878 2.29390142 7.33834874 7.34123177\n",
      " 2.96912895 9.32380866 4.9792668  9.18384363 1.53828301 2.65858375\n",
      " 1.42619751 7.07392849 6.35162302 5.79979147 1.38991656 6.05289772\n",
      " 3.96701601 5.5267015  2.00704886 6.46474336 6.09350179 1.06087656\n",
      " 6.55697538 9.20910598 8.1147172  9.9287332  9.62921586 8.12767722\n",
      " 3.56725864 6.62425035 5.30284416 2.76107661 4.44085707 1.48486317\n",
      " 5.06483567 9.83804267 2.1154843  2.07442808 7.64670751 6.2857327\n",
      " 5.24469281 1.96414135 3.06296709 9.09968675 4.75078184 5.82266496\n",
      " 1.05587665 3.70577535 4.93203855 6.50934097 9.26378268 6.63163003\n",
      " 7.35397809 2.34850344 7.71457068 8.47906293 6.70353192 4.94478893\n",
      " 2.37315497 6.11568654 5.7540185  9.56285887 5.32323261 5.52303607\n",
      " 5.83190374 8.3728186  1.51404074 7.02479569]\n",
      "Mean:  5.665266170909222\n",
      "Median:  5.827284349552116\n",
      "Min:  1.0558766492841647\n",
      "Max:  9.928733195695253\n"
     ]
    }
   ],
   "source": [
    "np.random.seed(1234)\n",
    "X = np.random.uniform(1.0, 10.0, 100) \n",
    "# Don't know large to make it, so i made it have 100 elements so I \n",
    "# could still print it \n",
    "print(X)\n",
    "\n",
    "print(\"Mean: \", np.mean(X))\n",
    "print(\"Median: \", np.median(X))\n",
    "print(\"Min: \", np.amin(X))\n",
    "print(\"Max: \", np.amax(X))\n"
   ]
  },
  {
   "cell_type": "markdown",
   "metadata": {},
   "source": [
    "### 28 [M] Define what is meant by a normal distribution. What are the parameters of a normal distribution?"
   ]
  },
  {
   "cell_type": "markdown",
   "metadata": {},
   "source": [
    "Normal distribution is when data is represented as a \"bell curve\" that can show probabilities and outliers. \n",
    "The parameters are the mean and standard deviation. "
   ]
  },
  {
   "cell_type": "markdown",
   "metadata": {},
   "source": [
    "### 29 [M] In simple terms, using a normal distribution, what does the Law of Large Numbers tell us?"
   ]
  },
  {
   "cell_type": "markdown",
   "metadata": {},
   "source": [
    "Simply, if you run an experiment a large number of times, your experimental outcome should be very close to the true outcome. "
   ]
  },
  {
   "cell_type": "markdown",
   "metadata": {},
   "source": [
    "### 30 Write a function called test_normal_dist. The purpose of this function is to evaluate the law of large numbers. It should have four parameters:"
   ]
  },
  {
   "cell_type": "code",
   "execution_count": 28,
   "metadata": {},
   "outputs": [],
   "source": [
    "def test_normal_dist(mu, sd, vec_length, num_trials):\n",
    "    sums = 0\n",
    "    np.random.seed(1234)\n",
    "    for i in range(num_trials):\n",
    "        s = np.random.normal(mu, sd, vec_length)\n",
    "        mean = s.mean()\n",
    "        deviation = abs(mean-mu)\n",
    "        sums += deviation\n",
    "    return (sums/num_trials)\n",
    "    \n"
   ]
  },
  {
   "cell_type": "markdown",
   "metadata": {},
   "source": [
    "### 31 Use test_normal_dist to obtain the deviation for vector lengths of 10, 100, 1000, 10000, and 100000. Use a fixed number of trials of 100 for each experiment. Report the results as a numpy array with two dimensions. the first being the vector length, and the second being the average deviation resulting from your test_normal_dist function."
   ]
  },
  {
   "cell_type": "code",
   "execution_count": 29,
   "metadata": {},
   "outputs": [
    {
     "data": {
      "text/plain": [
       "[[10, 7.158612553329618],\n",
       " [100, 2.428875978896355],\n",
       " [1000, 0.6687000204893795],\n",
       " [10000, 0.23832582733933094],\n",
       " [100000, 0.0733051829579181]]"
      ]
     },
     "execution_count": 29,
     "metadata": {},
     "output_type": "execute_result"
    }
   ],
   "source": [
    "\n",
    "vec_lengths = [10, 100, 1000, 10000, 100000]\n",
    "out = []\n",
    "for n in vec_lengths:\n",
    "    d = test_normal_dist(8, 30, n, 100)\n",
    "    out.append([n, d])\n",
    "out"
   ]
  },
  {
   "cell_type": "code",
   "execution_count": null,
   "metadata": {},
   "outputs": [],
   "source": []
  }
 ],
 "metadata": {
  "kernelspec": {
   "display_name": "Python 3",
   "language": "python",
   "name": "python3"
  },
  "language_info": {
   "codemirror_mode": {
    "name": "ipython",
    "version": 3
   },
   "file_extension": ".py",
   "mimetype": "text/x-python",
   "name": "python",
   "nbconvert_exporter": "python",
   "pygments_lexer": "ipython3",
   "version": "3.7.6"
  }
 },
 "nbformat": 4,
 "nbformat_minor": 4
}
