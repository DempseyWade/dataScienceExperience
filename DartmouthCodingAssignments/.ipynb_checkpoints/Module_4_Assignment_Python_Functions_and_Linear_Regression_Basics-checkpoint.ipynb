{
 "cells": [
  {
   "cell_type": "markdown",
   "metadata": {},
   "source": [
    "## Dempsey Wade"
   ]
  },
  {
   "cell_type": "markdown",
   "metadata": {
    "deletable": false,
    "editable": false,
    "nbgrader": {
     "grade": false,
     "locked": true,
     "solution": false
    },
    "tags": []
   },
   "source": [
    "# Module 4 - Python Functions and Linear Regression Basics\n",
    "\n",
    "**_Author: Favio Vázquez and Jessica Cervi_**\n",
    "\n",
    "### Index:\n",
    "\n",
    "- [Question 1](#Question-1)\n",
    "- [Question 2](#Question-2)\n",
    "- [Question 3](#Question-3)\n",
    "- [Question 4](#Question-4)\n",
    "- [Question 5](#Question-5)\n",
    "- [Question 6](#Question-6)\n",
    "- [Question 7](#Question-7)\n",
    "- [Question 8](#Question-8)\n",
    "- [Question 9](#Question-9)\n",
    "- [Question 10](#Question-10)\n",
    "- [Question 11](#Question-11)\n",
    "- [Question 12](#Question-12)\n",
    "- [Question 13](#Question-13)\n",
    "\n",
    "### Instructions:\n",
    "\n",
    "Welcome to Module 4. In this module, you learned about how to define Python functions and the basics of linear regression. We will practice linear regression with two libraries: `statsmodel` and `scikit-learn`. \n",
    "\n",
    "Make sure to watch the coding demos before doing the assigment!"
   ]
  },
  {
   "cell_type": "markdown",
   "metadata": {
    "deletable": false,
    "editable": false,
    "nbgrader": {
     "grade": false,
     "locked": true,
     "solution": false
    }
   },
   "source": [
    "## Importing the libraries\n",
    "\n",
    "#### Before getting started, make sure that you can run the cell below with no issues. We will be importing all the libraries to work on this assigment."
   ]
  },
  {
   "cell_type": "code",
   "execution_count": 1,
   "metadata": {
    "deletable": false,
    "editable": false,
    "nbgrader": {
     "grade": false,
     "locked": true,
     "solution": false
    }
   },
   "outputs": [],
   "source": [
    "import numpy as np \n",
    "import pandas as pd\n",
    "import statsmodels.api as sm\n",
    "from sklearn import linear_model\n",
    "from sklearn import metrics"
   ]
  },
  {
   "cell_type": "markdown",
   "metadata": {
    "deletable": false,
    "editable": false,
    "nbgrader": {
     "grade": false,
     "locked": true,
     "solution": false
    }
   },
   "source": [
    "## Part 1. Python Functions\n",
    "\n",
    "## Question 1\n",
    "\n",
    "Create a simple Python function called `Hello_world` that returns the String `\"Hello World!\"`."
   ]
  },
  {
   "cell_type": "code",
   "execution_count": 2,
   "metadata": {},
   "outputs": [],
   "source": [
    "### GRADED\n",
    "### YOUR SOLUTION HERE\n",
    "def Hello_world():\n",
    "    return \"Hello World!\"\n",
    "\n",
    "###\n",
    "### YOUR CODE HERE\n",
    "###\n"
   ]
  },
  {
   "cell_type": "code",
   "execution_count": 3,
   "metadata": {
    "deletable": false,
    "editable": false,
    "nbgrader": {
     "grade": true,
     "grade_id": "Question 01",
     "locked": true,
     "points": "5",
     "solution": false
    }
   },
   "outputs": [],
   "source": [
    "###\n",
    "### AUTOGRADER TEST - DO NOT REMOVE\n",
    "###\n"
   ]
  },
  {
   "cell_type": "markdown",
   "metadata": {
    "deletable": false,
    "editable": false,
    "nbgrader": {
     "grade": false,
     "locked": true,
     "solution": false
    }
   },
   "source": [
    "## Question 2\n",
    "\n",
    "Assign the integer 5 to a variable called `x` and the integer 3 to a variable called `y`. Create a  Python function called `plus` that takes two numbers as arguments and returns the sum of them. Use the function with `x` and `y` and assign the result to a variable called `total`."
   ]
  },
  {
   "cell_type": "code",
   "execution_count": 4,
   "metadata": {
    "nbgrader": {
     "grade": false,
     "locked": false,
     "solution": false
    }
   },
   "outputs": [
    {
     "name": "stdout",
     "output_type": "stream",
     "text": [
      "8\n"
     ]
    }
   ],
   "source": [
    "### GRADED\n",
    "### YOUR SOLUTION HERE\n",
    "x = 5\n",
    "y = 3\n",
    "def plus(x, y):\n",
    "    total = x+y\n",
    "    return total\n",
    "total = plus(x,y)\n",
    "print(total)\n",
    "###\n",
    "### YOUR CODE HERE\n",
    "###\n"
   ]
  },
  {
   "cell_type": "code",
   "execution_count": 5,
   "metadata": {
    "deletable": false,
    "editable": false,
    "nbgrader": {
     "grade": true,
     "grade_id": "Question 02",
     "locked": true,
     "points": "5",
     "solution": false
    }
   },
   "outputs": [],
   "source": [
    "###\n",
    "### AUTOGRADER TEST - DO NOT REMOVE\n",
    "###\n"
   ]
  },
  {
   "cell_type": "markdown",
   "metadata": {
    "deletable": false,
    "editable": false,
    "nbgrader": {
     "grade": false,
     "locked": true,
     "solution": false
    }
   },
   "source": [
    "## Question 3\n",
    "\n",
    "Create a  Python function called `plus_args` that takes a variable number of arguments and returns the sum of them. Then call the function to sum the numbers `1,4,2,7` and assign the result to a variable called `sum_total`."
   ]
  },
  {
   "cell_type": "code",
   "execution_count": 6,
   "metadata": {},
   "outputs": [
    {
     "name": "stdout",
     "output_type": "stream",
     "text": [
      "(1, 2, 3)\n"
     ]
    }
   ],
   "source": [
    "def test(*args):\n",
    "    print(args)\n",
    "\n",
    "test(1,2,3)"
   ]
  },
  {
   "cell_type": "code",
   "execution_count": 7,
   "metadata": {},
   "outputs": [
    {
     "name": "stdout",
     "output_type": "stream",
     "text": [
      "14\n"
     ]
    }
   ],
   "source": [
    "### GRADED\n",
    "### YOUR SOLUTION HERE\n",
    "def plus_args(*args): #use arterics args and it makes it a tuple\n",
    "    total = 0\n",
    "    for i in args:\n",
    "        total += i\n",
    "    return total\n",
    "\n",
    "sum_total = plus_args(1,4,2,7)\n",
    "print(sum_total)\n",
    "\n",
    "###\n",
    "### YOUR CODE HERE\n",
    "###\n"
   ]
  },
  {
   "cell_type": "code",
   "execution_count": 8,
   "metadata": {
    "deletable": false,
    "editable": false,
    "nbgrader": {
     "grade": true,
     "grade_id": "Question 03",
     "locked": true,
     "points": "10",
     "solution": false
    }
   },
   "outputs": [],
   "source": [
    "###\n",
    "### AUTOGRADER TEST - DO NOT REMOVE\n",
    "###\n"
   ]
  },
  {
   "cell_type": "markdown",
   "metadata": {
    "deletable": false,
    "editable": false,
    "nbgrader": {
     "grade": false,
     "locked": true,
     "solution": false
    }
   },
   "source": [
    "## Question 4\n",
    "\n",
    "Define a lambda function called `add_one` that adds `1` to a variable `x`. Use this function to add 1 to 89 and assign the result to the variable `y`."
   ]
  },
  {
   "cell_type": "code",
   "execution_count": 9,
   "metadata": {},
   "outputs": [
    {
     "data": {
      "text/plain": [
       "4"
      ]
     },
     "execution_count": 9,
     "metadata": {},
     "output_type": "execute_result"
    }
   ],
   "source": [
    "(lambda x: x+2)(2)"
   ]
  },
  {
   "cell_type": "code",
   "execution_count": 10,
   "metadata": {},
   "outputs": [
    {
     "name": "stdout",
     "output_type": "stream",
     "text": [
      "90\n"
     ]
    }
   ],
   "source": [
    "### GRADED\n",
    "### YOUR SOLUTION HERE\n",
    "add_one = lambda x:x+1\n",
    "y = add_one(89)\n",
    "print(y)\n",
    "###\n",
    "### YOUR CODE HERE\n",
    "###\n"
   ]
  },
  {
   "cell_type": "code",
   "execution_count": 11,
   "metadata": {
    "deletable": false,
    "editable": false,
    "nbgrader": {
     "grade": true,
     "grade_id": "Question 04",
     "locked": true,
     "points": "5",
     "solution": false
    }
   },
   "outputs": [],
   "source": [
    "###\n",
    "### AUTOGRADER TEST - DO NOT REMOVE\n",
    "###\n"
   ]
  },
  {
   "cell_type": "markdown",
   "metadata": {
    "deletable": false,
    "editable": false,
    "nbgrader": {
     "grade": false,
     "locked": true,
     "solution": false
    }
   },
   "source": [
    "## Part 2. Linear Regression\n",
    "\n",
    "## Question 5\n",
    "\n",
    "Using only the statsmodel library, read the file `data/data.csv` and assign to a Pandas dataframe called `bikes`. Perform a simple linear regression using the variable `temp` to predict the variable `count`. Save your **fitted model** in a variable called `count_model`.\n",
    "\n",
    "**Hint**: Remember to add a constant that will work as the Bias or Y-intercept. Use the `sm.OLS()` method."
   ]
  },
  {
   "cell_type": "markdown",
   "metadata": {},
   "source": [
    "When you create an x variable you need to also add \n",
    "a constant\n",
    "\n",
    "X = bikes['columns']\n",
    "X = sm.add_constant(X)\n",
    "#y = ... Check!\n",
    "\n",
    "Check which arguments are passed!\n",
    "count_model = sm.OLS(ARGUMENTS).fit() \n"
   ]
  },
  {
   "cell_type": "markdown",
   "metadata": {
    "deletable": false,
    "editable": false,
    "nbgrader": {
     "grade": false,
     "locked": true,
     "solution": false
    },
    "tags": []
   },
   "source": [
    "### Run this cell to load the dataset\n",
    "bikes = pd.read_csv(\"data/data.csv\")\n",
    "bikes.head(1)"
   ]
  },
  {
   "cell_type": "code",
   "execution_count": 12,
   "metadata": {},
   "outputs": [
    {
     "data": {
      "text/html": [
       "<div>\n",
       "<style scoped>\n",
       "    .dataframe tbody tr th:only-of-type {\n",
       "        vertical-align: middle;\n",
       "    }\n",
       "\n",
       "    .dataframe tbody tr th {\n",
       "        vertical-align: top;\n",
       "    }\n",
       "\n",
       "    .dataframe thead th {\n",
       "        text-align: right;\n",
       "    }\n",
       "</style>\n",
       "<table border=\"1\" class=\"dataframe\">\n",
       "  <thead>\n",
       "    <tr style=\"text-align: right;\">\n",
       "      <th></th>\n",
       "      <th>datetime</th>\n",
       "      <th>season</th>\n",
       "      <th>holiday</th>\n",
       "      <th>workingday</th>\n",
       "      <th>weather</th>\n",
       "      <th>temp</th>\n",
       "      <th>atemp</th>\n",
       "      <th>humidity</th>\n",
       "      <th>windspeed</th>\n",
       "      <th>casual</th>\n",
       "      <th>registered</th>\n",
       "      <th>count</th>\n",
       "      <th>hour</th>\n",
       "      <th>year</th>\n",
       "      <th>month</th>\n",
       "      <th>weather_label</th>\n",
       "    </tr>\n",
       "  </thead>\n",
       "  <tbody>\n",
       "    <tr>\n",
       "      <th>0</th>\n",
       "      <td>2011-01-01 00:00:00</td>\n",
       "      <td>1</td>\n",
       "      <td>0</td>\n",
       "      <td>0</td>\n",
       "      <td>1</td>\n",
       "      <td>9.843750</td>\n",
       "      <td>14.398438</td>\n",
       "      <td>81</td>\n",
       "      <td>0.0</td>\n",
       "      <td>3</td>\n",
       "      <td>13</td>\n",
       "      <td>16</td>\n",
       "      <td>0</td>\n",
       "      <td>2011</td>\n",
       "      <td>1</td>\n",
       "      <td>Clear</td>\n",
       "    </tr>\n",
       "    <tr>\n",
       "      <th>1</th>\n",
       "      <td>2011-01-01 01:00:00</td>\n",
       "      <td>1</td>\n",
       "      <td>0</td>\n",
       "      <td>0</td>\n",
       "      <td>1</td>\n",
       "      <td>9.023438</td>\n",
       "      <td>13.632812</td>\n",
       "      <td>80</td>\n",
       "      <td>0.0</td>\n",
       "      <td>8</td>\n",
       "      <td>32</td>\n",
       "      <td>40</td>\n",
       "      <td>1</td>\n",
       "      <td>2011</td>\n",
       "      <td>1</td>\n",
       "      <td>Clear</td>\n",
       "    </tr>\n",
       "    <tr>\n",
       "      <th>2</th>\n",
       "      <td>2011-01-01 02:00:00</td>\n",
       "      <td>1</td>\n",
       "      <td>0</td>\n",
       "      <td>0</td>\n",
       "      <td>1</td>\n",
       "      <td>9.023438</td>\n",
       "      <td>13.632812</td>\n",
       "      <td>80</td>\n",
       "      <td>0.0</td>\n",
       "      <td>5</td>\n",
       "      <td>27</td>\n",
       "      <td>32</td>\n",
       "      <td>2</td>\n",
       "      <td>2011</td>\n",
       "      <td>1</td>\n",
       "      <td>Clear</td>\n",
       "    </tr>\n",
       "    <tr>\n",
       "      <th>3</th>\n",
       "      <td>2011-01-01 03:00:00</td>\n",
       "      <td>1</td>\n",
       "      <td>0</td>\n",
       "      <td>0</td>\n",
       "      <td>1</td>\n",
       "      <td>9.843750</td>\n",
       "      <td>14.398438</td>\n",
       "      <td>75</td>\n",
       "      <td>0.0</td>\n",
       "      <td>3</td>\n",
       "      <td>10</td>\n",
       "      <td>13</td>\n",
       "      <td>3</td>\n",
       "      <td>2011</td>\n",
       "      <td>1</td>\n",
       "      <td>Clear</td>\n",
       "    </tr>\n",
       "    <tr>\n",
       "      <th>4</th>\n",
       "      <td>2011-01-01 04:00:00</td>\n",
       "      <td>1</td>\n",
       "      <td>0</td>\n",
       "      <td>0</td>\n",
       "      <td>1</td>\n",
       "      <td>9.843750</td>\n",
       "      <td>14.398438</td>\n",
       "      <td>75</td>\n",
       "      <td>0.0</td>\n",
       "      <td>0</td>\n",
       "      <td>1</td>\n",
       "      <td>1</td>\n",
       "      <td>4</td>\n",
       "      <td>2011</td>\n",
       "      <td>1</td>\n",
       "      <td>Clear</td>\n",
       "    </tr>\n",
       "  </tbody>\n",
       "</table>\n",
       "</div>"
      ],
      "text/plain": [
       "              datetime  season  holiday  workingday  weather      temp  \\\n",
       "0  2011-01-01 00:00:00       1        0           0        1  9.843750   \n",
       "1  2011-01-01 01:00:00       1        0           0        1  9.023438   \n",
       "2  2011-01-01 02:00:00       1        0           0        1  9.023438   \n",
       "3  2011-01-01 03:00:00       1        0           0        1  9.843750   \n",
       "4  2011-01-01 04:00:00       1        0           0        1  9.843750   \n",
       "\n",
       "       atemp  humidity  windspeed  casual  registered  count  hour  year  \\\n",
       "0  14.398438        81        0.0       3          13     16     0  2011   \n",
       "1  13.632812        80        0.0       8          32     40     1  2011   \n",
       "2  13.632812        80        0.0       5          27     32     2  2011   \n",
       "3  14.398438        75        0.0       3          10     13     3  2011   \n",
       "4  14.398438        75        0.0       0           1      1     4  2011   \n",
       "\n",
       "   month weather_label  \n",
       "0      1         Clear  \n",
       "1      1         Clear  \n",
       "2      1         Clear  \n",
       "3      1         Clear  \n",
       "4      1         Clear  "
      ]
     },
     "execution_count": 12,
     "metadata": {},
     "output_type": "execute_result"
    }
   ],
   "source": [
    "### Run this cell to load the dataset\n",
    "bikes = pd.read_csv(\"/Users/dempseywade/Desktop/gitRepo/DartmouthCodingAssignments/data/Mod4_data.csv\")\n",
    "bikes.head(5)"
   ]
  },
  {
   "cell_type": "code",
   "execution_count": 13,
   "metadata": {},
   "outputs": [
    {
     "data": {
      "text/html": [
       "<table class=\"simpletable\">\n",
       "<caption>OLS Regression Results</caption>\n",
       "<tr>\n",
       "  <th>Dep. Variable:</th>          <td>count</td>      <th>  R-squared:         </th> <td>   0.156</td> \n",
       "</tr>\n",
       "<tr>\n",
       "  <th>Model:</th>                   <td>OLS</td>       <th>  Adj. R-squared:    </th> <td>   0.156</td> \n",
       "</tr>\n",
       "<tr>\n",
       "  <th>Method:</th>             <td>Least Squares</td>  <th>  F-statistic:       </th> <td>   2006.</td> \n",
       "</tr>\n",
       "<tr>\n",
       "  <th>Date:</th>             <td>Sun, 11 Aug 2024</td> <th>  Prob (F-statistic):</th>  <td>  0.00</td>  \n",
       "</tr>\n",
       "<tr>\n",
       "  <th>Time:</th>                 <td>19:39:01</td>     <th>  Log-Likelihood:    </th> <td> -71125.</td> \n",
       "</tr>\n",
       "<tr>\n",
       "  <th>No. Observations:</th>      <td> 10886</td>      <th>  AIC:               </th> <td>1.423e+05</td>\n",
       "</tr>\n",
       "<tr>\n",
       "  <th>Df Residuals:</th>          <td> 10884</td>      <th>  BIC:               </th> <td>1.423e+05</td>\n",
       "</tr>\n",
       "<tr>\n",
       "  <th>Df Model:</th>              <td>     1</td>      <th>                     </th>     <td> </td>    \n",
       "</tr>\n",
       "<tr>\n",
       "  <th>Covariance Type:</th>      <td>nonrobust</td>    <th>                     </th>     <td> </td>    \n",
       "</tr>\n",
       "</table>\n",
       "<table class=\"simpletable\">\n",
       "<tr>\n",
       "    <td></td>       <th>coef</th>     <th>std err</th>      <th>t</th>      <th>P>|t|</th>  <th>[0.025</th>    <th>0.975]</th>  \n",
       "</tr>\n",
       "<tr>\n",
       "  <th>const</th> <td>    6.0523</td> <td>    4.439</td> <td>    1.363</td> <td> 0.173</td> <td>   -2.649</td> <td>   14.754</td>\n",
       "</tr>\n",
       "<tr>\n",
       "  <th>temp</th>  <td>    9.1704</td> <td>    0.205</td> <td>   44.784</td> <td> 0.000</td> <td>    8.769</td> <td>    9.572</td>\n",
       "</tr>\n",
       "</table>\n",
       "<table class=\"simpletable\">\n",
       "<tr>\n",
       "  <th>Omnibus:</th>       <td>1871.808</td> <th>  Durbin-Watson:     </th> <td>   0.369</td>\n",
       "</tr>\n",
       "<tr>\n",
       "  <th>Prob(Omnibus):</th>  <td> 0.000</td>  <th>  Jarque-Bera (JB):  </th> <td>3222.277</td>\n",
       "</tr>\n",
       "<tr>\n",
       "  <th>Skew:</th>           <td> 1.123</td>  <th>  Prob(JB):          </th> <td>    0.00</td>\n",
       "</tr>\n",
       "<tr>\n",
       "  <th>Kurtosis:</th>       <td> 4.434</td>  <th>  Cond. No.          </th> <td>    60.4</td>\n",
       "</tr>\n",
       "</table><br/><br/>Notes:<br/>[1] Standard Errors assume that the covariance matrix of the errors is correctly specified."
      ],
      "text/plain": [
       "<class 'statsmodels.iolib.summary.Summary'>\n",
       "\"\"\"\n",
       "                            OLS Regression Results                            \n",
       "==============================================================================\n",
       "Dep. Variable:                  count   R-squared:                       0.156\n",
       "Model:                            OLS   Adj. R-squared:                  0.156\n",
       "Method:                 Least Squares   F-statistic:                     2006.\n",
       "Date:                Sun, 11 Aug 2024   Prob (F-statistic):               0.00\n",
       "Time:                        19:39:01   Log-Likelihood:                -71125.\n",
       "No. Observations:               10886   AIC:                         1.423e+05\n",
       "Df Residuals:                   10884   BIC:                         1.423e+05\n",
       "Df Model:                           1                                         \n",
       "Covariance Type:            nonrobust                                         \n",
       "==============================================================================\n",
       "                 coef    std err          t      P>|t|      [0.025      0.975]\n",
       "------------------------------------------------------------------------------\n",
       "const          6.0523      4.439      1.363      0.173      -2.649      14.754\n",
       "temp           9.1704      0.205     44.784      0.000       8.769       9.572\n",
       "==============================================================================\n",
       "Omnibus:                     1871.808   Durbin-Watson:                   0.369\n",
       "Prob(Omnibus):                  0.000   Jarque-Bera (JB):             3222.277\n",
       "Skew:                           1.123   Prob(JB):                         0.00\n",
       "Kurtosis:                       4.434   Cond. No.                         60.4\n",
       "==============================================================================\n",
       "\n",
       "Notes:\n",
       "[1] Standard Errors assume that the covariance matrix of the errors is correctly specified.\n",
       "\"\"\""
      ]
     },
     "execution_count": 13,
     "metadata": {},
     "output_type": "execute_result"
    }
   ],
   "source": [
    "### GRADED\n",
    "### YOUR SOLUTION HERE\n",
    "\n",
    "import statsmodels.api as sm\n",
    "\n",
    "X = bikes['temp']\n",
    "Y = bikes['count']\n",
    "\n",
    "X = sm.add_constant(X)\n",
    "\n",
    "count_model = sm.OLS(Y, X).fit()\n",
    "count_model.summary()\n",
    "\n",
    "\n",
    "###\n",
    "### YOUR CODE HERE\n",
    "###\n"
   ]
  },
  {
   "cell_type": "code",
   "execution_count": 14,
   "metadata": {
    "deletable": false,
    "editable": false,
    "nbgrader": {
     "grade": true,
     "grade_id": "Question 05",
     "locked": true,
     "points": "15",
     "solution": false
    }
   },
   "outputs": [],
   "source": [
    "###\n",
    "### AUTOGRADER TEST - DO NOT REMOVE\n",
    "###\n"
   ]
  },
  {
   "cell_type": "markdown",
   "metadata": {
    "deletable": false,
    "editable": false,
    "nbgrader": {
     "grade": false,
     "locked": true,
     "solution": false
    }
   },
   "source": [
    "## Question 6\n",
    "\n",
    "Using the dataframe `bikes` from above, use the statsmodel library to perform a simple linear regression using the variables `temp` and `humidity` to predict the variable `casual`. Save your model in a variable called `casual_model`. \n",
    "\n",
    "**Hint**: Remember to add a constant that will work as the Bias or Y-intercept. Use the `sm.OLS()` method."
   ]
  },
  {
   "cell_type": "markdown",
   "metadata": {},
   "source": [
    "X = dataframe[[\"column1\", \"column2\"]]\n",
    "Import to use two variables"
   ]
  },
  {
   "cell_type": "code",
   "execution_count": 15,
   "metadata": {},
   "outputs": [
    {
     "name": "stdout",
     "output_type": "stream",
     "text": [
      "<statsmodels.regression.linear_model.RegressionResultsWrapper object at 0x7fc0c0045580>\n"
     ]
    }
   ],
   "source": [
    "### GRADED\n",
    "### YOUR SOLUTION HERE\n",
    "casual_model = None\n",
    "\n",
    "\n",
    "X = bikes[['temp', 'humidity']]\n",
    "Y = bikes['casual']\n",
    "\n",
    "X = sm.add_constant(X)\n",
    "\n",
    "casual_model = sm.OLS(Y, X).fit()\n",
    "casual_model.summary()\n",
    "\n",
    "\n",
    "###\n",
    "### YOUR CODE HERE\n",
    "###\n",
    "print(casual_model)"
   ]
  },
  {
   "cell_type": "code",
   "execution_count": 16,
   "metadata": {
    "deletable": false,
    "editable": false,
    "nbgrader": {
     "grade": true,
     "grade_id": "Question 06",
     "locked": true,
     "points": "10",
     "solution": false
    }
   },
   "outputs": [],
   "source": [
    "###\n",
    "### AUTOGRADER TEST - DO NOT REMOVE\n",
    "###\n"
   ]
  },
  {
   "cell_type": "markdown",
   "metadata": {
    "deletable": false,
    "editable": false,
    "nbgrader": {
     "grade": false,
     "locked": true,
     "solution": false
    }
   },
   "source": [
    "## Question 7\n",
    "\n",
    "Using the dataframe `bikes` from above, use the statsmodel library to perform a multiple linear regression using the variables `temp`, `humidity`, `season` and `holiday` to predict the variable `count`. Save your model in a variable called `model_multiple`.\n",
    "\n",
    "**Hint**: Remeber to add a constant that will work as the Bias or Y-intercept. Use the `sm.OLS()` method."
   ]
  },
  {
   "cell_type": "code",
   "execution_count": 17,
   "metadata": {},
   "outputs": [
    {
     "data": {
      "text/html": [
       "<table class=\"simpletable\">\n",
       "<caption>OLS Regression Results</caption>\n",
       "<tr>\n",
       "  <th>Dep. Variable:</th>          <td>count</td>      <th>  R-squared:         </th> <td>   0.258</td> \n",
       "</tr>\n",
       "<tr>\n",
       "  <th>Model:</th>                   <td>OLS</td>       <th>  Adj. R-squared:    </th> <td>   0.258</td> \n",
       "</tr>\n",
       "<tr>\n",
       "  <th>Method:</th>             <td>Least Squares</td>  <th>  F-statistic:       </th> <td>   945.5</td> \n",
       "</tr>\n",
       "<tr>\n",
       "  <th>Date:</th>             <td>Sun, 11 Aug 2024</td> <th>  Prob (F-statistic):</th>  <td>  0.00</td>  \n",
       "</tr>\n",
       "<tr>\n",
       "  <th>Time:</th>                 <td>19:39:01</td>     <th>  Log-Likelihood:    </th> <td> -70422.</td> \n",
       "</tr>\n",
       "<tr>\n",
       "  <th>No. Observations:</th>      <td> 10886</td>      <th>  AIC:               </th> <td>1.409e+05</td>\n",
       "</tr>\n",
       "<tr>\n",
       "  <th>Df Residuals:</th>          <td> 10881</td>      <th>  BIC:               </th> <td>1.409e+05</td>\n",
       "</tr>\n",
       "<tr>\n",
       "  <th>Df Model:</th>              <td>     4</td>      <th>                     </th>     <td> </td>    \n",
       "</tr>\n",
       "<tr>\n",
       "  <th>Covariance Type:</th>      <td>nonrobust</td>    <th>                     </th>     <td> </td>    \n",
       "</tr>\n",
       "</table>\n",
       "<table class=\"simpletable\">\n",
       "<tr>\n",
       "      <td></td>        <th>coef</th>     <th>std err</th>      <th>t</th>      <th>P>|t|</th>  <th>[0.025</th>    <th>0.975]</th>  \n",
       "</tr>\n",
       "<tr>\n",
       "  <th>const</th>    <td>  164.2718</td> <td>    6.709</td> <td>   24.487</td> <td> 0.000</td> <td>  151.122</td> <td>  177.422</td>\n",
       "</tr>\n",
       "<tr>\n",
       "  <th>temp</th>     <td>    7.8573</td> <td>    0.200</td> <td>   39.243</td> <td> 0.000</td> <td>    7.465</td> <td>    8.250</td>\n",
       "</tr>\n",
       "<tr>\n",
       "  <th>humidity</th> <td>   -3.0272</td> <td>    0.080</td> <td>  -37.952</td> <td> 0.000</td> <td>   -3.184</td> <td>   -2.871</td>\n",
       "</tr>\n",
       "<tr>\n",
       "  <th>season</th>   <td>   22.3278</td> <td>    1.421</td> <td>   15.708</td> <td> 0.000</td> <td>   19.542</td> <td>   25.114</td>\n",
       "</tr>\n",
       "<tr>\n",
       "  <th>holiday</th>  <td>   -9.6923</td> <td>    8.984</td> <td>   -1.079</td> <td> 0.281</td> <td>  -27.302</td> <td>    7.917</td>\n",
       "</tr>\n",
       "</table>\n",
       "<table class=\"simpletable\">\n",
       "<tr>\n",
       "  <th>Omnibus:</th>       <td>2099.893</td> <th>  Durbin-Watson:     </th> <td>   0.428</td>\n",
       "</tr>\n",
       "<tr>\n",
       "  <th>Prob(Omnibus):</th>  <td> 0.000</td>  <th>  Jarque-Bera (JB):  </th> <td>3986.031</td>\n",
       "</tr>\n",
       "<tr>\n",
       "  <th>Skew:</th>           <td> 1.189</td>  <th>  Prob(JB):          </th> <td>    0.00</td>\n",
       "</tr>\n",
       "<tr>\n",
       "  <th>Kurtosis:</th>       <td> 4.770</td>  <th>  Cond. No.          </th> <td>    407.</td>\n",
       "</tr>\n",
       "</table><br/><br/>Notes:<br/>[1] Standard Errors assume that the covariance matrix of the errors is correctly specified."
      ],
      "text/plain": [
       "<class 'statsmodels.iolib.summary.Summary'>\n",
       "\"\"\"\n",
       "                            OLS Regression Results                            \n",
       "==============================================================================\n",
       "Dep. Variable:                  count   R-squared:                       0.258\n",
       "Model:                            OLS   Adj. R-squared:                  0.258\n",
       "Method:                 Least Squares   F-statistic:                     945.5\n",
       "Date:                Sun, 11 Aug 2024   Prob (F-statistic):               0.00\n",
       "Time:                        19:39:01   Log-Likelihood:                -70422.\n",
       "No. Observations:               10886   AIC:                         1.409e+05\n",
       "Df Residuals:                   10881   BIC:                         1.409e+05\n",
       "Df Model:                           4                                         \n",
       "Covariance Type:            nonrobust                                         \n",
       "==============================================================================\n",
       "                 coef    std err          t      P>|t|      [0.025      0.975]\n",
       "------------------------------------------------------------------------------\n",
       "const        164.2718      6.709     24.487      0.000     151.122     177.422\n",
       "temp           7.8573      0.200     39.243      0.000       7.465       8.250\n",
       "humidity      -3.0272      0.080    -37.952      0.000      -3.184      -2.871\n",
       "season        22.3278      1.421     15.708      0.000      19.542      25.114\n",
       "holiday       -9.6923      8.984     -1.079      0.281     -27.302       7.917\n",
       "==============================================================================\n",
       "Omnibus:                     2099.893   Durbin-Watson:                   0.428\n",
       "Prob(Omnibus):                  0.000   Jarque-Bera (JB):             3986.031\n",
       "Skew:                           1.189   Prob(JB):                         0.00\n",
       "Kurtosis:                       4.770   Cond. No.                         407.\n",
       "==============================================================================\n",
       "\n",
       "Notes:\n",
       "[1] Standard Errors assume that the covariance matrix of the errors is correctly specified.\n",
       "\"\"\""
      ]
     },
     "execution_count": 17,
     "metadata": {},
     "output_type": "execute_result"
    }
   ],
   "source": [
    "### GRADED\n",
    "### YOUR SOLUTION HERE\n",
    "\n",
    "X = bikes[['temp', 'humidity', 'season','holiday']]\n",
    "Y = bikes['count']\n",
    "\n",
    "X = sm.add_constant(X)\n",
    "\n",
    "model_multiple = sm.OLS(Y, X).fit()\n",
    "model_multiple.summary()\n",
    "\n",
    "model_multiple.summary()\n",
    "\n",
    "###\n",
    "### YOUR CODE HERE\n",
    "###\n"
   ]
  },
  {
   "cell_type": "code",
   "execution_count": 18,
   "metadata": {
    "deletable": false,
    "editable": false,
    "nbgrader": {
     "grade": true,
     "grade_id": "Question 07",
     "locked": true,
     "points": "10",
     "solution": false
    }
   },
   "outputs": [],
   "source": [
    "###\n",
    "### AUTOGRADER TEST - DO NOT REMOVE\n",
    "###\n"
   ]
  },
  {
   "cell_type": "markdown",
   "metadata": {
    "deletable": false,
    "editable": false,
    "nbgrader": {
     "grade": false,
     "locked": true,
     "solution": false
    }
   },
   "source": [
    "## Question 8\n",
    "\n",
    "Using the dataframe `bikes` from above, use the scikit-learn library to perform a simple linear regression using only the variable `temp` to predict the variable `count`. Save your model in a variable called `model_sci`.\n",
    "\n",
    "Then save your intercept in a variable called `intercept_simple` and your coefficients in a variable called `coefs_simple`.\n",
    "\n",
    "**Hint**: Use the `linear_model.LinearRegression()` method."
   ]
  },
  {
   "cell_type": "code",
   "execution_count": 19,
   "metadata": {
    "nbgrader": {
     "grade": false,
     "locked": false,
     "solution": false
    }
   },
   "outputs": [],
   "source": [
    "### GRADED\n",
    "### YOUR SOLUTION HERE\n",
    "\n",
    "from sklearn import linear_model\n",
    "\n",
    "X = bikes[['temp']]\n",
    "Y = bikes['count']\n",
    "\n",
    "regr = linear_model.LinearRegression()\n",
    "regr.fit(X,Y)\n",
    "\n",
    "model_sci = regr\n",
    "intercept_simple = regr.intercept_\n",
    "coefs_simple = regr.coef_\n",
    "###\n",
    "### YOUR CODE HERE\n",
    "###"
   ]
  },
  {
   "cell_type": "code",
   "execution_count": 20,
   "metadata": {
    "deletable": false,
    "editable": false,
    "nbgrader": {
     "grade": true,
     "grade_id": "Question 08",
     "locked": true,
     "points": "15",
     "solution": false
    }
   },
   "outputs": [],
   "source": [
    "###\n",
    "### AUTOGRADER TEST - DO NOT REMOVE\n",
    "###\n"
   ]
  },
  {
   "cell_type": "markdown",
   "metadata": {
    "deletable": false,
    "editable": false,
    "nbgrader": {
     "grade": false,
     "locked": true,
     "solution": false
    }
   },
   "source": [
    "## Question 9\n",
    "\n",
    "Predict the value of `count` at `temp = 78`. Assign the result to `count_predict`."
   ]
  },
  {
   "cell_type": "markdown",
   "metadata": {},
   "source": [
    "model_sci.predict(ARGUMENT) "
   ]
  },
  {
   "cell_type": "code",
   "execution_count": 21,
   "metadata": {},
   "outputs": [
    {
     "data": {
      "image/png": "[encoded data removed]",
      "text/plain": [
       "<Figure size 640x480 with 1 Axes>"
      ]
     },
     "metadata": {},
     "output_type": "display_data"
    }
   ],
   "source": [
    "import seaborn as sns\n",
    "import matplotlib.pyplot as plt\n",
    "\n",
    "sns.regplot(x = X, y = Y, data = bikes, scatter_kws={\"color\": \"black\"}, line_kws={\"color\": \"red\"})\n",
    "\n",
    "plt.show()"
   ]
  },
  {
   "cell_type": "code",
   "execution_count": 22,
   "metadata": {},
   "outputs": [
    {
     "name": "stdout",
     "output_type": "stream",
     "text": [
      "[721.34719247]\n"
     ]
    },
    {
     "name": "stderr",
     "output_type": "stream",
     "text": [
      "/Users/dempseywade/opt/anaconda3/lib/python3.9/site-packages/sklearn/base.py:450: UserWarning: X does not have valid feature names, but LinearRegression was fitted with feature names\n",
      "  warnings.warn(\n"
     ]
    },
    {
     "data": {
      "text/plain": [
       "array([721.34719247])"
      ]
     },
     "execution_count": 22,
     "metadata": {},
     "output_type": "execute_result"
    }
   ],
   "source": [
    "### GRADED\n",
    "### YOUR SOLUTION HERE\n",
    "count_predict = model_sci.predict([[78]])\n",
    "print(78*regr.coef_ + regr.intercept_)\n",
    "\n",
    "count_predict\n",
    "###\n",
    "### YOUR CODE HERE\n",
    "###\n"
   ]
  },
  {
   "cell_type": "code",
   "execution_count": 23,
   "metadata": {
    "deletable": false,
    "editable": false,
    "nbgrader": {
     "grade": true,
     "grade_id": "Question 09",
     "locked": true,
     "points": "5",
     "solution": false
    }
   },
   "outputs": [],
   "source": [
    "###\n",
    "### AUTOGRADER TEST - DO NOT REMOVE\n",
    "###\n"
   ]
  },
  {
   "cell_type": "markdown",
   "metadata": {
    "deletable": false,
    "editable": false,
    "nbgrader": {
     "grade": false,
     "locked": true,
     "solution": false
    }
   },
   "source": [
    "## Question 10\n",
    "\n",
    "Using the dataframe `bikes` from above, use the scikit-learn library to perform a simple linear regression using only the variables `temp`, `humidity`, `season` and `holiday` to predict the variable `count`. Save your model in a variable called `model_sci_multi`.\n",
    "\n",
    "\n",
    "**Hint**: Use the `linear_model.LinearRegression()` method."
   ]
  },
  {
   "cell_type": "code",
   "execution_count": 24,
   "metadata": {},
   "outputs": [],
   "source": [
    "### GRADED\n",
    "### YOUR SOLUTION HERE\n",
    "\n",
    "X = bikes[['temp','humidity','season','holiday']]\n",
    "Y = bikes['count']\n",
    "\n",
    "rerg = linear_model.LinearRegression()\n",
    "regr.fit(X,Y)\n",
    "\n",
    "model_sci_multi = regr\n",
    "###\n",
    "### YOUR CODE HERE\n",
    "###\n"
   ]
  },
  {
   "cell_type": "code",
   "execution_count": 25,
   "metadata": {
    "deletable": false,
    "editable": false,
    "nbgrader": {
     "grade": true,
     "grade_id": "Question 10",
     "locked": true,
     "points": "10",
     "solution": false
    }
   },
   "outputs": [],
   "source": [
    "###\n",
    "### AUTOGRADER TEST - DO NOT REMOVE\n",
    "###\n"
   ]
  },
  {
   "cell_type": "markdown",
   "metadata": {
    "deletable": false,
    "editable": false,
    "nbgrader": {
     "grade": false,
     "locked": true,
     "solution": false
    }
   },
   "source": [
    "## Regression Evaluation Metrics\n",
    "\n",
    "\n",
    "Here are three common evaluation metrics for regression problems:\n",
    "\n",
    "**Mean Absolute Error** (MAE) is the mean of the absolute value of the errors:\n",
    "\n",
    "$$\\frac 1n\\sum_{i=1}^n|y_i-\\hat{y}_i|$$\n",
    "\n",
    "**Mean Squared Error** (MSE) is the mean of the squared errors:\n",
    "\n",
    "$$\\frac 1n\\sum_{i=1}^n(y_i-\\hat{y}_i)^2$$\n",
    "\n",
    "**Root Mean Squared Error** (RMSE) is the square root of the mean of the squared errors:\n",
    "\n",
    "$$\\sqrt{\\frac 1n\\sum_{i=1}^n(y_i-\\hat{y}_i)^2}$$\n",
    "\n",
    "Comparing these metrics:\n",
    "\n",
    "- **MAE** is the easiest to understand, because it's the average error.\n",
    "- **MSE** is more popular than MAE, because MSE \"punishes\" larger errors, which tends to be useful in the real world.\n",
    "- **RMSE** is even more popular than MSE, because RMSE is interpretable in the \"y\" units.\n",
    "\n",
    "All of these are **loss functions**, hence we want to minimize them."
   ]
  },
  {
   "cell_type": "markdown",
   "metadata": {
    "deletable": false,
    "editable": false,
    "nbgrader": {
     "grade": false,
     "locked": true,
     "solution": false
    }
   },
   "source": [
    "## Question 11\n",
    "\n",
    "Suppose a model has some true and some predicted values. Define the *true* values in a list called `x_true` which contains the following values: 10,20,35,60,87. Define the *predicted* values in a list called `x_pred` with entries: 14,22,38,79, 93.\n",
    "\n",
    "Using scikit-learn, compute the Mean Absolute Error (MAE). Assign the value to a variable called `mae`."
   ]
  },
  {
   "cell_type": "markdown",
   "metadata": {},
   "source": [
    "metrics.mean_absolute_error(ARGUMENTS) \n",
    "#related to x_true and x_pred"
   ]
  },
  {
   "cell_type": "code",
   "execution_count": 26,
   "metadata": {},
   "outputs": [
    {
     "data": {
      "text/plain": [
       "6.8"
      ]
     },
     "execution_count": 26,
     "metadata": {},
     "output_type": "execute_result"
    }
   ],
   "source": [
    "### GRADED\n",
    "### YOUR SOLUTION HERE\n",
    "x_true = [10,20,35,60,87]\n",
    "x_pred = [14,22,38,79,93]\n",
    "mae = metrics.mean_absolute_error(x_true, x_pred)\n",
    "\n",
    "mae\n",
    "###\n",
    "### YOUR CODE HERE\n",
    "###\n"
   ]
  },
  {
   "cell_type": "code",
   "execution_count": 27,
   "metadata": {
    "deletable": false,
    "editable": false,
    "nbgrader": {
     "grade": true,
     "grade_id": "Question 11",
     "locked": true,
     "points": "10",
     "solution": false
    }
   },
   "outputs": [],
   "source": [
    "###\n",
    "### AUTOGRADER TEST - DO NOT REMOVE\n",
    "###\n"
   ]
  },
  {
   "cell_type": "markdown",
   "metadata": {
    "deletable": false,
    "editable": false,
    "nbgrader": {
     "grade": false,
     "locked": true,
     "solution": false
    }
   },
   "source": [
    "## Question 12\n",
    "\n",
    "With the same previous true and predicted values, compute the Mean Squared Error (MSE). Assign the value to a variable called `mse`."
   ]
  },
  {
   "cell_type": "code",
   "execution_count": 28,
   "metadata": {},
   "outputs": [
    {
     "data": {
      "text/plain": [
       "85.2"
      ]
     },
     "execution_count": 28,
     "metadata": {},
     "output_type": "execute_result"
    }
   ],
   "source": [
    "### GRADED\n",
    "### YOUR SOLUTION HERE\n",
    "mse = metrics.mean_squared_error(x_true, x_pred)\n",
    "mse\n",
    "###\n",
    "### YOUR CODE HERE\n",
    "###\n"
   ]
  },
  {
   "cell_type": "code",
   "execution_count": 29,
   "metadata": {
    "deletable": false,
    "editable": false,
    "nbgrader": {
     "grade": true,
     "grade_id": "Question 12",
     "locked": true,
     "points": "5",
     "solution": false
    }
   },
   "outputs": [],
   "source": [
    "###\n",
    "### AUTOGRADER TEST - DO NOT REMOVE\n",
    "###\n"
   ]
  },
  {
   "cell_type": "markdown",
   "metadata": {
    "deletable": false,
    "editable": false,
    "nbgrader": {
     "grade": false,
     "locked": true,
     "solution": false
    }
   },
   "source": [
    "## Question 13\n",
    "\n",
    "With the same previous true and predicted values, compute the Root Mean Squared Error (RMSE). Assign the value to a variable called `rmse`."
   ]
  },
  {
   "cell_type": "code",
   "execution_count": 30,
   "metadata": {},
   "outputs": [
    {
     "data": {
      "text/plain": [
       "9.23038460737146"
      ]
     },
     "execution_count": 30,
     "metadata": {},
     "output_type": "execute_result"
    }
   ],
   "source": [
    "### GRADED\n",
    "### YOUR SOLUTION HERE\n",
    "import math\n",
    "rmse = math.sqrt(metrics.mean_squared_error(x_true, x_pred))\n",
    "rmse\n",
    "###\n",
    "### YOUR CODE HERE\n",
    "###\n"
   ]
  },
  {
   "cell_type": "code",
   "execution_count": 31,
   "metadata": {
    "deletable": false,
    "editable": false,
    "nbgrader": {
     "grade": true,
     "grade_id": "Question 13",
     "locked": true,
     "points": "5",
     "solution": false
    }
   },
   "outputs": [],
   "source": [
    "###\n",
    "### AUTOGRADER TEST - DO NOT REMOVE\n",
    "###\n"
   ]
  }
 ],
 "metadata": {
  "kernelspec": {
   "display_name": "Python 3 (ipykernel)",
   "language": "python",
   "name": "python3"
  },
  "language_info": {
   "codemirror_mode": {
    "name": "ipython",
    "version": 3
   },
   "file_extension": ".py",
   "mimetype": "text/x-python",
   "name": "python",
   "nbconvert_exporter": "python",
   "pygments_lexer": "ipython3",
   "version": "3.9.13"
  },
  "nbTranslate": {
   "displayLangs": [
    "*"
   ],
   "hotkey": "alt-t",
   "langInMainMenu": true,
   "sourceLang": "en",
   "targetLang": "fr",
   "useGoogleTranslate": true
  }
 },
 "nbformat": 4,
 "nbformat_minor": 4
}
